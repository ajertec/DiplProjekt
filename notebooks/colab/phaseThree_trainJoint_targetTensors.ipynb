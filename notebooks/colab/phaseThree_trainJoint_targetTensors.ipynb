{
  "nbformat": 4,
  "nbformat_minor": 0,
  "metadata": {
    "colab": {
      "name": "phaseThree_joint_tt.ipynb",
      "version": "0.3.2",
      "provenance": [],
      "collapsed_sections": []
    },
    "kernelspec": {
      "name": "python3",
      "display_name": "Python 3"
    },
    "accelerator": "GPU"
  },
  "cells": [
    {
      "metadata": {
        "id": "o7g1u4ZCDp8d",
        "colab_type": "code",
        "outputId": "e02447a2-5207-468f-c7c3-212b33409152",
        "colab": {
          "base_uri": "https://localhost:8080/",
          "height": 35
        }
      },
      "cell_type": "code",
      "source": [
        "# Load the Drive helper and mount\n",
        "from google.colab import drive\n",
        "\n",
        "# This will prompt for authorization.\n",
        "drive.mount('/content/drive', force_remount=True)"
      ],
      "execution_count": 1,
      "outputs": [
        {
          "output_type": "stream",
          "text": [
            "Mounted at /content/drive\n"
          ],
          "name": "stdout"
        }
      ]
    },
    {
      "metadata": {
        "id": "xfd7IIlbDwtW",
        "colab_type": "code",
        "outputId": "6b6494e4-59f9-420a-be79-49f706a61ec1",
        "colab": {
          "base_uri": "https://localhost:8080/",
          "height": 35
        }
      },
      "cell_type": "code",
      "source": [
        "!ls"
      ],
      "execution_count": 2,
      "outputs": [
        {
          "output_type": "stream",
          "text": [
            "drive  sample_data\n"
          ],
          "name": "stdout"
        }
      ]
    },
    {
      "metadata": {
        "id": "13JALIuLEFgj",
        "colab_type": "code",
        "outputId": "733578c4-01ff-4418-d95b-0d9cbdbf8790",
        "colab": {
          "base_uri": "https://localhost:8080/",
          "height": 35
        }
      },
      "cell_type": "code",
      "source": [
        "cd /content/drive/My Drive"
      ],
      "execution_count": 3,
      "outputs": [
        {
          "output_type": "stream",
          "text": [
            "/content/drive/My Drive\n"
          ],
          "name": "stdout"
        }
      ]
    },
    {
      "metadata": {
        "id": "gb3fEC-AEJ0E",
        "colab_type": "code",
        "outputId": "b8967c11-b4c1-43ab-9c6c-ed1dcc31a441",
        "colab": {
          "base_uri": "https://localhost:8080/",
          "height": 35
        }
      },
      "cell_type": "code",
      "source": [
        "!pwd"
      ],
      "execution_count": 4,
      "outputs": [
        {
          "output_type": "stream",
          "text": [
            "/content/drive/My Drive\n"
          ],
          "name": "stdout"
        }
      ]
    },
    {
      "metadata": {
        "id": "thwrfa-RELGl",
        "colab_type": "code",
        "outputId": "8fb0c88b-d008-44a5-b2b5-12a0c0d0c6ed",
        "colab": {
          "base_uri": "https://localhost:8080/",
          "height": 124
        }
      },
      "cell_type": "code",
      "source": [
        "!ls"
      ],
      "execution_count": 5,
      "outputs": [
        {
          "output_type": "stream",
          "text": [
            "autoencoder8.h5\t\t\t  phaseThree_joint_TPU.ipynb\n",
            "embeddings_all_list.npy\t\t  phaseThree_joint_tt.ipynb\n",
            "hdf5\t\t\t\t  phaseTwo_generateEmbeddings.ipynb\n",
            "mobile_regress_5.h5\t\t  phaseTwo_ImageNet.ipynb\n",
            "phaseOne_Autoencoder.ipynb\t  phaseTwo_ImageNet_mobile_6final.ipynb\n",
            "phaseThree_joint_model_GPU.ipynb\n"
          ],
          "name": "stdout"
        }
      ]
    },
    {
      "metadata": {
        "id": "StOuvWXiEMbU",
        "colab_type": "code",
        "colab": {}
      },
      "cell_type": "code",
      "source": [
        "!pip install -q keras"
      ],
      "execution_count": 0,
      "outputs": []
    },
    {
      "metadata": {
        "id": "rRQaElE3EWdj",
        "colab_type": "code",
        "outputId": "967e9cc2-2aa1-4341-f457-2b18a1fa4fe0",
        "colab": {
          "base_uri": "https://localhost:8080/",
          "height": 35
        }
      },
      "cell_type": "code",
      "source": [
        "import tensorflow as tf\n",
        "tf.test.gpu_device_name()"
      ],
      "execution_count": 7,
      "outputs": [
        {
          "output_type": "execute_result",
          "data": {
            "text/plain": [
              "'/device:GPU:0'"
            ]
          },
          "metadata": {
            "tags": []
          },
          "execution_count": 7
        }
      ]
    },
    {
      "metadata": {
        "id": "X1oGZCK-EdVu",
        "colab_type": "code",
        "outputId": "e5c2d17d-64a2-43f0-8c09-a9d174307cb2",
        "colab": {
          "base_uri": "https://localhost:8080/",
          "height": 497
        }
      },
      "cell_type": "code",
      "source": [
        "from tensorflow.python.client import device_lib\n",
        "device_lib.list_local_devices()"
      ],
      "execution_count": 8,
      "outputs": [
        {
          "output_type": "execute_result",
          "data": {
            "text/plain": [
              "[name: \"/device:CPU:0\"\n",
              " device_type: \"CPU\"\n",
              " memory_limit: 268435456\n",
              " locality {\n",
              " }\n",
              " incarnation: 17008949960344674941, name: \"/device:XLA_CPU:0\"\n",
              " device_type: \"XLA_CPU\"\n",
              " memory_limit: 17179869184\n",
              " locality {\n",
              " }\n",
              " incarnation: 8710268992257767959\n",
              " physical_device_desc: \"device: XLA_CPU device\", name: \"/device:XLA_GPU:0\"\n",
              " device_type: \"XLA_GPU\"\n",
              " memory_limit: 17179869184\n",
              " locality {\n",
              " }\n",
              " incarnation: 2249564304701388109\n",
              " physical_device_desc: \"device: XLA_GPU device\", name: \"/device:GPU:0\"\n",
              " device_type: \"GPU\"\n",
              " memory_limit: 11281553818\n",
              " locality {\n",
              "   bus_id: 1\n",
              "   links {\n",
              "   }\n",
              " }\n",
              " incarnation: 3694136865015978558\n",
              " physical_device_desc: \"device: 0, name: Tesla K80, pci bus id: 0000:00:04.0, compute capability: 3.7\"]"
            ]
          },
          "metadata": {
            "tags": []
          },
          "execution_count": 8
        }
      ]
    },
    {
      "metadata": {
        "id": "SYc0RgVWEp2p",
        "colab_type": "text"
      },
      "cell_type": "markdown",
      "source": [
        "# **Joint model**"
      ]
    },
    {
      "metadata": {
        "id": "54_j70mr7G_8",
        "colab_type": "code",
        "colab": {}
      },
      "cell_type": "code",
      "source": [
        "import matplotlib.pyplot as plt\n",
        "from mpl_toolkits.mplot3d import Axes3D"
      ],
      "execution_count": 0,
      "outputs": []
    },
    {
      "metadata": {
        "id": "Tj6fh2CTEuMt",
        "colab_type": "code",
        "outputId": "44d96b15-5e38-4d19-afc2-552557130898",
        "colab": {
          "base_uri": "https://localhost:8080/",
          "height": 35
        }
      },
      "cell_type": "code",
      "source": [
        "import numpy as np\n",
        "import pandas as pd\n",
        "\n",
        "\n",
        "from keras.models import Sequential, Model, load_model\n",
        "from keras.layers.core import Dense, Activation, Flatten\n",
        "from keras.layers.embeddings import Embedding\n",
        "from keras.layers.recurrent import LSTM\n",
        "from keras.layers import Conv3D, Conv3DTranspose, Conv2D, Conv1D, MaxPooling1D, MaxPooling2D, Input, BatchNormalization, Dropout, Lambda, Bidirectional\n",
        "from keras.layers import CuDNNLSTM, Reshape, PReLU, ZeroPadding2D, average\n",
        "from keras.layers.merge import concatenate\n",
        "from keras.optimizers import RMSprop, Adam, SGD\n",
        "from keras.models import load_model\n",
        "from keras.callbacks import Callback\n",
        "from keras.utils import plot_model\n",
        "\n",
        "from keras.preprocessing import image\n",
        "import keras.backend as K\n",
        "\n",
        "import matplotlib.pyplot as plt\n",
        "\n",
        "import time \n",
        "import tensorflow as tf\n",
        "from sklearn import metrics\n",
        "import pickle\n",
        "import os\n",
        "import scipy.io as sio\n",
        "\n",
        "import keras\n",
        "\n",
        "import sklearn"
      ],
      "execution_count": 10,
      "outputs": [
        {
          "output_type": "stream",
          "text": [
            "Using TensorFlow backend.\n"
          ],
          "name": "stderr"
        }
      ]
    },
    {
      "metadata": {
        "id": "KrzJY3iCNkZu",
        "colab_type": "code",
        "colab": {}
      },
      "cell_type": "code",
      "source": [
        "import PIL"
      ],
      "execution_count": 0,
      "outputs": []
    },
    {
      "metadata": {
        "id": "47x0P8qWz4Nu",
        "colab_type": "code",
        "colab": {}
      },
      "cell_type": "code",
      "source": [
        "#from google.colab import files\n",
        "#files.download(\"embeddings.npy\")"
      ],
      "execution_count": 0,
      "outputs": []
    },
    {
      "metadata": {
        "id": "ih69JsZtLrAp",
        "colab_type": "code",
        "colab": {}
      },
      "cell_type": "code",
      "source": [
        "\n",
        "np.random.seed(5)\n",
        "tf.set_random_seed(5)"
      ],
      "execution_count": 0,
      "outputs": []
    },
    {
      "metadata": {
        "id": "HpYyipkx18Xk",
        "colab_type": "code",
        "colab": {}
      },
      "cell_type": "code",
      "source": [
        "\n",
        "from keras.applications.mobilenet_v2 import MobileNetV2, preprocess_input"
      ],
      "execution_count": 0,
      "outputs": []
    },
    {
      "metadata": {
        "id": "-p6ixXbk2-ei",
        "colab_type": "code",
        "colab": {}
      },
      "cell_type": "code",
      "source": [
        "import h5py"
      ],
      "execution_count": 0,
      "outputs": []
    },
    {
      "metadata": {
        "id": "6gYyr6qJGGDa",
        "colab_type": "code",
        "colab": {}
      },
      "cell_type": "code",
      "source": [
        "def precision(y_true, y_pred):\n",
        "    \"\"\"Precision metric.\n",
        "    Only computes a batch-wise average of precision.\n",
        "    Computes the precision, a metric for multi-label classification of\n",
        "    how many selected items are relevant.\n",
        "    \"\"\"\n",
        "    true_positives = K.sum(K.round(K.clip(y_true * y_pred, 0, 1)))\n",
        "    predicted_positives = K.sum(K.round(K.clip(y_pred, 0, 1)))\n",
        "    precision = true_positives / (predicted_positives + K.epsilon())\n",
        "    return precision"
      ],
      "execution_count": 0,
      "outputs": []
    },
    {
      "metadata": {
        "id": "_VYTSz4GW51u",
        "colab_type": "code",
        "colab": {}
      },
      "cell_type": "code",
      "source": [
        " # loss func\n",
        "def euclidean_distance_loss(y_true, y_pred): \n",
        "    \"\"\" Euclidean distance loss https://en.wikipedia.org/wiki/Euclidean_distance \n",
        "    :param y_true: TensorFlow/Theano tensor \n",
        "    :param y_pred: TensorFlow/Theano tensor of the same shape as y_true :return: float \"\"\" \n",
        "    return K.sqrt(K.sum(K.square(y_pred - y_true), axis=-1))"
      ],
      "execution_count": 0,
      "outputs": []
    },
    {
      "metadata": {
        "id": "4Us9kYR35iE1",
        "colab_type": "code",
        "outputId": "61afbbe8-c22c-45cd-9274-da1a3b3d2b72",
        "colab": {
          "base_uri": "https://localhost:8080/",
          "height": 35
        }
      },
      "cell_type": "code",
      "source": [
        "len(os.listdir(\"/content/drive/My Drive/hdf5\"))"
      ],
      "execution_count": 18,
      "outputs": [
        {
          "output_type": "execute_result",
          "data": {
            "text/plain": [
              "101"
            ]
          },
          "metadata": {
            "tags": []
          },
          "execution_count": 18
        }
      ]
    },
    {
      "metadata": {
        "id": "xtqbfDUu9CCe",
        "colab_type": "code",
        "colab": {}
      },
      "cell_type": "code",
      "source": [
        "class DataGeneratorJoint(keras.utils.Sequence):\n",
        "    'Generates data for Keras'\n",
        "    def __init__(self, filepath, list_batches, batch_size=1, shuffle=True):\n",
        "        'Initialization'\n",
        "        self.filepath = filepath\n",
        "        self.list_batches = list_batches\n",
        "        self.batch_size = batch_size\n",
        "        self.shuffle = shuffle\n",
        "        self.on_epoch_end()\n",
        "        \n",
        "\n",
        "    def __len__(self):\n",
        "        'Denotes the number of batches per epoch'\n",
        "        return len(self.list_batches)\n",
        "\n",
        "    def __getitem__(self, index):\n",
        "        'Generate one batch of data'\n",
        "        # Generate indexes of the batch\n",
        "        indexes = self.indexes[index*self.batch_size:(index+1)*self.batch_size]\n",
        "\n",
        "        # Find list of IDs\n",
        "        list_batches_temp = [self.list_batches[k] for k in indexes]\n",
        "        \n",
        "        # Generate data\n",
        "        images, voxels = self.__data_generation(list_batches_temp, indexes)\n",
        "\n",
        "        return [voxels, images], voxels\n",
        "    \n",
        "    def on_epoch_end(self):\n",
        "        'Updates indexes after each epoch'\n",
        "        self.indexes = np.arange(len(self.list_batches))\n",
        "        if self.shuffle == True:\n",
        "            np.random.shuffle(self.indexes)\n",
        "            \n",
        "            \n",
        "    def __data_generation(self, list_batches_temp, indexes):\n",
        "        'Generates data containing batch_size samples' \n",
        "        # Initialization\n",
        "        with h5py.File(self.filepath+\"/\"+list_batches_temp[0]) as f:\n",
        "            images = np.swapaxes(f['data'].value, 1, 3)\n",
        "            voxels = np.swapaxes(f[\"label-voxel\"].value, 1, 4)\n",
        "\n",
        "        max_min_mean = ( images.max() + images.min() ) / 2\n",
        "        images = (images - max_min_mean) / (images.max() - max_min_mean)  # scaling image pixels to range  -1 to 1\n",
        "\n",
        "        images, voxels = sklearn.utils.shuffle(images, voxels) # shuffle within the batch itself\n",
        "        \n",
        "        return images[:, 1:225, 1:225, :], voxels"
      ],
      "execution_count": 0,
      "outputs": []
    },
    {
      "metadata": {
        "id": "D6BhybJFuWTT",
        "colab_type": "code",
        "outputId": "4b6f0e46-1454-4a5d-b68a-a8cc723a615f",
        "colab": {
          "base_uri": "https://localhost:8080/",
          "height": 1812
        }
      },
      "cell_type": "code",
      "source": [
        "listdir = os.listdir(\"/content/drive/My Drive/hdf5\")\n",
        "\n",
        "import re\n",
        "def sorted_aphanumeric(data):\n",
        "    convert = lambda text: int(text) if text.isdigit() else text.lower()\n",
        "    alphanum_key = lambda key: [ convert(c) for c in re.split('([0-9]+)', key) ] \n",
        "    return sorted(data, key=alphanum_key)\n",
        "  \n",
        "listdir_sorted = sorted_aphanumeric(listdir)\n",
        "listdir_sorted"
      ],
      "execution_count": 21,
      "outputs": [
        {
          "output_type": "execute_result",
          "data": {
            "text/plain": [
              "['batch_0.h5',\n",
              " 'batch_1.h5',\n",
              " 'batch_2.h5',\n",
              " 'batch_3.h5',\n",
              " 'batch_4.h5',\n",
              " 'batch_5.h5',\n",
              " 'batch_6.h5',\n",
              " 'batch_7.h5',\n",
              " 'batch_8.h5',\n",
              " 'batch_9.h5',\n",
              " 'batch_10.h5',\n",
              " 'batch_11.h5',\n",
              " 'batch_12.h5',\n",
              " 'batch_13.h5',\n",
              " 'batch_14.h5',\n",
              " 'batch_15.h5',\n",
              " 'batch_16.h5',\n",
              " 'batch_17.h5',\n",
              " 'batch_18.h5',\n",
              " 'batch_19.h5',\n",
              " 'batch_20.h5',\n",
              " 'batch_21.h5',\n",
              " 'batch_22.h5',\n",
              " 'batch_23.h5',\n",
              " 'batch_24.h5',\n",
              " 'batch_25.h5',\n",
              " 'batch_26.h5',\n",
              " 'batch_27.h5',\n",
              " 'batch_28.h5',\n",
              " 'batch_29.h5',\n",
              " 'batch_30.h5',\n",
              " 'batch_31.h5',\n",
              " 'batch_32.h5',\n",
              " 'batch_33.h5',\n",
              " 'batch_34.h5',\n",
              " 'batch_35.h5',\n",
              " 'batch_36.h5',\n",
              " 'batch_37.h5',\n",
              " 'batch_38.h5',\n",
              " 'batch_39.h5',\n",
              " 'batch_40.h5',\n",
              " 'batch_41.h5',\n",
              " 'batch_42.h5',\n",
              " 'batch_43.h5',\n",
              " 'batch_44.h5',\n",
              " 'batch_45.h5',\n",
              " 'batch_46.h5',\n",
              " 'batch_47.h5',\n",
              " 'batch_48.h5',\n",
              " 'batch_49.h5',\n",
              " 'batch_50.h5',\n",
              " 'batch_51.h5',\n",
              " 'batch_52.h5',\n",
              " 'batch_53.h5',\n",
              " 'batch_54.h5',\n",
              " 'batch_55.h5',\n",
              " 'batch_56.h5',\n",
              " 'batch_57.h5',\n",
              " 'batch_58.h5',\n",
              " 'batch_59.h5',\n",
              " 'batch_60.h5',\n",
              " 'batch_61.h5',\n",
              " 'batch_62.h5',\n",
              " 'batch_63.h5',\n",
              " 'batch_64.h5',\n",
              " 'batch_65.h5',\n",
              " 'batch_66.h5',\n",
              " 'batch_67.h5',\n",
              " 'batch_68.h5',\n",
              " 'batch_69.h5',\n",
              " 'batch_70.h5',\n",
              " 'batch_71.h5',\n",
              " 'batch_72.h5',\n",
              " 'batch_73.h5',\n",
              " 'batch_74.h5',\n",
              " 'batch_75.h5',\n",
              " 'batch_76.h5',\n",
              " 'batch_77.h5',\n",
              " 'batch_78.h5',\n",
              " 'batch_79.h5',\n",
              " 'batch_80.h5',\n",
              " 'batch_81.h5',\n",
              " 'batch_82.h5',\n",
              " 'batch_83.h5',\n",
              " 'batch_84.h5',\n",
              " 'batch_85.h5',\n",
              " 'batch_86.h5',\n",
              " 'batch_87.h5',\n",
              " 'batch_88.h5',\n",
              " 'batch_89.h5',\n",
              " 'batch_90.h5',\n",
              " 'batch_91.h5',\n",
              " 'batch_92.h5',\n",
              " 'batch_93.h5',\n",
              " 'batch_94.h5',\n",
              " 'batch_95.h5',\n",
              " 'batch_96.h5',\n",
              " 'batch_97.h5',\n",
              " 'batch_98.h5',\n",
              " 'batch_99.h5',\n",
              " 'batch_100.h5']"
            ]
          },
          "metadata": {
            "tags": []
          },
          "execution_count": 21
        }
      ]
    },
    {
      "metadata": {
        "id": "lz9mGmnvCTp6",
        "colab_type": "code",
        "colab": {}
      },
      "cell_type": "code",
      "source": [
        "training_generator = DataGeneratorJoint(filepath = \"/content/drive/My Drive/hdf5\",  list_batches = listdir_sorted)"
      ],
      "execution_count": 0,
      "outputs": []
    },
    {
      "metadata": {
        "id": "pRF2Mq9o7RnW",
        "colab_type": "code",
        "colab": {}
      },
      "cell_type": "code",
      "source": [
        ""
      ],
      "execution_count": 0,
      "outputs": []
    },
    {
      "metadata": {
        "id": "_77bPBXU2oWJ",
        "colab_type": "code",
        "colab": {}
      },
      "cell_type": "code",
      "source": [
        "def joint_model_tt():\n",
        "\n",
        "    \"\"\"Joint model 2 parallel models: autoencoder and convnet.\"\"\"\n",
        "\n",
        "    autoenc = load_model(\"autoencoder8.h5\", custom_objects = {\"precision\":precision})\n",
        "    \n",
        "    mobile_net = load_model(\"mobile_regress_5.h5\", custom_objects = {\"euclidean_distance_loss\":euclidean_distance_loss})\n",
        "    \n",
        "\n",
        "    joint_model = Model(inputs = [autoenc.input, mobile_net.input], outputs = [autoenc.output, mobile_net.output])\n",
        "    \n",
        "    # set lower conv layers in convnet to nontrainable\n",
        "    \n",
        "    print(\"Setting non-trainable layers...\")\n",
        "    for layer in joint_model.layers[:-44]:\n",
        "        print(layer.name)\n",
        "        layer.trainable = False\n",
        "\n",
        "    return joint_model"
      ],
      "execution_count": 0,
      "outputs": []
    },
    {
      "metadata": {
        "id": "Kh1p-MCAJAM_",
        "colab_type": "code",
        "outputId": "6384d8a6-d6cb-4ea5-cdc8-cdf4691776aa",
        "colab": {
          "base_uri": "https://localhost:8080/",
          "height": 9101
        }
      },
      "cell_type": "code",
      "source": [
        "joint_model = joint_model_tt()\n",
        "joint_model.summary()"
      ],
      "execution_count": 25,
      "outputs": [
        {
          "output_type": "stream",
          "text": [
            "Setting non-trainable layers...\n",
            "input_2\n",
            "Conv1_pad\n",
            "Conv1\n",
            "bn_Conv1\n",
            "Conv1_relu\n",
            "expanded_conv_depthwise\n",
            "expanded_conv_depthwise_BN\n",
            "expanded_conv_depthwise_relu\n",
            "expanded_conv_project\n",
            "expanded_conv_project_BN\n",
            "block_1_expand\n",
            "block_1_expand_BN\n",
            "block_1_expand_relu\n",
            "block_1_pad\n",
            "block_1_depthwise\n",
            "block_1_depthwise_BN\n",
            "block_1_depthwise_relu\n",
            "block_1_project\n",
            "block_1_project_BN\n",
            "block_2_expand\n",
            "block_2_expand_BN\n",
            "block_2_expand_relu\n",
            "block_2_depthwise\n",
            "block_2_depthwise_BN\n",
            "block_2_depthwise_relu\n",
            "block_2_project\n",
            "block_2_project_BN\n",
            "block_2_add\n",
            "block_3_expand\n",
            "block_3_expand_BN\n",
            "block_3_expand_relu\n",
            "block_3_pad\n",
            "block_3_depthwise\n",
            "block_3_depthwise_BN\n",
            "block_3_depthwise_relu\n",
            "block_3_project\n",
            "block_3_project_BN\n",
            "block_4_expand\n",
            "block_4_expand_BN\n",
            "block_4_expand_relu\n",
            "block_4_depthwise\n",
            "block_4_depthwise_BN\n",
            "block_4_depthwise_relu\n",
            "block_4_project\n",
            "block_4_project_BN\n",
            "block_4_add\n",
            "block_5_expand\n",
            "block_5_expand_BN\n",
            "block_5_expand_relu\n",
            "block_5_depthwise\n",
            "block_5_depthwise_BN\n",
            "block_5_depthwise_relu\n",
            "block_5_project\n",
            "block_5_project_BN\n",
            "block_5_add\n",
            "block_6_expand\n",
            "block_6_expand_BN\n",
            "block_6_expand_relu\n",
            "block_6_pad\n",
            "block_6_depthwise\n",
            "block_6_depthwise_BN\n",
            "block_6_depthwise_relu\n",
            "block_6_project\n",
            "block_6_project_BN\n",
            "block_7_expand\n",
            "block_7_expand_BN\n",
            "block_7_expand_relu\n",
            "block_7_depthwise\n",
            "block_7_depthwise_BN\n",
            "block_7_depthwise_relu\n",
            "block_7_project\n",
            "block_7_project_BN\n",
            "block_7_add\n",
            "block_8_expand\n",
            "block_8_expand_BN\n",
            "block_8_expand_relu\n",
            "block_8_depthwise\n",
            "block_8_depthwise_BN\n",
            "block_8_depthwise_relu\n",
            "block_8_project\n",
            "block_8_project_BN\n",
            "block_8_add\n",
            "block_9_expand\n",
            "block_9_expand_BN\n",
            "block_9_expand_relu\n",
            "block_9_depthwise\n",
            "block_9_depthwise_BN\n",
            "block_9_depthwise_relu\n",
            "block_9_project\n",
            "block_9_project_BN\n",
            "block_9_add\n",
            "block_10_expand\n",
            "block_10_expand_BN\n",
            "block_10_expand_relu\n",
            "block_10_depthwise\n",
            "block_10_depthwise_BN\n",
            "block_10_depthwise_relu\n",
            "block_10_project\n",
            "block_10_project_BN\n",
            "block_11_expand\n",
            "block_11_expand_BN\n",
            "block_11_expand_relu\n",
            "block_11_depthwise\n",
            "block_11_depthwise_BN\n",
            "block_11_depthwise_relu\n",
            "block_11_project\n",
            "block_11_project_BN\n",
            "block_11_add\n",
            "block_12_expand\n",
            "block_12_expand_BN\n",
            "block_12_expand_relu\n",
            "block_12_depthwise\n",
            "block_12_depthwise_BN\n",
            "block_12_depthwise_relu\n",
            "block_12_project\n",
            "block_12_project_BN\n",
            "block_12_add\n",
            "block_13_expand\n",
            "block_13_expand_BN\n",
            "block_13_expand_relu\n",
            "block_13_pad\n",
            "block_13_depthwise\n",
            "block_13_depthwise_BN\n",
            "block_13_depthwise_relu\n",
            "block_13_project\n",
            "block_13_project_BN\n",
            "block_14_expand\n",
            "block_14_expand_BN\n",
            "block_14_expand_relu\n",
            "block_14_depthwise\n",
            "block_14_depthwise_BN\n",
            "block_14_depthwise_relu\n",
            "block_14_project\n",
            "block_14_project_BN\n",
            "block_14_add\n",
            "__________________________________________________________________________________________________\n",
            "Layer (type)                    Output Shape         Param #     Connected to                     \n",
            "==================================================================================================\n",
            "input_2 (InputLayer)            (None, 224, 224, 3)  0                                            \n",
            "__________________________________________________________________________________________________\n",
            "Conv1_pad (ZeroPadding2D)       (None, 225, 225, 3)  0           input_2[0][0]                    \n",
            "__________________________________________________________________________________________________\n",
            "Conv1 (Conv2D)                  (None, 112, 112, 32) 864         Conv1_pad[0][0]                  \n",
            "__________________________________________________________________________________________________\n",
            "bn_Conv1 (BatchNormalization)   (None, 112, 112, 32) 128         Conv1[0][0]                      \n",
            "__________________________________________________________________________________________________\n",
            "Conv1_relu (ReLU)               (None, 112, 112, 32) 0           bn_Conv1[0][0]                   \n",
            "__________________________________________________________________________________________________\n",
            "expanded_conv_depthwise (Depthw (None, 112, 112, 32) 288         Conv1_relu[0][0]                 \n",
            "__________________________________________________________________________________________________\n",
            "expanded_conv_depthwise_BN (Bat (None, 112, 112, 32) 128         expanded_conv_depthwise[0][0]    \n",
            "__________________________________________________________________________________________________\n",
            "expanded_conv_depthwise_relu (R (None, 112, 112, 32) 0           expanded_conv_depthwise_BN[0][0] \n",
            "__________________________________________________________________________________________________\n",
            "expanded_conv_project (Conv2D)  (None, 112, 112, 16) 512         expanded_conv_depthwise_relu[0][0\n",
            "__________________________________________________________________________________________________\n",
            "expanded_conv_project_BN (Batch (None, 112, 112, 16) 64          expanded_conv_project[0][0]      \n",
            "__________________________________________________________________________________________________\n",
            "block_1_expand (Conv2D)         (None, 112, 112, 96) 1536        expanded_conv_project_BN[0][0]   \n",
            "__________________________________________________________________________________________________\n",
            "block_1_expand_BN (BatchNormali (None, 112, 112, 96) 384         block_1_expand[0][0]             \n",
            "__________________________________________________________________________________________________\n",
            "block_1_expand_relu (ReLU)      (None, 112, 112, 96) 0           block_1_expand_BN[0][0]          \n",
            "__________________________________________________________________________________________________\n",
            "block_1_pad (ZeroPadding2D)     (None, 113, 113, 96) 0           block_1_expand_relu[0][0]        \n",
            "__________________________________________________________________________________________________\n",
            "block_1_depthwise (DepthwiseCon (None, 56, 56, 96)   864         block_1_pad[0][0]                \n",
            "__________________________________________________________________________________________________\n",
            "block_1_depthwise_BN (BatchNorm (None, 56, 56, 96)   384         block_1_depthwise[0][0]          \n",
            "__________________________________________________________________________________________________\n",
            "block_1_depthwise_relu (ReLU)   (None, 56, 56, 96)   0           block_1_depthwise_BN[0][0]       \n",
            "__________________________________________________________________________________________________\n",
            "block_1_project (Conv2D)        (None, 56, 56, 24)   2304        block_1_depthwise_relu[0][0]     \n",
            "__________________________________________________________________________________________________\n",
            "block_1_project_BN (BatchNormal (None, 56, 56, 24)   96          block_1_project[0][0]            \n",
            "__________________________________________________________________________________________________\n",
            "block_2_expand (Conv2D)         (None, 56, 56, 144)  3456        block_1_project_BN[0][0]         \n",
            "__________________________________________________________________________________________________\n",
            "block_2_expand_BN (BatchNormali (None, 56, 56, 144)  576         block_2_expand[0][0]             \n",
            "__________________________________________________________________________________________________\n",
            "block_2_expand_relu (ReLU)      (None, 56, 56, 144)  0           block_2_expand_BN[0][0]          \n",
            "__________________________________________________________________________________________________\n",
            "block_2_depthwise (DepthwiseCon (None, 56, 56, 144)  1296        block_2_expand_relu[0][0]        \n",
            "__________________________________________________________________________________________________\n",
            "block_2_depthwise_BN (BatchNorm (None, 56, 56, 144)  576         block_2_depthwise[0][0]          \n",
            "__________________________________________________________________________________________________\n",
            "block_2_depthwise_relu (ReLU)   (None, 56, 56, 144)  0           block_2_depthwise_BN[0][0]       \n",
            "__________________________________________________________________________________________________\n",
            "block_2_project (Conv2D)        (None, 56, 56, 24)   3456        block_2_depthwise_relu[0][0]     \n",
            "__________________________________________________________________________________________________\n",
            "block_2_project_BN (BatchNormal (None, 56, 56, 24)   96          block_2_project[0][0]            \n",
            "__________________________________________________________________________________________________\n",
            "block_2_add (Add)               (None, 56, 56, 24)   0           block_1_project_BN[0][0]         \n",
            "                                                                 block_2_project_BN[0][0]         \n",
            "__________________________________________________________________________________________________\n",
            "block_3_expand (Conv2D)         (None, 56, 56, 144)  3456        block_2_add[0][0]                \n",
            "__________________________________________________________________________________________________\n",
            "block_3_expand_BN (BatchNormali (None, 56, 56, 144)  576         block_3_expand[0][0]             \n",
            "__________________________________________________________________________________________________\n",
            "block_3_expand_relu (ReLU)      (None, 56, 56, 144)  0           block_3_expand_BN[0][0]          \n",
            "__________________________________________________________________________________________________\n",
            "block_3_pad (ZeroPadding2D)     (None, 57, 57, 144)  0           block_3_expand_relu[0][0]        \n",
            "__________________________________________________________________________________________________\n",
            "block_3_depthwise (DepthwiseCon (None, 28, 28, 144)  1296        block_3_pad[0][0]                \n",
            "__________________________________________________________________________________________________\n",
            "block_3_depthwise_BN (BatchNorm (None, 28, 28, 144)  576         block_3_depthwise[0][0]          \n",
            "__________________________________________________________________________________________________\n",
            "block_3_depthwise_relu (ReLU)   (None, 28, 28, 144)  0           block_3_depthwise_BN[0][0]       \n",
            "__________________________________________________________________________________________________\n",
            "block_3_project (Conv2D)        (None, 28, 28, 32)   4608        block_3_depthwise_relu[0][0]     \n",
            "__________________________________________________________________________________________________\n",
            "block_3_project_BN (BatchNormal (None, 28, 28, 32)   128         block_3_project[0][0]            \n",
            "__________________________________________________________________________________________________\n",
            "block_4_expand (Conv2D)         (None, 28, 28, 192)  6144        block_3_project_BN[0][0]         \n",
            "__________________________________________________________________________________________________\n",
            "block_4_expand_BN (BatchNormali (None, 28, 28, 192)  768         block_4_expand[0][0]             \n",
            "__________________________________________________________________________________________________\n",
            "block_4_expand_relu (ReLU)      (None, 28, 28, 192)  0           block_4_expand_BN[0][0]          \n",
            "__________________________________________________________________________________________________\n",
            "block_4_depthwise (DepthwiseCon (None, 28, 28, 192)  1728        block_4_expand_relu[0][0]        \n",
            "__________________________________________________________________________________________________\n",
            "block_4_depthwise_BN (BatchNorm (None, 28, 28, 192)  768         block_4_depthwise[0][0]          \n",
            "__________________________________________________________________________________________________\n",
            "block_4_depthwise_relu (ReLU)   (None, 28, 28, 192)  0           block_4_depthwise_BN[0][0]       \n",
            "__________________________________________________________________________________________________\n",
            "block_4_project (Conv2D)        (None, 28, 28, 32)   6144        block_4_depthwise_relu[0][0]     \n",
            "__________________________________________________________________________________________________\n",
            "block_4_project_BN (BatchNormal (None, 28, 28, 32)   128         block_4_project[0][0]            \n",
            "__________________________________________________________________________________________________\n",
            "block_4_add (Add)               (None, 28, 28, 32)   0           block_3_project_BN[0][0]         \n",
            "                                                                 block_4_project_BN[0][0]         \n",
            "__________________________________________________________________________________________________\n",
            "block_5_expand (Conv2D)         (None, 28, 28, 192)  6144        block_4_add[0][0]                \n",
            "__________________________________________________________________________________________________\n",
            "block_5_expand_BN (BatchNormali (None, 28, 28, 192)  768         block_5_expand[0][0]             \n",
            "__________________________________________________________________________________________________\n",
            "block_5_expand_relu (ReLU)      (None, 28, 28, 192)  0           block_5_expand_BN[0][0]          \n",
            "__________________________________________________________________________________________________\n",
            "block_5_depthwise (DepthwiseCon (None, 28, 28, 192)  1728        block_5_expand_relu[0][0]        \n",
            "__________________________________________________________________________________________________\n",
            "block_5_depthwise_BN (BatchNorm (None, 28, 28, 192)  768         block_5_depthwise[0][0]          \n",
            "__________________________________________________________________________________________________\n",
            "block_5_depthwise_relu (ReLU)   (None, 28, 28, 192)  0           block_5_depthwise_BN[0][0]       \n",
            "__________________________________________________________________________________________________\n",
            "block_5_project (Conv2D)        (None, 28, 28, 32)   6144        block_5_depthwise_relu[0][0]     \n",
            "__________________________________________________________________________________________________\n",
            "block_5_project_BN (BatchNormal (None, 28, 28, 32)   128         block_5_project[0][0]            \n",
            "__________________________________________________________________________________________________\n",
            "block_5_add (Add)               (None, 28, 28, 32)   0           block_4_add[0][0]                \n",
            "                                                                 block_5_project_BN[0][0]         \n",
            "__________________________________________________________________________________________________\n",
            "block_6_expand (Conv2D)         (None, 28, 28, 192)  6144        block_5_add[0][0]                \n",
            "__________________________________________________________________________________________________\n",
            "block_6_expand_BN (BatchNormali (None, 28, 28, 192)  768         block_6_expand[0][0]             \n",
            "__________________________________________________________________________________________________\n",
            "block_6_expand_relu (ReLU)      (None, 28, 28, 192)  0           block_6_expand_BN[0][0]          \n",
            "__________________________________________________________________________________________________\n",
            "block_6_pad (ZeroPadding2D)     (None, 29, 29, 192)  0           block_6_expand_relu[0][0]        \n",
            "__________________________________________________________________________________________________\n",
            "block_6_depthwise (DepthwiseCon (None, 14, 14, 192)  1728        block_6_pad[0][0]                \n",
            "__________________________________________________________________________________________________\n",
            "block_6_depthwise_BN (BatchNorm (None, 14, 14, 192)  768         block_6_depthwise[0][0]          \n",
            "__________________________________________________________________________________________________\n",
            "block_6_depthwise_relu (ReLU)   (None, 14, 14, 192)  0           block_6_depthwise_BN[0][0]       \n",
            "__________________________________________________________________________________________________\n",
            "block_6_project (Conv2D)        (None, 14, 14, 64)   12288       block_6_depthwise_relu[0][0]     \n",
            "__________________________________________________________________________________________________\n",
            "block_6_project_BN (BatchNormal (None, 14, 14, 64)   256         block_6_project[0][0]            \n",
            "__________________________________________________________________________________________________\n",
            "block_7_expand (Conv2D)         (None, 14, 14, 384)  24576       block_6_project_BN[0][0]         \n",
            "__________________________________________________________________________________________________\n",
            "block_7_expand_BN (BatchNormali (None, 14, 14, 384)  1536        block_7_expand[0][0]             \n",
            "__________________________________________________________________________________________________\n",
            "block_7_expand_relu (ReLU)      (None, 14, 14, 384)  0           block_7_expand_BN[0][0]          \n",
            "__________________________________________________________________________________________________\n",
            "block_7_depthwise (DepthwiseCon (None, 14, 14, 384)  3456        block_7_expand_relu[0][0]        \n",
            "__________________________________________________________________________________________________\n",
            "block_7_depthwise_BN (BatchNorm (None, 14, 14, 384)  1536        block_7_depthwise[0][0]          \n",
            "__________________________________________________________________________________________________\n",
            "block_7_depthwise_relu (ReLU)   (None, 14, 14, 384)  0           block_7_depthwise_BN[0][0]       \n",
            "__________________________________________________________________________________________________\n",
            "block_7_project (Conv2D)        (None, 14, 14, 64)   24576       block_7_depthwise_relu[0][0]     \n",
            "__________________________________________________________________________________________________\n",
            "block_7_project_BN (BatchNormal (None, 14, 14, 64)   256         block_7_project[0][0]            \n",
            "__________________________________________________________________________________________________\n",
            "block_7_add (Add)               (None, 14, 14, 64)   0           block_6_project_BN[0][0]         \n",
            "                                                                 block_7_project_BN[0][0]         \n",
            "__________________________________________________________________________________________________\n",
            "block_8_expand (Conv2D)         (None, 14, 14, 384)  24576       block_7_add[0][0]                \n",
            "__________________________________________________________________________________________________\n",
            "block_8_expand_BN (BatchNormali (None, 14, 14, 384)  1536        block_8_expand[0][0]             \n",
            "__________________________________________________________________________________________________\n",
            "block_8_expand_relu (ReLU)      (None, 14, 14, 384)  0           block_8_expand_BN[0][0]          \n",
            "__________________________________________________________________________________________________\n",
            "block_8_depthwise (DepthwiseCon (None, 14, 14, 384)  3456        block_8_expand_relu[0][0]        \n",
            "__________________________________________________________________________________________________\n",
            "block_8_depthwise_BN (BatchNorm (None, 14, 14, 384)  1536        block_8_depthwise[0][0]          \n",
            "__________________________________________________________________________________________________\n",
            "block_8_depthwise_relu (ReLU)   (None, 14, 14, 384)  0           block_8_depthwise_BN[0][0]       \n",
            "__________________________________________________________________________________________________\n",
            "block_8_project (Conv2D)        (None, 14, 14, 64)   24576       block_8_depthwise_relu[0][0]     \n",
            "__________________________________________________________________________________________________\n",
            "block_8_project_BN (BatchNormal (None, 14, 14, 64)   256         block_8_project[0][0]            \n",
            "__________________________________________________________________________________________________\n",
            "block_8_add (Add)               (None, 14, 14, 64)   0           block_7_add[0][0]                \n",
            "                                                                 block_8_project_BN[0][0]         \n",
            "__________________________________________________________________________________________________\n",
            "block_9_expand (Conv2D)         (None, 14, 14, 384)  24576       block_8_add[0][0]                \n",
            "__________________________________________________________________________________________________\n",
            "block_9_expand_BN (BatchNormali (None, 14, 14, 384)  1536        block_9_expand[0][0]             \n",
            "__________________________________________________________________________________________________\n",
            "block_9_expand_relu (ReLU)      (None, 14, 14, 384)  0           block_9_expand_BN[0][0]          \n",
            "__________________________________________________________________________________________________\n",
            "block_9_depthwise (DepthwiseCon (None, 14, 14, 384)  3456        block_9_expand_relu[0][0]        \n",
            "__________________________________________________________________________________________________\n",
            "block_9_depthwise_BN (BatchNorm (None, 14, 14, 384)  1536        block_9_depthwise[0][0]          \n",
            "__________________________________________________________________________________________________\n",
            "block_9_depthwise_relu (ReLU)   (None, 14, 14, 384)  0           block_9_depthwise_BN[0][0]       \n",
            "__________________________________________________________________________________________________\n",
            "block_9_project (Conv2D)        (None, 14, 14, 64)   24576       block_9_depthwise_relu[0][0]     \n",
            "__________________________________________________________________________________________________\n",
            "block_9_project_BN (BatchNormal (None, 14, 14, 64)   256         block_9_project[0][0]            \n",
            "__________________________________________________________________________________________________\n",
            "block_9_add (Add)               (None, 14, 14, 64)   0           block_8_add[0][0]                \n",
            "                                                                 block_9_project_BN[0][0]         \n",
            "__________________________________________________________________________________________________\n",
            "block_10_expand (Conv2D)        (None, 14, 14, 384)  24576       block_9_add[0][0]                \n",
            "__________________________________________________________________________________________________\n",
            "block_10_expand_BN (BatchNormal (None, 14, 14, 384)  1536        block_10_expand[0][0]            \n",
            "__________________________________________________________________________________________________\n",
            "block_10_expand_relu (ReLU)     (None, 14, 14, 384)  0           block_10_expand_BN[0][0]         \n",
            "__________________________________________________________________________________________________\n",
            "block_10_depthwise (DepthwiseCo (None, 14, 14, 384)  3456        block_10_expand_relu[0][0]       \n",
            "__________________________________________________________________________________________________\n",
            "block_10_depthwise_BN (BatchNor (None, 14, 14, 384)  1536        block_10_depthwise[0][0]         \n",
            "__________________________________________________________________________________________________\n",
            "block_10_depthwise_relu (ReLU)  (None, 14, 14, 384)  0           block_10_depthwise_BN[0][0]      \n",
            "__________________________________________________________________________________________________\n",
            "block_10_project (Conv2D)       (None, 14, 14, 96)   36864       block_10_depthwise_relu[0][0]    \n",
            "__________________________________________________________________________________________________\n",
            "block_10_project_BN (BatchNorma (None, 14, 14, 96)   384         block_10_project[0][0]           \n",
            "__________________________________________________________________________________________________\n",
            "block_11_expand (Conv2D)        (None, 14, 14, 576)  55296       block_10_project_BN[0][0]        \n",
            "__________________________________________________________________________________________________\n",
            "block_11_expand_BN (BatchNormal (None, 14, 14, 576)  2304        block_11_expand[0][0]            \n",
            "__________________________________________________________________________________________________\n",
            "block_11_expand_relu (ReLU)     (None, 14, 14, 576)  0           block_11_expand_BN[0][0]         \n",
            "__________________________________________________________________________________________________\n",
            "block_11_depthwise (DepthwiseCo (None, 14, 14, 576)  5184        block_11_expand_relu[0][0]       \n",
            "__________________________________________________________________________________________________\n",
            "block_11_depthwise_BN (BatchNor (None, 14, 14, 576)  2304        block_11_depthwise[0][0]         \n",
            "__________________________________________________________________________________________________\n",
            "block_11_depthwise_relu (ReLU)  (None, 14, 14, 576)  0           block_11_depthwise_BN[0][0]      \n",
            "__________________________________________________________________________________________________\n",
            "block_11_project (Conv2D)       (None, 14, 14, 96)   55296       block_11_depthwise_relu[0][0]    \n",
            "__________________________________________________________________________________________________\n",
            "block_11_project_BN (BatchNorma (None, 14, 14, 96)   384         block_11_project[0][0]           \n",
            "__________________________________________________________________________________________________\n",
            "block_11_add (Add)              (None, 14, 14, 96)   0           block_10_project_BN[0][0]        \n",
            "                                                                 block_11_project_BN[0][0]        \n",
            "__________________________________________________________________________________________________\n",
            "block_12_expand (Conv2D)        (None, 14, 14, 576)  55296       block_11_add[0][0]               \n",
            "__________________________________________________________________________________________________\n",
            "block_12_expand_BN (BatchNormal (None, 14, 14, 576)  2304        block_12_expand[0][0]            \n",
            "__________________________________________________________________________________________________\n",
            "block_12_expand_relu (ReLU)     (None, 14, 14, 576)  0           block_12_expand_BN[0][0]         \n",
            "__________________________________________________________________________________________________\n",
            "block_12_depthwise (DepthwiseCo (None, 14, 14, 576)  5184        block_12_expand_relu[0][0]       \n",
            "__________________________________________________________________________________________________\n",
            "block_12_depthwise_BN (BatchNor (None, 14, 14, 576)  2304        block_12_depthwise[0][0]         \n",
            "__________________________________________________________________________________________________\n",
            "block_12_depthwise_relu (ReLU)  (None, 14, 14, 576)  0           block_12_depthwise_BN[0][0]      \n",
            "__________________________________________________________________________________________________\n",
            "block_12_project (Conv2D)       (None, 14, 14, 96)   55296       block_12_depthwise_relu[0][0]    \n",
            "__________________________________________________________________________________________________\n",
            "block_12_project_BN (BatchNorma (None, 14, 14, 96)   384         block_12_project[0][0]           \n",
            "__________________________________________________________________________________________________\n",
            "block_12_add (Add)              (None, 14, 14, 96)   0           block_11_add[0][0]               \n",
            "                                                                 block_12_project_BN[0][0]        \n",
            "__________________________________________________________________________________________________\n",
            "block_13_expand (Conv2D)        (None, 14, 14, 576)  55296       block_12_add[0][0]               \n",
            "__________________________________________________________________________________________________\n",
            "block_13_expand_BN (BatchNormal (None, 14, 14, 576)  2304        block_13_expand[0][0]            \n",
            "__________________________________________________________________________________________________\n",
            "block_13_expand_relu (ReLU)     (None, 14, 14, 576)  0           block_13_expand_BN[0][0]         \n",
            "__________________________________________________________________________________________________\n",
            "block_13_pad (ZeroPadding2D)    (None, 15, 15, 576)  0           block_13_expand_relu[0][0]       \n",
            "__________________________________________________________________________________________________\n",
            "block_13_depthwise (DepthwiseCo (None, 7, 7, 576)    5184        block_13_pad[0][0]               \n",
            "__________________________________________________________________________________________________\n",
            "block_13_depthwise_BN (BatchNor (None, 7, 7, 576)    2304        block_13_depthwise[0][0]         \n",
            "__________________________________________________________________________________________________\n",
            "block_13_depthwise_relu (ReLU)  (None, 7, 7, 576)    0           block_13_depthwise_BN[0][0]      \n",
            "__________________________________________________________________________________________________\n",
            "block_13_project (Conv2D)       (None, 7, 7, 160)    92160       block_13_depthwise_relu[0][0]    \n",
            "__________________________________________________________________________________________________\n",
            "block_13_project_BN (BatchNorma (None, 7, 7, 160)    640         block_13_project[0][0]           \n",
            "__________________________________________________________________________________________________\n",
            "block_14_expand (Conv2D)        (None, 7, 7, 960)    153600      block_13_project_BN[0][0]        \n",
            "__________________________________________________________________________________________________\n",
            "block_14_expand_BN (BatchNormal (None, 7, 7, 960)    3840        block_14_expand[0][0]            \n",
            "__________________________________________________________________________________________________\n",
            "block_14_expand_relu (ReLU)     (None, 7, 7, 960)    0           block_14_expand_BN[0][0]         \n",
            "__________________________________________________________________________________________________\n",
            "block_14_depthwise (DepthwiseCo (None, 7, 7, 960)    8640        block_14_expand_relu[0][0]       \n",
            "__________________________________________________________________________________________________\n",
            "block_14_depthwise_BN (BatchNor (None, 7, 7, 960)    3840        block_14_depthwise[0][0]         \n",
            "__________________________________________________________________________________________________\n",
            "block_14_depthwise_relu (ReLU)  (None, 7, 7, 960)    0           block_14_depthwise_BN[0][0]      \n",
            "__________________________________________________________________________________________________\n",
            "block_14_project (Conv2D)       (None, 7, 7, 160)    153600      block_14_depthwise_relu[0][0]    \n",
            "__________________________________________________________________________________________________\n",
            "block_14_project_BN (BatchNorma (None, 7, 7, 160)    640         block_14_project[0][0]           \n",
            "__________________________________________________________________________________________________\n",
            "block_14_add (Add)              (None, 7, 7, 160)    0           block_13_project_BN[0][0]        \n",
            "                                                                 block_14_project_BN[0][0]        \n",
            "__________________________________________________________________________________________________\n",
            "input_ac (InputLayer)           (None, 20, 20, 20, 1 0                                            \n",
            "__________________________________________________________________________________________________\n",
            "block_15_expand (Conv2D)        (None, 7, 7, 960)    153600      block_14_add[0][0]               \n",
            "__________________________________________________________________________________________________\n",
            "conv1_ac (Conv3D)               (None, 14, 14, 14, 9 33024       input_ac[0][0]                   \n",
            "__________________________________________________________________________________________________\n",
            "block_15_expand_BN (BatchNormal (None, 7, 7, 960)    3840        block_15_expand[0][0]            \n",
            "__________________________________________________________________________________________________\n",
            "p_re_lu_1 (PReLU)               (None, 14, 14, 14, 9 263424      conv1_ac[0][0]                   \n",
            "__________________________________________________________________________________________________\n",
            "block_15_expand_relu (ReLU)     (None, 7, 7, 960)    0           block_15_expand_BN[0][0]         \n",
            "__________________________________________________________________________________________________\n",
            "conv2_ac (Conv3D)               (None, 10, 10, 10, 2 3072256     p_re_lu_1[0][0]                  \n",
            "__________________________________________________________________________________________________\n",
            "block_15_depthwise (DepthwiseCo (None, 7, 7, 960)    8640        block_15_expand_relu[0][0]       \n",
            "__________________________________________________________________________________________________\n",
            "p_re_lu_2 (PReLU)               (None, 10, 10, 10, 2 256000      conv2_ac[0][0]                   \n",
            "__________________________________________________________________________________________________\n",
            "block_15_depthwise_BN (BatchNor (None, 7, 7, 960)    3840        block_15_depthwise[0][0]         \n",
            "__________________________________________________________________________________________________\n",
            "conv3_ac (Conv3D)               (None, 8, 8, 8, 384) 2654592     p_re_lu_2[0][0]                  \n",
            "__________________________________________________________________________________________________\n",
            "block_15_depthwise_relu (ReLU)  (None, 7, 7, 960)    0           block_15_depthwise_BN[0][0]      \n",
            "__________________________________________________________________________________________________\n",
            "p_re_lu_3 (PReLU)               (None, 8, 8, 8, 384) 196608      conv3_ac[0][0]                   \n",
            "__________________________________________________________________________________________________\n",
            "block_15_project (Conv2D)       (None, 7, 7, 160)    153600      block_15_depthwise_relu[0][0]    \n",
            "__________________________________________________________________________________________________\n",
            "conv4_ac (Conv3D)               (None, 6, 6, 6, 256) 2654464     p_re_lu_3[0][0]                  \n",
            "__________________________________________________________________________________________________\n",
            "block_15_project_BN (BatchNorma (None, 7, 7, 160)    640         block_15_project[0][0]           \n",
            "__________________________________________________________________________________________________\n",
            "p_re_lu_4 (PReLU)               (None, 6, 6, 6, 256) 55296       conv4_ac[0][0]                   \n",
            "__________________________________________________________________________________________________\n",
            "block_15_add (Add)              (None, 7, 7, 160)    0           block_14_add[0][0]               \n",
            "                                                                 block_15_project_BN[0][0]        \n",
            "__________________________________________________________________________________________________\n",
            "flat_ac (Flatten)               (None, 55296)        0           p_re_lu_4[0][0]                  \n",
            "__________________________________________________________________________________________________\n",
            "block_16_expand (Conv2D)        (None, 7, 7, 960)    153600      block_15_add[0][0]               \n",
            "__________________________________________________________________________________________________\n",
            "dense1_ac (Dense)               (None, 64)           3539008     flat_ac[0][0]                    \n",
            "__________________________________________________________________________________________________\n",
            "block_16_expand_BN (BatchNormal (None, 7, 7, 960)    3840        block_16_expand[0][0]            \n",
            "__________________________________________________________________________________________________\n",
            "dense2_ac (Dense)               (None, 216)          14040       dense1_ac[0][0]                  \n",
            "__________________________________________________________________________________________________\n",
            "block_16_expand_relu (ReLU)     (None, 7, 7, 960)    0           block_16_expand_BN[0][0]         \n",
            "__________________________________________________________________________________________________\n",
            "reshape_ac (Reshape)            (None, 6, 6, 6, 1)   0           dense2_ac[0][0]                  \n",
            "__________________________________________________________________________________________________\n",
            "block_16_depthwise (DepthwiseCo (None, 7, 7, 960)    8640        block_16_expand_relu[0][0]       \n",
            "__________________________________________________________________________________________________\n",
            "deconv1_ac (Conv3DTranspose)    (None, 8, 8, 8, 256) 7168        reshape_ac[0][0]                 \n",
            "__________________________________________________________________________________________________\n",
            "block_16_depthwise_BN (BatchNor (None, 7, 7, 960)    3840        block_16_depthwise[0][0]         \n",
            "__________________________________________________________________________________________________\n",
            "p_re_lu_5 (PReLU)               (None, 8, 8, 8, 256) 131072      deconv1_ac[0][0]                 \n",
            "__________________________________________________________________________________________________\n",
            "block_16_depthwise_relu (ReLU)  (None, 7, 7, 960)    0           block_16_depthwise_BN[0][0]      \n",
            "__________________________________________________________________________________________________\n",
            "deconv2_ac (Conv3DTranspose)    (None, 10, 10, 10, 3 2654592     p_re_lu_5[0][0]                  \n",
            "__________________________________________________________________________________________________\n",
            "block_16_project (Conv2D)       (None, 7, 7, 320)    307200      block_16_depthwise_relu[0][0]    \n",
            "__________________________________________________________________________________________________\n",
            "p_re_lu_6 (PReLU)               (None, 10, 10, 10, 3 384000      deconv2_ac[0][0]                 \n",
            "__________________________________________________________________________________________________\n",
            "block_16_project_BN (BatchNorma (None, 7, 7, 320)    1280        block_16_project[0][0]           \n",
            "__________________________________________________________________________________________________\n",
            "deconv3_ac (Conv3DTranspose)    (None, 14, 14, 14, 2 12288256    p_re_lu_6[0][0]                  \n",
            "__________________________________________________________________________________________________\n",
            "Conv_1 (Conv2D)                 (None, 7, 7, 1280)   409600      block_16_project_BN[0][0]        \n",
            "__________________________________________________________________________________________________\n",
            "p_re_lu_7 (PReLU)               (None, 14, 14, 14, 2 702464      deconv3_ac[0][0]                 \n",
            "__________________________________________________________________________________________________\n",
            "Conv_1_bn (BatchNormalization)  (None, 7, 7, 1280)   5120        Conv_1[0][0]                     \n",
            "__________________________________________________________________________________________________\n",
            "deconv4_ac (Conv3DTranspose)    (None, 20, 20, 20, 9 8429664     p_re_lu_7[0][0]                  \n",
            "__________________________________________________________________________________________________\n",
            "out_relu (ReLU)                 (None, 7, 7, 1280)   0           Conv_1_bn[0][0]                  \n",
            "__________________________________________________________________________________________________\n",
            "p_re_lu_8 (PReLU)               (None, 20, 20, 20, 9 768000      deconv4_ac[0][0]                 \n",
            "__________________________________________________________________________________________________\n",
            "flat (Flatten)                  (None, 62720)        0           out_relu[0][0]                   \n",
            "__________________________________________________________________________________________________\n",
            "output_ac (Conv3DTranspose)     (None, 20, 20, 20, 1 97          p_re_lu_8[0][0]                  \n",
            "__________________________________________________________________________________________________\n",
            "dense_out (Dense)               (None, 64)           4014144     flat[0][0]                       \n",
            "==================================================================================================\n",
            "Total params: 44,376,153\n",
            "Trainable params: 43,324,249\n",
            "Non-trainable params: 1,051,904\n",
            "__________________________________________________________________________________________________\n"
          ],
          "name": "stdout"
        }
      ]
    },
    {
      "metadata": {
        "id": "c0ZYxYnhcVKe",
        "colab_type": "code",
        "outputId": "22e6c3c8-d823-47a0-aa56-f001f0ae5514",
        "colab": {
          "base_uri": "https://localhost:8080/",
          "height": 15265
        }
      },
      "cell_type": "code",
      "source": [
        "from IPython.display import SVG\n",
        "from keras.utils.vis_utils import model_to_dot\n",
        "\n",
        "SVG(model_to_dot(joint_model).create(prog='dot', format='svg'))"
      ],
      "execution_count": 26,
      "outputs": [
        {
          "output_type": "execute_result",
          "data": {
            "text/plain": [
              "<IPython.core.display.SVG object>"
            ],
            "image/svg+xml": "<svg height=\"11433pt\" viewBox=\"0.00 0.00 593.00 11433.00\" width=\"593pt\" xmlns=\"http://www.w3.org/2000/svg\" xmlns:xlink=\"http://www.w3.org/1999/xlink\">\n<g class=\"graph\" id=\"graph0\" transform=\"scale(1 1) rotate(0) translate(4 11429)\">\n<title>G</title>\n<polygon fill=\"#ffffff\" points=\"-4,4 -4,-11429 589,-11429 589,4 -4,4\" stroke=\"transparent\"/>\n<!-- 139815421053360 -->\n<g class=\"node\" id=\"node1\">\n<title>139815421053360</title>\n<polygon fill=\"none\" points=\"152,-11388.5 152,-11424.5 285,-11424.5 285,-11388.5 152,-11388.5\" stroke=\"#000000\"/>\n<text fill=\"#000000\" font-family=\"Times,serif\" font-size=\"14.00\" text-anchor=\"middle\" x=\"218.5\" y=\"-11402.8\">input_2: InputLayer</text>\n</g>\n<!-- 139815421053472 -->\n<g class=\"node\" id=\"node2\">\n<title>139815421053472</title>\n<polygon fill=\"none\" points=\"126,-11315.5 126,-11351.5 311,-11351.5 311,-11315.5 126,-11315.5\" stroke=\"#000000\"/>\n<text fill=\"#000000\" font-family=\"Times,serif\" font-size=\"14.00\" text-anchor=\"middle\" x=\"218.5\" y=\"-11329.8\">Conv1_pad: ZeroPadding2D</text>\n</g>\n<!-- 139815421053360&#45;&gt;139815421053472 -->\n<g class=\"edge\" id=\"edge1\">\n<title>139815421053360-&gt;139815421053472</title>\n<path d=\"M218.5,-11388.4551C218.5,-11380.3828 218.5,-11370.6764 218.5,-11361.6817\" fill=\"none\" stroke=\"#000000\"/>\n<polygon fill=\"#000000\" points=\"222.0001,-11361.5903 218.5,-11351.5904 215.0001,-11361.5904 222.0001,-11361.5903\" stroke=\"#000000\"/>\n</g>\n<!-- 139815421054256 -->\n<g class=\"node\" id=\"node3\">\n<title>139815421054256</title>\n<polygon fill=\"none\" points=\"161.5,-11242.5 161.5,-11278.5 275.5,-11278.5 275.5,-11242.5 161.5,-11242.5\" stroke=\"#000000\"/>\n<text fill=\"#000000\" font-family=\"Times,serif\" font-size=\"14.00\" text-anchor=\"middle\" x=\"218.5\" y=\"-11256.8\">Conv1: Conv2D</text>\n</g>\n<!-- 139815421053472&#45;&gt;139815421054256 -->\n<g class=\"edge\" id=\"edge2\">\n<title>139815421053472-&gt;139815421054256</title>\n<path d=\"M218.5,-11315.4551C218.5,-11307.3828 218.5,-11297.6764 218.5,-11288.6817\" fill=\"none\" stroke=\"#000000\"/>\n<polygon fill=\"#000000\" points=\"222.0001,-11288.5903 218.5,-11278.5904 215.0001,-11288.5904 222.0001,-11288.5903\" stroke=\"#000000\"/>\n</g>\n<!-- 139815421053528 -->\n<g class=\"node\" id=\"node4\">\n<title>139815421053528</title>\n<polygon fill=\"none\" points=\"118,-11169.5 118,-11205.5 319,-11205.5 319,-11169.5 118,-11169.5\" stroke=\"#000000\"/>\n<text fill=\"#000000\" font-family=\"Times,serif\" font-size=\"14.00\" text-anchor=\"middle\" x=\"218.5\" y=\"-11183.8\">bn_Conv1: BatchNormalization</text>\n</g>\n<!-- 139815421054256&#45;&gt;139815421053528 -->\n<g class=\"edge\" id=\"edge3\">\n<title>139815421054256-&gt;139815421053528</title>\n<path d=\"M218.5,-11242.4551C218.5,-11234.3828 218.5,-11224.6764 218.5,-11215.6817\" fill=\"none\" stroke=\"#000000\"/>\n<polygon fill=\"#000000\" points=\"222.0001,-11215.5903 218.5,-11205.5904 215.0001,-11215.5904 222.0001,-11215.5903\" stroke=\"#000000\"/>\n</g>\n<!-- 139815421053920 -->\n<g class=\"node\" id=\"node5\">\n<title>139815421053920</title>\n<polygon fill=\"none\" points=\"154.5,-11096.5 154.5,-11132.5 282.5,-11132.5 282.5,-11096.5 154.5,-11096.5\" stroke=\"#000000\"/>\n<text fill=\"#000000\" font-family=\"Times,serif\" font-size=\"14.00\" text-anchor=\"middle\" x=\"218.5\" y=\"-11110.8\">Conv1_relu: ReLU</text>\n</g>\n<!-- 139815421053528&#45;&gt;139815421053920 -->\n<g class=\"edge\" id=\"edge4\">\n<title>139815421053528-&gt;139815421053920</title>\n<path d=\"M218.5,-11169.4551C218.5,-11161.3828 218.5,-11151.6764 218.5,-11142.6817\" fill=\"none\" stroke=\"#000000\"/>\n<polygon fill=\"#000000\" points=\"222.0001,-11142.5903 218.5,-11132.5904 215.0001,-11142.5904 222.0001,-11142.5903\" stroke=\"#000000\"/>\n</g>\n<!-- 139815421054368 -->\n<g class=\"node\" id=\"node6\">\n<title>139815421054368</title>\n<polygon fill=\"none\" points=\"72.5,-11023.5 72.5,-11059.5 364.5,-11059.5 364.5,-11023.5 72.5,-11023.5\" stroke=\"#000000\"/>\n<text fill=\"#000000\" font-family=\"Times,serif\" font-size=\"14.00\" text-anchor=\"middle\" x=\"218.5\" y=\"-11037.8\">expanded_conv_depthwise: DepthwiseConv2D</text>\n</g>\n<!-- 139815421053920&#45;&gt;139815421054368 -->\n<g class=\"edge\" id=\"edge5\">\n<title>139815421053920-&gt;139815421054368</title>\n<path d=\"M218.5,-11096.4551C218.5,-11088.3828 218.5,-11078.6764 218.5,-11069.6817\" fill=\"none\" stroke=\"#000000\"/>\n<polygon fill=\"#000000\" points=\"222.0001,-11069.5903 218.5,-11059.5904 215.0001,-11069.5904 222.0001,-11069.5903\" stroke=\"#000000\"/>\n</g>\n<!-- 139815421100104 -->\n<g class=\"node\" id=\"node7\">\n<title>139815421100104</title>\n<polygon fill=\"none\" points=\"57,-10950.5 57,-10986.5 380,-10986.5 380,-10950.5 57,-10950.5\" stroke=\"#000000\"/>\n<text fill=\"#000000\" font-family=\"Times,serif\" font-size=\"14.00\" text-anchor=\"middle\" x=\"218.5\" y=\"-10964.8\">expanded_conv_depthwise_BN: BatchNormalization</text>\n</g>\n<!-- 139815421054368&#45;&gt;139815421100104 -->\n<g class=\"edge\" id=\"edge6\">\n<title>139815421054368-&gt;139815421100104</title>\n<path d=\"M218.5,-11023.4551C218.5,-11015.3828 218.5,-11005.6764 218.5,-10996.6817\" fill=\"none\" stroke=\"#000000\"/>\n<polygon fill=\"#000000\" points=\"222.0001,-10996.5903 218.5,-10986.5904 215.0001,-10996.5904 222.0001,-10996.5903\" stroke=\"#000000\"/>\n</g>\n<!-- 139815421100608 -->\n<g class=\"node\" id=\"node8\">\n<title>139815421100608</title>\n<polygon fill=\"none\" points=\"96,-10877.5 96,-10913.5 341,-10913.5 341,-10877.5 96,-10877.5\" stroke=\"#000000\"/>\n<text fill=\"#000000\" font-family=\"Times,serif\" font-size=\"14.00\" text-anchor=\"middle\" x=\"218.5\" y=\"-10891.8\">expanded_conv_depthwise_relu: ReLU</text>\n</g>\n<!-- 139815421100104&#45;&gt;139815421100608 -->\n<g class=\"edge\" id=\"edge7\">\n<title>139815421100104-&gt;139815421100608</title>\n<path d=\"M218.5,-10950.4551C218.5,-10942.3828 218.5,-10932.6764 218.5,-10923.6817\" fill=\"none\" stroke=\"#000000\"/>\n<polygon fill=\"#000000\" points=\"222.0001,-10923.5903 218.5,-10913.5904 215.0001,-10923.5904 222.0001,-10923.5903\" stroke=\"#000000\"/>\n</g>\n<!-- 139815421100664 -->\n<g class=\"node\" id=\"node9\">\n<title>139815421100664</title>\n<polygon fill=\"none\" points=\"112.5,-10804.5 112.5,-10840.5 324.5,-10840.5 324.5,-10804.5 112.5,-10804.5\" stroke=\"#000000\"/>\n<text fill=\"#000000\" font-family=\"Times,serif\" font-size=\"14.00\" text-anchor=\"middle\" x=\"218.5\" y=\"-10818.8\">expanded_conv_project: Conv2D</text>\n</g>\n<!-- 139815421100608&#45;&gt;139815421100664 -->\n<g class=\"edge\" id=\"edge8\">\n<title>139815421100608-&gt;139815421100664</title>\n<path d=\"M218.5,-10877.4551C218.5,-10869.3828 218.5,-10859.6764 218.5,-10850.6817\" fill=\"none\" stroke=\"#000000\"/>\n<polygon fill=\"#000000\" points=\"222.0001,-10850.5903 218.5,-10840.5904 215.0001,-10850.5904 222.0001,-10850.5903\" stroke=\"#000000\"/>\n</g>\n<!-- 139815421101056 -->\n<g class=\"node\" id=\"node10\">\n<title>139815421101056</title>\n<polygon fill=\"none\" points=\"66,-10731.5 66,-10767.5 371,-10767.5 371,-10731.5 66,-10731.5\" stroke=\"#000000\"/>\n<text fill=\"#000000\" font-family=\"Times,serif\" font-size=\"14.00\" text-anchor=\"middle\" x=\"218.5\" y=\"-10745.8\">expanded_conv_project_BN: BatchNormalization</text>\n</g>\n<!-- 139815421100664&#45;&gt;139815421101056 -->\n<g class=\"edge\" id=\"edge9\">\n<title>139815421100664-&gt;139815421101056</title>\n<path d=\"M218.5,-10804.4551C218.5,-10796.3828 218.5,-10786.6764 218.5,-10777.6817\" fill=\"none\" stroke=\"#000000\"/>\n<polygon fill=\"#000000\" points=\"222.0001,-10777.5903 218.5,-10767.5904 215.0001,-10777.5904 222.0001,-10777.5903\" stroke=\"#000000\"/>\n</g>\n<!-- 139815421101336 -->\n<g class=\"node\" id=\"node11\">\n<title>139815421101336</title>\n<polygon fill=\"none\" points=\"133,-10658.5 133,-10694.5 304,-10694.5 304,-10658.5 133,-10658.5\" stroke=\"#000000\"/>\n<text fill=\"#000000\" font-family=\"Times,serif\" font-size=\"14.00\" text-anchor=\"middle\" x=\"218.5\" y=\"-10672.8\">block_1_expand: Conv2D</text>\n</g>\n<!-- 139815421101056&#45;&gt;139815421101336 -->\n<g class=\"edge\" id=\"edge10\">\n<title>139815421101056-&gt;139815421101336</title>\n<path d=\"M218.5,-10731.4551C218.5,-10723.3828 218.5,-10713.6764 218.5,-10704.6817\" fill=\"none\" stroke=\"#000000\"/>\n<polygon fill=\"#000000\" points=\"222.0001,-10704.5903 218.5,-10694.5904 215.0001,-10704.5904 222.0001,-10704.5903\" stroke=\"#000000\"/>\n</g>\n<!-- 139815421101728 -->\n<g class=\"node\" id=\"node12\">\n<title>139815421101728</title>\n<polygon fill=\"none\" points=\"87,-10585.5 87,-10621.5 350,-10621.5 350,-10585.5 87,-10585.5\" stroke=\"#000000\"/>\n<text fill=\"#000000\" font-family=\"Times,serif\" font-size=\"14.00\" text-anchor=\"middle\" x=\"218.5\" y=\"-10599.8\">block_1_expand_BN: BatchNormalization</text>\n</g>\n<!-- 139815421101336&#45;&gt;139815421101728 -->\n<g class=\"edge\" id=\"edge11\">\n<title>139815421101336-&gt;139815421101728</title>\n<path d=\"M218.5,-10658.4551C218.5,-10650.3828 218.5,-10640.6764 218.5,-10631.6817\" fill=\"none\" stroke=\"#000000\"/>\n<polygon fill=\"#000000\" points=\"222.0001,-10631.5903 218.5,-10621.5904 215.0001,-10631.5904 222.0001,-10631.5903\" stroke=\"#000000\"/>\n</g>\n<!-- 139815421102008 -->\n<g class=\"node\" id=\"node13\">\n<title>139815421102008</title>\n<polygon fill=\"none\" points=\"126,-10512.5 126,-10548.5 311,-10548.5 311,-10512.5 126,-10512.5\" stroke=\"#000000\"/>\n<text fill=\"#000000\" font-family=\"Times,serif\" font-size=\"14.00\" text-anchor=\"middle\" x=\"218.5\" y=\"-10526.8\">block_1_expand_relu: ReLU</text>\n</g>\n<!-- 139815421101728&#45;&gt;139815421102008 -->\n<g class=\"edge\" id=\"edge12\">\n<title>139815421101728-&gt;139815421102008</title>\n<path d=\"M218.5,-10585.4551C218.5,-10577.3828 218.5,-10567.6764 218.5,-10558.6817\" fill=\"none\" stroke=\"#000000\"/>\n<polygon fill=\"#000000\" points=\"222.0001,-10558.5903 218.5,-10548.5904 215.0001,-10558.5904 222.0001,-10558.5903\" stroke=\"#000000\"/>\n</g>\n<!-- 139815421102064 -->\n<g class=\"node\" id=\"node14\">\n<title>139815421102064</title>\n<polygon fill=\"none\" points=\"122,-10439.5 122,-10475.5 315,-10475.5 315,-10439.5 122,-10439.5\" stroke=\"#000000\"/>\n<text fill=\"#000000\" font-family=\"Times,serif\" font-size=\"14.00\" text-anchor=\"middle\" x=\"218.5\" y=\"-10453.8\">block_1_pad: ZeroPadding2D</text>\n</g>\n<!-- 139815421102008&#45;&gt;139815421102064 -->\n<g class=\"edge\" id=\"edge13\">\n<title>139815421102008-&gt;139815421102064</title>\n<path d=\"M218.5,-10512.4551C218.5,-10504.3828 218.5,-10494.6764 218.5,-10485.6817\" fill=\"none\" stroke=\"#000000\"/>\n<polygon fill=\"#000000\" points=\"222.0001,-10485.5903 218.5,-10475.5904 215.0001,-10485.5904 222.0001,-10485.5903\" stroke=\"#000000\"/>\n</g>\n<!-- 139815421102120 -->\n<g class=\"node\" id=\"node15\">\n<title>139815421102120</title>\n<polygon fill=\"none\" points=\"94.5,-10366.5 94.5,-10402.5 342.5,-10402.5 342.5,-10366.5 94.5,-10366.5\" stroke=\"#000000\"/>\n<text fill=\"#000000\" font-family=\"Times,serif\" font-size=\"14.00\" text-anchor=\"middle\" x=\"218.5\" y=\"-10380.8\">block_1_depthwise: DepthwiseConv2D</text>\n</g>\n<!-- 139815421102064&#45;&gt;139815421102120 -->\n<g class=\"edge\" id=\"edge14\">\n<title>139815421102064-&gt;139815421102120</title>\n<path d=\"M218.5,-10439.4551C218.5,-10431.3828 218.5,-10421.6764 218.5,-10412.6817\" fill=\"none\" stroke=\"#000000\"/>\n<polygon fill=\"#000000\" points=\"222.0001,-10412.5903 218.5,-10402.5904 215.0001,-10412.5904 222.0001,-10412.5903\" stroke=\"#000000\"/>\n</g>\n<!-- 139815421102232 -->\n<g class=\"node\" id=\"node16\">\n<title>139815421102232</title>\n<polygon fill=\"none\" points=\"79,-10293.5 79,-10329.5 358,-10329.5 358,-10293.5 79,-10293.5\" stroke=\"#000000\"/>\n<text fill=\"#000000\" font-family=\"Times,serif\" font-size=\"14.00\" text-anchor=\"middle\" x=\"218.5\" y=\"-10307.8\">block_1_depthwise_BN: BatchNormalization</text>\n</g>\n<!-- 139815421102120&#45;&gt;139815421102232 -->\n<g class=\"edge\" id=\"edge15\">\n<title>139815421102120-&gt;139815421102232</title>\n<path d=\"M218.5,-10366.4551C218.5,-10358.3828 218.5,-10348.6764 218.5,-10339.6817\" fill=\"none\" stroke=\"#000000\"/>\n<polygon fill=\"#000000\" points=\"222.0001,-10339.5903 218.5,-10329.5904 215.0001,-10339.5904 222.0001,-10339.5903\" stroke=\"#000000\"/>\n</g>\n<!-- 139815421102960 -->\n<g class=\"node\" id=\"node17\">\n<title>139815421102960</title>\n<polygon fill=\"none\" points=\"118,-10220.5 118,-10256.5 319,-10256.5 319,-10220.5 118,-10220.5\" stroke=\"#000000\"/>\n<text fill=\"#000000\" font-family=\"Times,serif\" font-size=\"14.00\" text-anchor=\"middle\" x=\"218.5\" y=\"-10234.8\">block_1_depthwise_relu: ReLU</text>\n</g>\n<!-- 139815421102232&#45;&gt;139815421102960 -->\n<g class=\"edge\" id=\"edge16\">\n<title>139815421102232-&gt;139815421102960</title>\n<path d=\"M218.5,-10293.4551C218.5,-10285.3828 218.5,-10275.6764 218.5,-10266.6817\" fill=\"none\" stroke=\"#000000\"/>\n<polygon fill=\"#000000\" points=\"222.0001,-10266.5903 218.5,-10256.5904 215.0001,-10266.5904 222.0001,-10266.5903\" stroke=\"#000000\"/>\n</g>\n<!-- 139815421103016 -->\n<g class=\"node\" id=\"node18\">\n<title>139815421103016</title>\n<polygon fill=\"none\" points=\"134.5,-10147.5 134.5,-10183.5 302.5,-10183.5 302.5,-10147.5 134.5,-10147.5\" stroke=\"#000000\"/>\n<text fill=\"#000000\" font-family=\"Times,serif\" font-size=\"14.00\" text-anchor=\"middle\" x=\"218.5\" y=\"-10161.8\">block_1_project: Conv2D</text>\n</g>\n<!-- 139815421102960&#45;&gt;139815421103016 -->\n<g class=\"edge\" id=\"edge17\">\n<title>139815421102960-&gt;139815421103016</title>\n<path d=\"M218.5,-10220.4551C218.5,-10212.3828 218.5,-10202.6764 218.5,-10193.6817\" fill=\"none\" stroke=\"#000000\"/>\n<polygon fill=\"#000000\" points=\"222.0001,-10193.5903 218.5,-10183.5904 215.0001,-10193.5904 222.0001,-10193.5903\" stroke=\"#000000\"/>\n</g>\n<!-- 139815421103408 -->\n<g class=\"node\" id=\"node19\">\n<title>139815421103408</title>\n<polygon fill=\"none\" points=\"88.5,-10074.5 88.5,-10110.5 348.5,-10110.5 348.5,-10074.5 88.5,-10074.5\" stroke=\"#000000\"/>\n<text fill=\"#000000\" font-family=\"Times,serif\" font-size=\"14.00\" text-anchor=\"middle\" x=\"218.5\" y=\"-10088.8\">block_1_project_BN: BatchNormalization</text>\n</g>\n<!-- 139815421103016&#45;&gt;139815421103408 -->\n<g class=\"edge\" id=\"edge18\">\n<title>139815421103016-&gt;139815421103408</title>\n<path d=\"M218.5,-10147.4551C218.5,-10139.3828 218.5,-10129.6764 218.5,-10120.6817\" fill=\"none\" stroke=\"#000000\"/>\n<polygon fill=\"#000000\" points=\"222.0001,-10120.5903 218.5,-10110.5904 215.0001,-10120.5904 222.0001,-10120.5903\" stroke=\"#000000\"/>\n</g>\n<!-- 139815421103688 -->\n<g class=\"node\" id=\"node20\">\n<title>139815421103688</title>\n<polygon fill=\"none\" points=\"117,-10001.5 117,-10037.5 288,-10037.5 288,-10001.5 117,-10001.5\" stroke=\"#000000\"/>\n<text fill=\"#000000\" font-family=\"Times,serif\" font-size=\"14.00\" text-anchor=\"middle\" x=\"202.5\" y=\"-10015.8\">block_2_expand: Conv2D</text>\n</g>\n<!-- 139815421103408&#45;&gt;139815421103688 -->\n<g class=\"edge\" id=\"edge19\">\n<title>139815421103408-&gt;139815421103688</title>\n<path d=\"M214.5449,-10074.4551C212.7565,-10066.2951 210.602,-10056.4652 208.6126,-10047.3887\" fill=\"none\" stroke=\"#000000\"/>\n<polygon fill=\"#000000\" points=\"212.0249,-10046.6091 206.465,-10037.5904 205.1872,-10048.1079 212.0249,-10046.6091\" stroke=\"#000000\"/>\n</g>\n<!-- 139815420594048 -->\n<g class=\"node\" id=\"node28\">\n<title>139815420594048</title>\n<polygon fill=\"none\" points=\"194,-9417.5 194,-9453.5 319,-9453.5 319,-9417.5 194,-9417.5\" stroke=\"#000000\"/>\n<text fill=\"#000000\" font-family=\"Times,serif\" font-size=\"14.00\" text-anchor=\"middle\" x=\"256.5\" y=\"-9431.8\">block_2_add: Add</text>\n</g>\n<!-- 139815421103408&#45;&gt;139815420594048 -->\n<g class=\"edge\" id=\"edge27\">\n<title>139815421103408-&gt;139815420594048</title>\n<path d=\"M252.462,-10074.4855C267.495,-10065.1841 284.4582,-10052.6938 296.5,-10038 324.6322,-10003.6721 336.5,-9990.8827 336.5,-9946.5 336.5,-9946.5 336.5,-9946.5 336.5,-9581.5 336.5,-9539.8732 337.3385,-9526.0354 316.5,-9490 310.0607,-9478.8647 300.5705,-9468.7332 291.0289,-9460.3081\" fill=\"none\" stroke=\"#000000\"/>\n<polygon fill=\"#000000\" points=\"292.9836,-9457.3801 283.0678,-9453.6479 288.4919,-9462.749 292.9836,-9457.3801\" stroke=\"#000000\"/>\n</g>\n<!-- 139815421054648 -->\n<g class=\"node\" id=\"node21\">\n<title>139815421054648</title>\n<polygon fill=\"none\" points=\"44,-9928.5 44,-9964.5 307,-9964.5 307,-9928.5 44,-9928.5\" stroke=\"#000000\"/>\n<text fill=\"#000000\" font-family=\"Times,serif\" font-size=\"14.00\" text-anchor=\"middle\" x=\"175.5\" y=\"-9942.8\">block_2_expand_BN: BatchNormalization</text>\n</g>\n<!-- 139815421103688&#45;&gt;139815421054648 -->\n<g class=\"edge\" id=\"edge20\">\n<title>139815421103688-&gt;139815421054648</title>\n<path d=\"M195.8258,-10001.4551C192.7753,-9993.2074 189.0938,-9983.2536 185.7068,-9974.0962\" fill=\"none\" stroke=\"#000000\"/>\n<polygon fill=\"#000000\" points=\"188.9426,-9972.7552 182.191,-9964.5904 182.3773,-9975.1836 188.9426,-9972.7552\" stroke=\"#000000\"/>\n</g>\n<!-- 139815420592424 -->\n<g class=\"node\" id=\"node22\">\n<title>139815420592424</title>\n<polygon fill=\"none\" points=\"82,-9855.5 82,-9891.5 267,-9891.5 267,-9855.5 82,-9855.5\" stroke=\"#000000\"/>\n<text fill=\"#000000\" font-family=\"Times,serif\" font-size=\"14.00\" text-anchor=\"middle\" x=\"174.5\" y=\"-9869.8\">block_2_expand_relu: ReLU</text>\n</g>\n<!-- 139815421054648&#45;&gt;139815420592424 -->\n<g class=\"edge\" id=\"edge21\">\n<title>139815421054648-&gt;139815420592424</title>\n<path d=\"M175.2528,-9928.4551C175.1422,-9920.3828 175.0093,-9910.6764 174.8861,-9901.6817\" fill=\"none\" stroke=\"#000000\"/>\n<polygon fill=\"#000000\" points=\"178.3846,-9901.5414 174.7478,-9891.5904 171.3852,-9901.6374 178.3846,-9901.5414\" stroke=\"#000000\"/>\n</g>\n<!-- 139815420592480 -->\n<g class=\"node\" id=\"node23\">\n<title>139815420592480</title>\n<polygon fill=\"none\" points=\"48.5,-9782.5 48.5,-9818.5 296.5,-9818.5 296.5,-9782.5 48.5,-9782.5\" stroke=\"#000000\"/>\n<text fill=\"#000000\" font-family=\"Times,serif\" font-size=\"14.00\" text-anchor=\"middle\" x=\"172.5\" y=\"-9796.8\">block_2_depthwise: DepthwiseConv2D</text>\n</g>\n<!-- 139815420592424&#45;&gt;139815420592480 -->\n<g class=\"edge\" id=\"edge22\">\n<title>139815420592424-&gt;139815420592480</title>\n<path d=\"M174.0056,-9855.4551C173.7845,-9847.3828 173.5185,-9837.6764 173.2721,-9828.6817\" fill=\"none\" stroke=\"#000000\"/>\n<polygon fill=\"#000000\" points=\"176.7683,-9828.4907 172.9956,-9818.5904 169.7709,-9828.6825 176.7683,-9828.4907\" stroke=\"#000000\"/>\n</g>\n<!-- 139815420592592 -->\n<g class=\"node\" id=\"node24\">\n<title>139815420592592</title>\n<polygon fill=\"none\" points=\"29,-9709.5 29,-9745.5 308,-9745.5 308,-9709.5 29,-9709.5\" stroke=\"#000000\"/>\n<text fill=\"#000000\" font-family=\"Times,serif\" font-size=\"14.00\" text-anchor=\"middle\" x=\"168.5\" y=\"-9723.8\">block_2_depthwise_BN: BatchNormalization</text>\n</g>\n<!-- 139815420592480&#45;&gt;139815420592592 -->\n<g class=\"edge\" id=\"edge23\">\n<title>139815420592480-&gt;139815420592592</title>\n<path d=\"M171.5112,-9782.4551C171.0689,-9774.3828 170.5371,-9764.6764 170.0442,-9755.6817\" fill=\"none\" stroke=\"#000000\"/>\n<polygon fill=\"#000000\" points=\"173.5332,-9755.3839 169.4913,-9745.5904 166.5437,-9755.7669 173.5332,-9755.3839\" stroke=\"#000000\"/>\n</g>\n<!-- 139815420593320 -->\n<g class=\"node\" id=\"node25\">\n<title>139815420593320</title>\n<polygon fill=\"none\" points=\"70,-9636.5 70,-9672.5 271,-9672.5 271,-9636.5 70,-9636.5\" stroke=\"#000000\"/>\n<text fill=\"#000000\" font-family=\"Times,serif\" font-size=\"14.00\" text-anchor=\"middle\" x=\"170.5\" y=\"-9650.8\">block_2_depthwise_relu: ReLU</text>\n</g>\n<!-- 139815420592592&#45;&gt;139815420593320 -->\n<g class=\"edge\" id=\"edge24\">\n<title>139815420592592-&gt;139815420593320</title>\n<path d=\"M168.9944,-9709.4551C169.2155,-9701.3828 169.4815,-9691.6764 169.7279,-9682.6817\" fill=\"none\" stroke=\"#000000\"/>\n<polygon fill=\"#000000\" points=\"173.2291,-9682.6825 170.0044,-9672.5904 166.2317,-9682.4907 173.2291,-9682.6825\" stroke=\"#000000\"/>\n</g>\n<!-- 139815420593376 -->\n<g class=\"node\" id=\"node26\">\n<title>139815420593376</title>\n<polygon fill=\"none\" points=\"91.5,-9563.5 91.5,-9599.5 259.5,-9599.5 259.5,-9563.5 91.5,-9563.5\" stroke=\"#000000\"/>\n<text fill=\"#000000\" font-family=\"Times,serif\" font-size=\"14.00\" text-anchor=\"middle\" x=\"175.5\" y=\"-9577.8\">block_2_project: Conv2D</text>\n</g>\n<!-- 139815420593320&#45;&gt;139815420593376 -->\n<g class=\"edge\" id=\"edge25\">\n<title>139815420593320-&gt;139815420593376</title>\n<path d=\"M171.736,-9636.4551C172.2888,-9628.3828 172.9537,-9618.6764 173.5697,-9609.6817\" fill=\"none\" stroke=\"#000000\"/>\n<polygon fill=\"#000000\" points=\"177.0693,-9609.8062 174.2609,-9599.5904 170.0857,-9609.3278 177.0693,-9609.8062\" stroke=\"#000000\"/>\n</g>\n<!-- 139815420593768 -->\n<g class=\"node\" id=\"node27\">\n<title>139815420593768</title>\n<polygon fill=\"none\" points=\"47.5,-9490.5 47.5,-9526.5 307.5,-9526.5 307.5,-9490.5 47.5,-9490.5\" stroke=\"#000000\"/>\n<text fill=\"#000000\" font-family=\"Times,serif\" font-size=\"14.00\" text-anchor=\"middle\" x=\"177.5\" y=\"-9504.8\">block_2_project_BN: BatchNormalization</text>\n</g>\n<!-- 139815420593376&#45;&gt;139815420593768 -->\n<g class=\"edge\" id=\"edge26\">\n<title>139815420593376-&gt;139815420593768</title>\n<path d=\"M175.9944,-9563.4551C176.2155,-9555.3828 176.4815,-9545.6764 176.7279,-9536.6817\" fill=\"none\" stroke=\"#000000\"/>\n<polygon fill=\"#000000\" points=\"180.2291,-9536.6825 177.0044,-9526.5904 173.2317,-9536.4907 180.2291,-9536.6825\" stroke=\"#000000\"/>\n</g>\n<!-- 139815420593768&#45;&gt;139815420594048 -->\n<g class=\"edge\" id=\"edge28\">\n<title>139815420593768-&gt;139815420594048</title>\n<path d=\"M197.0281,-9490.4551C206.8083,-9481.4177 218.8052,-9470.3319 229.4561,-9460.4899\" fill=\"none\" stroke=\"#000000\"/>\n<polygon fill=\"#000000\" points=\"231.9536,-9462.9476 236.9228,-9453.5904 227.2029,-9457.8065 231.9536,-9462.9476\" stroke=\"#000000\"/>\n</g>\n<!-- 139815420594104 -->\n<g class=\"node\" id=\"node29\">\n<title>139815420594104</title>\n<polygon fill=\"none\" points=\"171,-9344.5 171,-9380.5 342,-9380.5 342,-9344.5 171,-9344.5\" stroke=\"#000000\"/>\n<text fill=\"#000000\" font-family=\"Times,serif\" font-size=\"14.00\" text-anchor=\"middle\" x=\"256.5\" y=\"-9358.8\">block_3_expand: Conv2D</text>\n</g>\n<!-- 139815420594048&#45;&gt;139815420594104 -->\n<g class=\"edge\" id=\"edge29\">\n<title>139815420594048-&gt;139815420594104</title>\n<path d=\"M256.5,-9417.4551C256.5,-9409.3828 256.5,-9399.6764 256.5,-9390.6817\" fill=\"none\" stroke=\"#000000\"/>\n<polygon fill=\"#000000\" points=\"260.0001,-9390.5903 256.5,-9380.5904 253.0001,-9390.5904 260.0001,-9390.5903\" stroke=\"#000000\"/>\n</g>\n<!-- 139815420594496 -->\n<g class=\"node\" id=\"node30\">\n<title>139815420594496</title>\n<polygon fill=\"none\" points=\"125,-9271.5 125,-9307.5 388,-9307.5 388,-9271.5 125,-9271.5\" stroke=\"#000000\"/>\n<text fill=\"#000000\" font-family=\"Times,serif\" font-size=\"14.00\" text-anchor=\"middle\" x=\"256.5\" y=\"-9285.8\">block_3_expand_BN: BatchNormalization</text>\n</g>\n<!-- 139815420594104&#45;&gt;139815420594496 -->\n<g class=\"edge\" id=\"edge30\">\n<title>139815420594104-&gt;139815420594496</title>\n<path d=\"M256.5,-9344.4551C256.5,-9336.3828 256.5,-9326.6764 256.5,-9317.6817\" fill=\"none\" stroke=\"#000000\"/>\n<polygon fill=\"#000000\" points=\"260.0001,-9317.5903 256.5,-9307.5904 253.0001,-9317.5904 260.0001,-9317.5903\" stroke=\"#000000\"/>\n</g>\n<!-- 139815420594776 -->\n<g class=\"node\" id=\"node31\">\n<title>139815420594776</title>\n<polygon fill=\"none\" points=\"164,-9198.5 164,-9234.5 349,-9234.5 349,-9198.5 164,-9198.5\" stroke=\"#000000\"/>\n<text fill=\"#000000\" font-family=\"Times,serif\" font-size=\"14.00\" text-anchor=\"middle\" x=\"256.5\" y=\"-9212.8\">block_3_expand_relu: ReLU</text>\n</g>\n<!-- 139815420594496&#45;&gt;139815420594776 -->\n<g class=\"edge\" id=\"edge31\">\n<title>139815420594496-&gt;139815420594776</title>\n<path d=\"M256.5,-9271.4551C256.5,-9263.3828 256.5,-9253.6764 256.5,-9244.6817\" fill=\"none\" stroke=\"#000000\"/>\n<polygon fill=\"#000000\" points=\"260.0001,-9244.5903 256.5,-9234.5904 253.0001,-9244.5904 260.0001,-9244.5903\" stroke=\"#000000\"/>\n</g>\n<!-- 139815420594832 -->\n<g class=\"node\" id=\"node32\">\n<title>139815420594832</title>\n<polygon fill=\"none\" points=\"160,-9125.5 160,-9161.5 353,-9161.5 353,-9125.5 160,-9125.5\" stroke=\"#000000\"/>\n<text fill=\"#000000\" font-family=\"Times,serif\" font-size=\"14.00\" text-anchor=\"middle\" x=\"256.5\" y=\"-9139.8\">block_3_pad: ZeroPadding2D</text>\n</g>\n<!-- 139815420594776&#45;&gt;139815420594832 -->\n<g class=\"edge\" id=\"edge32\">\n<title>139815420594776-&gt;139815420594832</title>\n<path d=\"M256.5,-9198.4551C256.5,-9190.3828 256.5,-9180.6764 256.5,-9171.6817\" fill=\"none\" stroke=\"#000000\"/>\n<polygon fill=\"#000000\" points=\"260.0001,-9171.5903 256.5,-9161.5904 253.0001,-9171.5904 260.0001,-9171.5903\" stroke=\"#000000\"/>\n</g>\n<!-- 139815420594888 -->\n<g class=\"node\" id=\"node33\">\n<title>139815420594888</title>\n<polygon fill=\"none\" points=\"132.5,-9052.5 132.5,-9088.5 380.5,-9088.5 380.5,-9052.5 132.5,-9052.5\" stroke=\"#000000\"/>\n<text fill=\"#000000\" font-family=\"Times,serif\" font-size=\"14.00\" text-anchor=\"middle\" x=\"256.5\" y=\"-9066.8\">block_3_depthwise: DepthwiseConv2D</text>\n</g>\n<!-- 139815420594832&#45;&gt;139815420594888 -->\n<g class=\"edge\" id=\"edge33\">\n<title>139815420594832-&gt;139815420594888</title>\n<path d=\"M256.5,-9125.4551C256.5,-9117.3828 256.5,-9107.6764 256.5,-9098.6817\" fill=\"none\" stroke=\"#000000\"/>\n<polygon fill=\"#000000\" points=\"260.0001,-9098.5903 256.5,-9088.5904 253.0001,-9098.5904 260.0001,-9098.5903\" stroke=\"#000000\"/>\n</g>\n<!-- 139815420595000 -->\n<g class=\"node\" id=\"node34\">\n<title>139815420595000</title>\n<polygon fill=\"none\" points=\"117,-8979.5 117,-9015.5 396,-9015.5 396,-8979.5 117,-8979.5\" stroke=\"#000000\"/>\n<text fill=\"#000000\" font-family=\"Times,serif\" font-size=\"14.00\" text-anchor=\"middle\" x=\"256.5\" y=\"-8993.8\">block_3_depthwise_BN: BatchNormalization</text>\n</g>\n<!-- 139815420594888&#45;&gt;139815420595000 -->\n<g class=\"edge\" id=\"edge34\">\n<title>139815420594888-&gt;139815420595000</title>\n<path d=\"M256.5,-9052.4551C256.5,-9044.3828 256.5,-9034.6764 256.5,-9025.6817\" fill=\"none\" stroke=\"#000000\"/>\n<polygon fill=\"#000000\" points=\"260.0001,-9025.5903 256.5,-9015.5904 253.0001,-9025.5904 260.0001,-9025.5903\" stroke=\"#000000\"/>\n</g>\n<!-- 139815420595728 -->\n<g class=\"node\" id=\"node35\">\n<title>139815420595728</title>\n<polygon fill=\"none\" points=\"156,-8906.5 156,-8942.5 357,-8942.5 357,-8906.5 156,-8906.5\" stroke=\"#000000\"/>\n<text fill=\"#000000\" font-family=\"Times,serif\" font-size=\"14.00\" text-anchor=\"middle\" x=\"256.5\" y=\"-8920.8\">block_3_depthwise_relu: ReLU</text>\n</g>\n<!-- 139815420595000&#45;&gt;139815420595728 -->\n<g class=\"edge\" id=\"edge35\">\n<title>139815420595000-&gt;139815420595728</title>\n<path d=\"M256.5,-8979.4551C256.5,-8971.3828 256.5,-8961.6764 256.5,-8952.6817\" fill=\"none\" stroke=\"#000000\"/>\n<polygon fill=\"#000000\" points=\"260.0001,-8952.5903 256.5,-8942.5904 253.0001,-8952.5904 260.0001,-8952.5903\" stroke=\"#000000\"/>\n</g>\n<!-- 139815420595784 -->\n<g class=\"node\" id=\"node36\">\n<title>139815420595784</title>\n<polygon fill=\"none\" points=\"172.5,-8833.5 172.5,-8869.5 340.5,-8869.5 340.5,-8833.5 172.5,-8833.5\" stroke=\"#000000\"/>\n<text fill=\"#000000\" font-family=\"Times,serif\" font-size=\"14.00\" text-anchor=\"middle\" x=\"256.5\" y=\"-8847.8\">block_3_project: Conv2D</text>\n</g>\n<!-- 139815420595728&#45;&gt;139815420595784 -->\n<g class=\"edge\" id=\"edge36\">\n<title>139815420595728-&gt;139815420595784</title>\n<path d=\"M256.5,-8906.4551C256.5,-8898.3828 256.5,-8888.6764 256.5,-8879.6817\" fill=\"none\" stroke=\"#000000\"/>\n<polygon fill=\"#000000\" points=\"260.0001,-8879.5903 256.5,-8869.5904 253.0001,-8879.5904 260.0001,-8879.5903\" stroke=\"#000000\"/>\n</g>\n<!-- 139815421104080 -->\n<g class=\"node\" id=\"node37\">\n<title>139815421104080</title>\n<polygon fill=\"none\" points=\"126.5,-8760.5 126.5,-8796.5 386.5,-8796.5 386.5,-8760.5 126.5,-8760.5\" stroke=\"#000000\"/>\n<text fill=\"#000000\" font-family=\"Times,serif\" font-size=\"14.00\" text-anchor=\"middle\" x=\"256.5\" y=\"-8774.8\">block_3_project_BN: BatchNormalization</text>\n</g>\n<!-- 139815420595784&#45;&gt;139815421104080 -->\n<g class=\"edge\" id=\"edge37\">\n<title>139815420595784-&gt;139815421104080</title>\n<path d=\"M256.5,-8833.4551C256.5,-8825.3828 256.5,-8815.6764 256.5,-8806.6817\" fill=\"none\" stroke=\"#000000\"/>\n<polygon fill=\"#000000\" points=\"260.0001,-8806.5903 256.5,-8796.5904 253.0001,-8806.5904 260.0001,-8806.5903\" stroke=\"#000000\"/>\n</g>\n<!-- 139815420612904 -->\n<g class=\"node\" id=\"node38\">\n<title>139815420612904</title>\n<polygon fill=\"none\" points=\"114,-8687.5 114,-8723.5 285,-8723.5 285,-8687.5 114,-8687.5\" stroke=\"#000000\"/>\n<text fill=\"#000000\" font-family=\"Times,serif\" font-size=\"14.00\" text-anchor=\"middle\" x=\"199.5\" y=\"-8701.8\">block_4_expand: Conv2D</text>\n</g>\n<!-- 139815421104080&#45;&gt;139815420612904 -->\n<g class=\"edge\" id=\"edge38\">\n<title>139815421104080-&gt;139815420612904</title>\n<path d=\"M242.4101,-8760.4551C235.6276,-8751.7686 227.3674,-8741.1898 219.9123,-8731.642\" fill=\"none\" stroke=\"#000000\"/>\n<polygon fill=\"#000000\" points=\"222.5384,-8729.3182 213.6253,-8723.5904 217.0211,-8733.6263 222.5384,-8729.3182\" stroke=\"#000000\"/>\n</g>\n<!-- 139815420615200 -->\n<g class=\"node\" id=\"node46\">\n<title>139815420615200</title>\n<polygon fill=\"none\" points=\"194,-8103.5 194,-8139.5 319,-8139.5 319,-8103.5 194,-8103.5\" stroke=\"#000000\"/>\n<text fill=\"#000000\" font-family=\"Times,serif\" font-size=\"14.00\" text-anchor=\"middle\" x=\"256.5\" y=\"-8117.8\">block_4_add: Add</text>\n</g>\n<!-- 139815421104080&#45;&gt;139815420615200 -->\n<g class=\"edge\" id=\"edge46\">\n<title>139815421104080-&gt;139815420615200</title>\n<path d=\"M274.2546,-8760.4261C297.8232,-8734.4358 336.5,-8683.9473 336.5,-8632.5 336.5,-8632.5 336.5,-8632.5 336.5,-8267.5 336.5,-8225.8732 337.3385,-8212.0354 316.5,-8176 310.0607,-8164.8647 300.5705,-8154.7332 291.0289,-8146.3081\" fill=\"none\" stroke=\"#000000\"/>\n<polygon fill=\"#000000\" points=\"292.9836,-8143.3801 283.0678,-8139.6479 288.4919,-8148.749 292.9836,-8143.3801\" stroke=\"#000000\"/>\n</g>\n<!-- 139815420613296 -->\n<g class=\"node\" id=\"node39\">\n<title>139815420613296</title>\n<polygon fill=\"none\" points=\"44,-8614.5 44,-8650.5 307,-8650.5 307,-8614.5 44,-8614.5\" stroke=\"#000000\"/>\n<text fill=\"#000000\" font-family=\"Times,serif\" font-size=\"14.00\" text-anchor=\"middle\" x=\"175.5\" y=\"-8628.8\">block_4_expand_BN: BatchNormalization</text>\n</g>\n<!-- 139815420612904&#45;&gt;139815420613296 -->\n<g class=\"edge\" id=\"edge39\">\n<title>139815420612904-&gt;139815420613296</title>\n<path d=\"M193.5674,-8687.4551C190.8558,-8679.2074 187.5834,-8669.2536 184.5727,-8660.0962\" fill=\"none\" stroke=\"#000000\"/>\n<polygon fill=\"#000000\" points=\"187.8957,-8658.997 181.4475,-8650.5904 181.2459,-8661.1833 187.8957,-8658.997\" stroke=\"#000000\"/>\n</g>\n<!-- 139815420613576 -->\n<g class=\"node\" id=\"node40\">\n<title>139815420613576</title>\n<polygon fill=\"none\" points=\"82,-8541.5 82,-8577.5 267,-8577.5 267,-8541.5 82,-8541.5\" stroke=\"#000000\"/>\n<text fill=\"#000000\" font-family=\"Times,serif\" font-size=\"14.00\" text-anchor=\"middle\" x=\"174.5\" y=\"-8555.8\">block_4_expand_relu: ReLU</text>\n</g>\n<!-- 139815420613296&#45;&gt;139815420613576 -->\n<g class=\"edge\" id=\"edge40\">\n<title>139815420613296-&gt;139815420613576</title>\n<path d=\"M175.2528,-8614.4551C175.1422,-8606.3828 175.0093,-8596.6764 174.8861,-8587.6817\" fill=\"none\" stroke=\"#000000\"/>\n<polygon fill=\"#000000\" points=\"178.3846,-8587.5414 174.7478,-8577.5904 171.3852,-8587.6374 178.3846,-8587.5414\" stroke=\"#000000\"/>\n</g>\n<!-- 139815420613632 -->\n<g class=\"node\" id=\"node41\">\n<title>139815420613632</title>\n<polygon fill=\"none\" points=\"46.5,-8468.5 46.5,-8504.5 294.5,-8504.5 294.5,-8468.5 46.5,-8468.5\" stroke=\"#000000\"/>\n<text fill=\"#000000\" font-family=\"Times,serif\" font-size=\"14.00\" text-anchor=\"middle\" x=\"170.5\" y=\"-8482.8\">block_4_depthwise: DepthwiseConv2D</text>\n</g>\n<!-- 139815420613576&#45;&gt;139815420613632 -->\n<g class=\"edge\" id=\"edge41\">\n<title>139815420613576-&gt;139815420613632</title>\n<path d=\"M173.5112,-8541.4551C173.0689,-8533.3828 172.5371,-8523.6764 172.0442,-8514.6817\" fill=\"none\" stroke=\"#000000\"/>\n<polygon fill=\"#000000\" points=\"175.5332,-8514.3839 171.4913,-8504.5904 168.5437,-8514.7669 175.5332,-8514.3839\" stroke=\"#000000\"/>\n</g>\n<!-- 139815420613744 -->\n<g class=\"node\" id=\"node42\">\n<title>139815420613744</title>\n<polygon fill=\"none\" points=\"29,-8395.5 29,-8431.5 308,-8431.5 308,-8395.5 29,-8395.5\" stroke=\"#000000\"/>\n<text fill=\"#000000\" font-family=\"Times,serif\" font-size=\"14.00\" text-anchor=\"middle\" x=\"168.5\" y=\"-8409.8\">block_4_depthwise_BN: BatchNormalization</text>\n</g>\n<!-- 139815420613632&#45;&gt;139815420613744 -->\n<g class=\"edge\" id=\"edge42\">\n<title>139815420613632-&gt;139815420613744</title>\n<path d=\"M170.0056,-8468.4551C169.7845,-8460.3828 169.5185,-8450.6764 169.2721,-8441.6817\" fill=\"none\" stroke=\"#000000\"/>\n<polygon fill=\"#000000\" points=\"172.7683,-8441.4907 168.9956,-8431.5904 165.7709,-8441.6825 172.7683,-8441.4907\" stroke=\"#000000\"/>\n</g>\n<!-- 139815420614472 -->\n<g class=\"node\" id=\"node43\">\n<title>139815420614472</title>\n<polygon fill=\"none\" points=\"70,-8322.5 70,-8358.5 271,-8358.5 271,-8322.5 70,-8322.5\" stroke=\"#000000\"/>\n<text fill=\"#000000\" font-family=\"Times,serif\" font-size=\"14.00\" text-anchor=\"middle\" x=\"170.5\" y=\"-8336.8\">block_4_depthwise_relu: ReLU</text>\n</g>\n<!-- 139815420613744&#45;&gt;139815420614472 -->\n<g class=\"edge\" id=\"edge43\">\n<title>139815420613744-&gt;139815420614472</title>\n<path d=\"M168.9944,-8395.4551C169.2155,-8387.3828 169.4815,-8377.6764 169.7279,-8368.6817\" fill=\"none\" stroke=\"#000000\"/>\n<polygon fill=\"#000000\" points=\"173.2291,-8368.6825 170.0044,-8358.5904 166.2317,-8368.4907 173.2291,-8368.6825\" stroke=\"#000000\"/>\n</g>\n<!-- 139815420614528 -->\n<g class=\"node\" id=\"node44\">\n<title>139815420614528</title>\n<polygon fill=\"none\" points=\"91.5,-8249.5 91.5,-8285.5 259.5,-8285.5 259.5,-8249.5 91.5,-8249.5\" stroke=\"#000000\"/>\n<text fill=\"#000000\" font-family=\"Times,serif\" font-size=\"14.00\" text-anchor=\"middle\" x=\"175.5\" y=\"-8263.8\">block_4_project: Conv2D</text>\n</g>\n<!-- 139815420614472&#45;&gt;139815420614528 -->\n<g class=\"edge\" id=\"edge44\">\n<title>139815420614472-&gt;139815420614528</title>\n<path d=\"M171.736,-8322.4551C172.2888,-8314.3828 172.9537,-8304.6764 173.5697,-8295.6817\" fill=\"none\" stroke=\"#000000\"/>\n<polygon fill=\"#000000\" points=\"177.0693,-8295.8062 174.2609,-8285.5904 170.0857,-8295.3278 177.0693,-8295.8062\" stroke=\"#000000\"/>\n</g>\n<!-- 139815420614920 -->\n<g class=\"node\" id=\"node45\">\n<title>139815420614920</title>\n<polygon fill=\"none\" points=\"47.5,-8176.5 47.5,-8212.5 307.5,-8212.5 307.5,-8176.5 47.5,-8176.5\" stroke=\"#000000\"/>\n<text fill=\"#000000\" font-family=\"Times,serif\" font-size=\"14.00\" text-anchor=\"middle\" x=\"177.5\" y=\"-8190.8\">block_4_project_BN: BatchNormalization</text>\n</g>\n<!-- 139815420614528&#45;&gt;139815420614920 -->\n<g class=\"edge\" id=\"edge45\">\n<title>139815420614528-&gt;139815420614920</title>\n<path d=\"M175.9944,-8249.4551C176.2155,-8241.3828 176.4815,-8231.6764 176.7279,-8222.6817\" fill=\"none\" stroke=\"#000000\"/>\n<polygon fill=\"#000000\" points=\"180.2291,-8222.6825 177.0044,-8212.5904 173.2317,-8222.4907 180.2291,-8222.6825\" stroke=\"#000000\"/>\n</g>\n<!-- 139815420614920&#45;&gt;139815420615200 -->\n<g class=\"edge\" id=\"edge47\">\n<title>139815420614920-&gt;139815420615200</title>\n<path d=\"M197.0281,-8176.4551C206.8083,-8167.4177 218.8052,-8156.3319 229.4561,-8146.4899\" fill=\"none\" stroke=\"#000000\"/>\n<polygon fill=\"#000000\" points=\"231.9536,-8148.9476 236.9228,-8139.5904 227.2029,-8143.8065 231.9536,-8148.9476\" stroke=\"#000000\"/>\n</g>\n<!-- 139815420615256 -->\n<g class=\"node\" id=\"node47\">\n<title>139815420615256</title>\n<polygon fill=\"none\" points=\"91,-8030.5 91,-8066.5 262,-8066.5 262,-8030.5 91,-8030.5\" stroke=\"#000000\"/>\n<text fill=\"#000000\" font-family=\"Times,serif\" font-size=\"14.00\" text-anchor=\"middle\" x=\"176.5\" y=\"-8044.8\">block_5_expand: Conv2D</text>\n</g>\n<!-- 139815420615200&#45;&gt;139815420615256 -->\n<g class=\"edge\" id=\"edge48\">\n<title>139815420615200-&gt;139815420615256</title>\n<path d=\"M236.7247,-8103.4551C226.8207,-8094.4177 214.6719,-8083.3319 203.8862,-8073.4899\" fill=\"none\" stroke=\"#000000\"/>\n<polygon fill=\"#000000\" points=\"206.0711,-8070.7455 196.3251,-8066.5904 201.3527,-8075.9163 206.0711,-8070.7455\" stroke=\"#000000\"/>\n</g>\n<!-- 139815420625808 -->\n<g class=\"node\" id=\"node55\">\n<title>139815420625808</title>\n<polygon fill=\"none\" points=\"172,-7446.5 172,-7482.5 297,-7482.5 297,-7446.5 172,-7446.5\" stroke=\"#000000\"/>\n<text fill=\"#000000\" font-family=\"Times,serif\" font-size=\"14.00\" text-anchor=\"middle\" x=\"234.5\" y=\"-7460.8\">block_5_add: Add</text>\n</g>\n<!-- 139815420615200&#45;&gt;139815420625808 -->\n<g class=\"edge\" id=\"edge56\">\n<title>139815420615200-&gt;139815420625808</title>\n<path d=\"M269.0851,-8103.0705C286.1434,-8076.249 314.5,-8024.3206 314.5,-7975.5 314.5,-7975.5 314.5,-7975.5 314.5,-7610.5 314.5,-7568.8732 315.3385,-7555.0354 294.5,-7519 288.0607,-7507.8647 278.5705,-7497.7332 269.0289,-7489.3081\" fill=\"none\" stroke=\"#000000\"/>\n<polygon fill=\"#000000\" points=\"270.9836,-7486.3801 261.0678,-7482.6479 266.4919,-7491.749 270.9836,-7486.3801\" stroke=\"#000000\"/>\n</g>\n<!-- 139815420615648 -->\n<g class=\"node\" id=\"node48\">\n<title>139815420615648</title>\n<polygon fill=\"none\" points=\"22,-7957.5 22,-7993.5 285,-7993.5 285,-7957.5 22,-7957.5\" stroke=\"#000000\"/>\n<text fill=\"#000000\" font-family=\"Times,serif\" font-size=\"14.00\" text-anchor=\"middle\" x=\"153.5\" y=\"-7971.8\">block_5_expand_BN: BatchNormalization</text>\n</g>\n<!-- 139815420615256&#45;&gt;139815420615648 -->\n<g class=\"edge\" id=\"edge49\">\n<title>139815420615256-&gt;139815420615648</title>\n<path d=\"M170.8146,-8030.4551C168.2437,-8022.2951 165.1466,-8012.4652 162.2868,-8003.3887\" fill=\"none\" stroke=\"#000000\"/>\n<polygon fill=\"#000000\" points=\"165.5431,-8002.0764 159.1997,-7993.5904 158.8666,-8004.18 165.5431,-8002.0764\" stroke=\"#000000\"/>\n</g>\n<!-- 139815420615928 -->\n<g class=\"node\" id=\"node49\">\n<title>139815420615928</title>\n<polygon fill=\"none\" points=\"57,-7884.5 57,-7920.5 242,-7920.5 242,-7884.5 57,-7884.5\" stroke=\"#000000\"/>\n<text fill=\"#000000\" font-family=\"Times,serif\" font-size=\"14.00\" text-anchor=\"middle\" x=\"149.5\" y=\"-7898.8\">block_5_expand_relu: ReLU</text>\n</g>\n<!-- 139815420615648&#45;&gt;139815420615928 -->\n<g class=\"edge\" id=\"edge50\">\n<title>139815420615648-&gt;139815420615928</title>\n<path d=\"M152.5112,-7957.4551C152.0689,-7949.3828 151.5371,-7939.6764 151.0442,-7930.6817\" fill=\"none\" stroke=\"#000000\"/>\n<polygon fill=\"#000000\" points=\"154.5332,-7930.3839 150.4913,-7920.5904 147.5437,-7930.7669 154.5332,-7930.3839\" stroke=\"#000000\"/>\n</g>\n<!-- 139815420615984 -->\n<g class=\"node\" id=\"node50\">\n<title>139815420615984</title>\n<polygon fill=\"none\" points=\"23.5,-7811.5 23.5,-7847.5 271.5,-7847.5 271.5,-7811.5 23.5,-7811.5\" stroke=\"#000000\"/>\n<text fill=\"#000000\" font-family=\"Times,serif\" font-size=\"14.00\" text-anchor=\"middle\" x=\"147.5\" y=\"-7825.8\">block_5_depthwise: DepthwiseConv2D</text>\n</g>\n<!-- 139815420615928&#45;&gt;139815420615984 -->\n<g class=\"edge\" id=\"edge51\">\n<title>139815420615928-&gt;139815420615984</title>\n<path d=\"M149.0056,-7884.4551C148.7845,-7876.3828 148.5185,-7866.6764 148.2721,-7857.6817\" fill=\"none\" stroke=\"#000000\"/>\n<polygon fill=\"#000000\" points=\"151.7683,-7857.4907 147.9956,-7847.5904 144.7709,-7857.6825 151.7683,-7857.4907\" stroke=\"#000000\"/>\n</g>\n<!-- 139815420616096 -->\n<g class=\"node\" id=\"node51\">\n<title>139815420616096</title>\n<polygon fill=\"none\" points=\"7,-7738.5 7,-7774.5 286,-7774.5 286,-7738.5 7,-7738.5\" stroke=\"#000000\"/>\n<text fill=\"#000000\" font-family=\"Times,serif\" font-size=\"14.00\" text-anchor=\"middle\" x=\"146.5\" y=\"-7752.8\">block_5_depthwise_BN: BatchNormalization</text>\n</g>\n<!-- 139815420615984&#45;&gt;139815420616096 -->\n<g class=\"edge\" id=\"edge52\">\n<title>139815420615984-&gt;139815420616096</title>\n<path d=\"M147.2528,-7811.4551C147.1422,-7803.3828 147.0093,-7793.6764 146.8861,-7784.6817\" fill=\"none\" stroke=\"#000000\"/>\n<polygon fill=\"#000000\" points=\"150.3846,-7784.5414 146.7478,-7774.5904 143.3852,-7784.6374 150.3846,-7784.5414\" stroke=\"#000000\"/>\n</g>\n<!-- 139815420596176 -->\n<g class=\"node\" id=\"node52\">\n<title>139815420596176</title>\n<polygon fill=\"none\" points=\"48,-7665.5 48,-7701.5 249,-7701.5 249,-7665.5 48,-7665.5\" stroke=\"#000000\"/>\n<text fill=\"#000000\" font-family=\"Times,serif\" font-size=\"14.00\" text-anchor=\"middle\" x=\"148.5\" y=\"-7679.8\">block_5_depthwise_relu: ReLU</text>\n</g>\n<!-- 139815420616096&#45;&gt;139815420596176 -->\n<g class=\"edge\" id=\"edge53\">\n<title>139815420616096-&gt;139815420596176</title>\n<path d=\"M146.9944,-7738.4551C147.2155,-7730.3828 147.4815,-7720.6764 147.7279,-7711.6817\" fill=\"none\" stroke=\"#000000\"/>\n<polygon fill=\"#000000\" points=\"151.2291,-7711.6825 148.0044,-7701.5904 144.2317,-7711.4907 151.2291,-7711.6825\" stroke=\"#000000\"/>\n</g>\n<!-- 139815420625136 -->\n<g class=\"node\" id=\"node53\">\n<title>139815420625136</title>\n<polygon fill=\"none\" points=\"69.5,-7592.5 69.5,-7628.5 237.5,-7628.5 237.5,-7592.5 69.5,-7592.5\" stroke=\"#000000\"/>\n<text fill=\"#000000\" font-family=\"Times,serif\" font-size=\"14.00\" text-anchor=\"middle\" x=\"153.5\" y=\"-7606.8\">block_5_project: Conv2D</text>\n</g>\n<!-- 139815420596176&#45;&gt;139815420625136 -->\n<g class=\"edge\" id=\"edge54\">\n<title>139815420596176-&gt;139815420625136</title>\n<path d=\"M149.736,-7665.4551C150.2888,-7657.3828 150.9537,-7647.6764 151.5697,-7638.6817\" fill=\"none\" stroke=\"#000000\"/>\n<polygon fill=\"#000000\" points=\"155.0693,-7638.8062 152.2609,-7628.5904 148.0857,-7638.3278 155.0693,-7638.8062\" stroke=\"#000000\"/>\n</g>\n<!-- 139815420625528 -->\n<g class=\"node\" id=\"node54\">\n<title>139815420625528</title>\n<polygon fill=\"none\" points=\"25.5,-7519.5 25.5,-7555.5 285.5,-7555.5 285.5,-7519.5 25.5,-7519.5\" stroke=\"#000000\"/>\n<text fill=\"#000000\" font-family=\"Times,serif\" font-size=\"14.00\" text-anchor=\"middle\" x=\"155.5\" y=\"-7533.8\">block_5_project_BN: BatchNormalization</text>\n</g>\n<!-- 139815420625136&#45;&gt;139815420625528 -->\n<g class=\"edge\" id=\"edge55\">\n<title>139815420625136-&gt;139815420625528</title>\n<path d=\"M153.9944,-7592.4551C154.2155,-7584.3828 154.4815,-7574.6764 154.7279,-7565.6817\" fill=\"none\" stroke=\"#000000\"/>\n<polygon fill=\"#000000\" points=\"158.2291,-7565.6825 155.0044,-7555.5904 151.2317,-7565.4907 158.2291,-7565.6825\" stroke=\"#000000\"/>\n</g>\n<!-- 139815420625528&#45;&gt;139815420625808 -->\n<g class=\"edge\" id=\"edge57\">\n<title>139815420625528-&gt;139815420625808</title>\n<path d=\"M175.0281,-7519.4551C184.8083,-7510.4177 196.8052,-7499.3319 207.4561,-7489.4899\" fill=\"none\" stroke=\"#000000\"/>\n<polygon fill=\"#000000\" points=\"209.9536,-7491.9476 214.9228,-7482.5904 205.2029,-7486.8065 209.9536,-7491.9476\" stroke=\"#000000\"/>\n</g>\n<!-- 139815420625864 -->\n<g class=\"node\" id=\"node56\">\n<title>139815420625864</title>\n<polygon fill=\"none\" points=\"149,-7373.5 149,-7409.5 320,-7409.5 320,-7373.5 149,-7373.5\" stroke=\"#000000\"/>\n<text fill=\"#000000\" font-family=\"Times,serif\" font-size=\"14.00\" text-anchor=\"middle\" x=\"234.5\" y=\"-7387.8\">block_6_expand: Conv2D</text>\n</g>\n<!-- 139815420625808&#45;&gt;139815420625864 -->\n<g class=\"edge\" id=\"edge58\">\n<title>139815420625808-&gt;139815420625864</title>\n<path d=\"M234.5,-7446.4551C234.5,-7438.3828 234.5,-7428.6764 234.5,-7419.6817\" fill=\"none\" stroke=\"#000000\"/>\n<polygon fill=\"#000000\" points=\"238.0001,-7419.5903 234.5,-7409.5904 231.0001,-7419.5904 238.0001,-7419.5903\" stroke=\"#000000\"/>\n</g>\n<!-- 139815420626256 -->\n<g class=\"node\" id=\"node57\">\n<title>139815420626256</title>\n<polygon fill=\"none\" points=\"103,-7300.5 103,-7336.5 366,-7336.5 366,-7300.5 103,-7300.5\" stroke=\"#000000\"/>\n<text fill=\"#000000\" font-family=\"Times,serif\" font-size=\"14.00\" text-anchor=\"middle\" x=\"234.5\" y=\"-7314.8\">block_6_expand_BN: BatchNormalization</text>\n</g>\n<!-- 139815420625864&#45;&gt;139815420626256 -->\n<g class=\"edge\" id=\"edge59\">\n<title>139815420625864-&gt;139815420626256</title>\n<path d=\"M234.5,-7373.4551C234.5,-7365.3828 234.5,-7355.6764 234.5,-7346.6817\" fill=\"none\" stroke=\"#000000\"/>\n<polygon fill=\"#000000\" points=\"238.0001,-7346.5903 234.5,-7336.5904 231.0001,-7346.5904 238.0001,-7346.5903\" stroke=\"#000000\"/>\n</g>\n<!-- 139815420626536 -->\n<g class=\"node\" id=\"node58\">\n<title>139815420626536</title>\n<polygon fill=\"none\" points=\"142,-7227.5 142,-7263.5 327,-7263.5 327,-7227.5 142,-7227.5\" stroke=\"#000000\"/>\n<text fill=\"#000000\" font-family=\"Times,serif\" font-size=\"14.00\" text-anchor=\"middle\" x=\"234.5\" y=\"-7241.8\">block_6_expand_relu: ReLU</text>\n</g>\n<!-- 139815420626256&#45;&gt;139815420626536 -->\n<g class=\"edge\" id=\"edge60\">\n<title>139815420626256-&gt;139815420626536</title>\n<path d=\"M234.5,-7300.4551C234.5,-7292.3828 234.5,-7282.6764 234.5,-7273.6817\" fill=\"none\" stroke=\"#000000\"/>\n<polygon fill=\"#000000\" points=\"238.0001,-7273.5903 234.5,-7263.5904 231.0001,-7273.5904 238.0001,-7273.5903\" stroke=\"#000000\"/>\n</g>\n<!-- 139815420626592 -->\n<g class=\"node\" id=\"node59\">\n<title>139815420626592</title>\n<polygon fill=\"none\" points=\"138,-7154.5 138,-7190.5 331,-7190.5 331,-7154.5 138,-7154.5\" stroke=\"#000000\"/>\n<text fill=\"#000000\" font-family=\"Times,serif\" font-size=\"14.00\" text-anchor=\"middle\" x=\"234.5\" y=\"-7168.8\">block_6_pad: ZeroPadding2D</text>\n</g>\n<!-- 139815420626536&#45;&gt;139815420626592 -->\n<g class=\"edge\" id=\"edge61\">\n<title>139815420626536-&gt;139815420626592</title>\n<path d=\"M234.5,-7227.4551C234.5,-7219.3828 234.5,-7209.6764 234.5,-7200.6817\" fill=\"none\" stroke=\"#000000\"/>\n<polygon fill=\"#000000\" points=\"238.0001,-7200.5903 234.5,-7190.5904 231.0001,-7200.5904 238.0001,-7200.5903\" stroke=\"#000000\"/>\n</g>\n<!-- 139815420626648 -->\n<g class=\"node\" id=\"node60\">\n<title>139815420626648</title>\n<polygon fill=\"none\" points=\"110.5,-7081.5 110.5,-7117.5 358.5,-7117.5 358.5,-7081.5 110.5,-7081.5\" stroke=\"#000000\"/>\n<text fill=\"#000000\" font-family=\"Times,serif\" font-size=\"14.00\" text-anchor=\"middle\" x=\"234.5\" y=\"-7095.8\">block_6_depthwise: DepthwiseConv2D</text>\n</g>\n<!-- 139815420626592&#45;&gt;139815420626648 -->\n<g class=\"edge\" id=\"edge62\">\n<title>139815420626592-&gt;139815420626648</title>\n<path d=\"M234.5,-7154.4551C234.5,-7146.3828 234.5,-7136.6764 234.5,-7127.6817\" fill=\"none\" stroke=\"#000000\"/>\n<polygon fill=\"#000000\" points=\"238.0001,-7127.5903 234.5,-7117.5904 231.0001,-7127.5904 238.0001,-7127.5903\" stroke=\"#000000\"/>\n</g>\n<!-- 139815420626760 -->\n<g class=\"node\" id=\"node61\">\n<title>139815420626760</title>\n<polygon fill=\"none\" points=\"95,-7008.5 95,-7044.5 374,-7044.5 374,-7008.5 95,-7008.5\" stroke=\"#000000\"/>\n<text fill=\"#000000\" font-family=\"Times,serif\" font-size=\"14.00\" text-anchor=\"middle\" x=\"234.5\" y=\"-7022.8\">block_6_depthwise_BN: BatchNormalization</text>\n</g>\n<!-- 139815420626648&#45;&gt;139815420626760 -->\n<g class=\"edge\" id=\"edge63\">\n<title>139815420626648-&gt;139815420626760</title>\n<path d=\"M234.5,-7081.4551C234.5,-7073.3828 234.5,-7063.6764 234.5,-7054.6817\" fill=\"none\" stroke=\"#000000\"/>\n<polygon fill=\"#000000\" points=\"238.0001,-7054.5903 234.5,-7044.5904 231.0001,-7054.5904 238.0001,-7054.5903\" stroke=\"#000000\"/>\n</g>\n<!-- 139815420627488 -->\n<g class=\"node\" id=\"node62\">\n<title>139815420627488</title>\n<polygon fill=\"none\" points=\"134,-6935.5 134,-6971.5 335,-6971.5 335,-6935.5 134,-6935.5\" stroke=\"#000000\"/>\n<text fill=\"#000000\" font-family=\"Times,serif\" font-size=\"14.00\" text-anchor=\"middle\" x=\"234.5\" y=\"-6949.8\">block_6_depthwise_relu: ReLU</text>\n</g>\n<!-- 139815420626760&#45;&gt;139815420627488 -->\n<g class=\"edge\" id=\"edge64\">\n<title>139815420626760-&gt;139815420627488</title>\n<path d=\"M234.5,-7008.4551C234.5,-7000.3828 234.5,-6990.6764 234.5,-6981.6817\" fill=\"none\" stroke=\"#000000\"/>\n<polygon fill=\"#000000\" points=\"238.0001,-6981.5903 234.5,-6971.5904 231.0001,-6981.5904 238.0001,-6981.5903\" stroke=\"#000000\"/>\n</g>\n<!-- 139815420627544 -->\n<g class=\"node\" id=\"node63\">\n<title>139815420627544</title>\n<polygon fill=\"none\" points=\"150.5,-6862.5 150.5,-6898.5 318.5,-6898.5 318.5,-6862.5 150.5,-6862.5\" stroke=\"#000000\"/>\n<text fill=\"#000000\" font-family=\"Times,serif\" font-size=\"14.00\" text-anchor=\"middle\" x=\"234.5\" y=\"-6876.8\">block_6_project: Conv2D</text>\n</g>\n<!-- 139815420627488&#45;&gt;139815420627544 -->\n<g class=\"edge\" id=\"edge65\">\n<title>139815420627488-&gt;139815420627544</title>\n<path d=\"M234.5,-6935.4551C234.5,-6927.3828 234.5,-6917.6764 234.5,-6908.6817\" fill=\"none\" stroke=\"#000000\"/>\n<polygon fill=\"#000000\" points=\"238.0001,-6908.5903 234.5,-6898.5904 231.0001,-6908.5904 238.0001,-6908.5903\" stroke=\"#000000\"/>\n</g>\n<!-- 139815420627936 -->\n<g class=\"node\" id=\"node64\">\n<title>139815420627936</title>\n<polygon fill=\"none\" points=\"104.5,-6789.5 104.5,-6825.5 364.5,-6825.5 364.5,-6789.5 104.5,-6789.5\" stroke=\"#000000\"/>\n<text fill=\"#000000\" font-family=\"Times,serif\" font-size=\"14.00\" text-anchor=\"middle\" x=\"234.5\" y=\"-6803.8\">block_6_project_BN: BatchNormalization</text>\n</g>\n<!-- 139815420627544&#45;&gt;139815420627936 -->\n<g class=\"edge\" id=\"edge66\">\n<title>139815420627544-&gt;139815420627936</title>\n<path d=\"M234.5,-6862.4551C234.5,-6854.3828 234.5,-6844.6764 234.5,-6835.6817\" fill=\"none\" stroke=\"#000000\"/>\n<polygon fill=\"#000000\" points=\"238.0001,-6835.5903 234.5,-6825.5904 231.0001,-6835.5904 238.0001,-6835.5903\" stroke=\"#000000\"/>\n</g>\n<!-- 139815420628216 -->\n<g class=\"node\" id=\"node65\">\n<title>139815420628216</title>\n<polygon fill=\"none\" points=\"92,-6716.5 92,-6752.5 263,-6752.5 263,-6716.5 92,-6716.5\" stroke=\"#000000\"/>\n<text fill=\"#000000\" font-family=\"Times,serif\" font-size=\"14.00\" text-anchor=\"middle\" x=\"177.5\" y=\"-6730.8\">block_7_expand: Conv2D</text>\n</g>\n<!-- 139815420627936&#45;&gt;139815420628216 -->\n<g class=\"edge\" id=\"edge67\">\n<title>139815420627936-&gt;139815420628216</title>\n<path d=\"M220.4101,-6789.4551C213.6276,-6780.7686 205.3674,-6770.1898 197.9123,-6760.642\" fill=\"none\" stroke=\"#000000\"/>\n<polygon fill=\"#000000\" points=\"200.5384,-6758.3182 191.6253,-6752.5904 195.0211,-6762.6263 200.5384,-6758.3182\" stroke=\"#000000\"/>\n</g>\n<!-- 139815420675632 -->\n<g class=\"node\" id=\"node73\">\n<title>139815420675632</title>\n<polygon fill=\"none\" points=\"172,-6132.5 172,-6168.5 297,-6168.5 297,-6132.5 172,-6132.5\" stroke=\"#000000\"/>\n<text fill=\"#000000\" font-family=\"Times,serif\" font-size=\"14.00\" text-anchor=\"middle\" x=\"234.5\" y=\"-6146.8\">block_7_add: Add</text>\n</g>\n<!-- 139815420627936&#45;&gt;139815420675632 -->\n<g class=\"edge\" id=\"edge75\">\n<title>139815420627936-&gt;139815420675632</title>\n<path d=\"M252.2546,-6789.4261C275.8232,-6763.4358 314.5,-6712.9473 314.5,-6661.5 314.5,-6661.5 314.5,-6661.5 314.5,-6296.5 314.5,-6254.8732 315.3385,-6241.0354 294.5,-6205 288.0607,-6193.8647 278.5705,-6183.7332 269.0289,-6175.3081\" fill=\"none\" stroke=\"#000000\"/>\n<polygon fill=\"#000000\" points=\"270.9836,-6172.3801 261.0678,-6168.6479 266.4919,-6177.749 270.9836,-6172.3801\" stroke=\"#000000\"/>\n</g>\n<!-- 139815420628608 -->\n<g class=\"node\" id=\"node66\">\n<title>139815420628608</title>\n<polygon fill=\"none\" points=\"22,-6643.5 22,-6679.5 285,-6679.5 285,-6643.5 22,-6643.5\" stroke=\"#000000\"/>\n<text fill=\"#000000\" font-family=\"Times,serif\" font-size=\"14.00\" text-anchor=\"middle\" x=\"153.5\" y=\"-6657.8\">block_7_expand_BN: BatchNormalization</text>\n</g>\n<!-- 139815420628216&#45;&gt;139815420628608 -->\n<g class=\"edge\" id=\"edge68\">\n<title>139815420628216-&gt;139815420628608</title>\n<path d=\"M171.5674,-6716.4551C168.8558,-6708.2074 165.5834,-6698.2536 162.5727,-6689.0962\" fill=\"none\" stroke=\"#000000\"/>\n<polygon fill=\"#000000\" points=\"165.8957,-6687.997 159.4475,-6679.5904 159.2459,-6690.1833 165.8957,-6687.997\" stroke=\"#000000\"/>\n</g>\n<!-- 139815420628888 -->\n<g class=\"node\" id=\"node67\">\n<title>139815420628888</title>\n<polygon fill=\"none\" points=\"57,-6570.5 57,-6606.5 242,-6606.5 242,-6570.5 57,-6570.5\" stroke=\"#000000\"/>\n<text fill=\"#000000\" font-family=\"Times,serif\" font-size=\"14.00\" text-anchor=\"middle\" x=\"149.5\" y=\"-6584.8\">block_7_expand_relu: ReLU</text>\n</g>\n<!-- 139815420628608&#45;&gt;139815420628888 -->\n<g class=\"edge\" id=\"edge69\">\n<title>139815420628608-&gt;139815420628888</title>\n<path d=\"M152.5112,-6643.4551C152.0689,-6635.3828 151.5371,-6625.6764 151.0442,-6616.6817\" fill=\"none\" stroke=\"#000000\"/>\n<polygon fill=\"#000000\" points=\"154.5332,-6616.3839 150.4913,-6606.5904 147.5437,-6616.7669 154.5332,-6616.3839\" stroke=\"#000000\"/>\n</g>\n<!-- 139815420616656 -->\n<g class=\"node\" id=\"node68\">\n<title>139815420616656</title>\n<polygon fill=\"none\" points=\"24.5,-6497.5 24.5,-6533.5 272.5,-6533.5 272.5,-6497.5 24.5,-6497.5\" stroke=\"#000000\"/>\n<text fill=\"#000000\" font-family=\"Times,serif\" font-size=\"14.00\" text-anchor=\"middle\" x=\"148.5\" y=\"-6511.8\">block_7_depthwise: DepthwiseConv2D</text>\n</g>\n<!-- 139815420628888&#45;&gt;139815420616656 -->\n<g class=\"edge\" id=\"edge70\">\n<title>139815420628888-&gt;139815420616656</title>\n<path d=\"M149.2528,-6570.4551C149.1422,-6562.3828 149.0093,-6552.6764 148.8861,-6543.6817\" fill=\"none\" stroke=\"#000000\"/>\n<polygon fill=\"#000000\" points=\"152.3846,-6543.5414 148.7478,-6533.5904 145.3852,-6543.6374 152.3846,-6543.5414\" stroke=\"#000000\"/>\n</g>\n<!-- 139815420674176 -->\n<g class=\"node\" id=\"node69\">\n<title>139815420674176</title>\n<polygon fill=\"none\" points=\"7,-6424.5 7,-6460.5 286,-6460.5 286,-6424.5 7,-6424.5\" stroke=\"#000000\"/>\n<text fill=\"#000000\" font-family=\"Times,serif\" font-size=\"14.00\" text-anchor=\"middle\" x=\"146.5\" y=\"-6438.8\">block_7_depthwise_BN: BatchNormalization</text>\n</g>\n<!-- 139815420616656&#45;&gt;139815420674176 -->\n<g class=\"edge\" id=\"edge71\">\n<title>139815420616656-&gt;139815420674176</title>\n<path d=\"M148.0056,-6497.4551C147.7845,-6489.3828 147.5185,-6479.6764 147.2721,-6470.6817\" fill=\"none\" stroke=\"#000000\"/>\n<polygon fill=\"#000000\" points=\"150.7683,-6470.4907 146.9956,-6460.5904 143.7709,-6470.6825 150.7683,-6470.4907\" stroke=\"#000000\"/>\n</g>\n<!-- 139815420674904 -->\n<g class=\"node\" id=\"node70\">\n<title>139815420674904</title>\n<polygon fill=\"none\" points=\"48,-6351.5 48,-6387.5 249,-6387.5 249,-6351.5 48,-6351.5\" stroke=\"#000000\"/>\n<text fill=\"#000000\" font-family=\"Times,serif\" font-size=\"14.00\" text-anchor=\"middle\" x=\"148.5\" y=\"-6365.8\">block_7_depthwise_relu: ReLU</text>\n</g>\n<!-- 139815420674176&#45;&gt;139815420674904 -->\n<g class=\"edge\" id=\"edge72\">\n<title>139815420674176-&gt;139815420674904</title>\n<path d=\"M146.9944,-6424.4551C147.2155,-6416.3828 147.4815,-6406.6764 147.7279,-6397.6817\" fill=\"none\" stroke=\"#000000\"/>\n<polygon fill=\"#000000\" points=\"151.2291,-6397.6825 148.0044,-6387.5904 144.2317,-6397.4907 151.2291,-6397.6825\" stroke=\"#000000\"/>\n</g>\n<!-- 139815420674960 -->\n<g class=\"node\" id=\"node71\">\n<title>139815420674960</title>\n<polygon fill=\"none\" points=\"69.5,-6278.5 69.5,-6314.5 237.5,-6314.5 237.5,-6278.5 69.5,-6278.5\" stroke=\"#000000\"/>\n<text fill=\"#000000\" font-family=\"Times,serif\" font-size=\"14.00\" text-anchor=\"middle\" x=\"153.5\" y=\"-6292.8\">block_7_project: Conv2D</text>\n</g>\n<!-- 139815420674904&#45;&gt;139815420674960 -->\n<g class=\"edge\" id=\"edge73\">\n<title>139815420674904-&gt;139815420674960</title>\n<path d=\"M149.736,-6351.4551C150.2888,-6343.3828 150.9537,-6333.6764 151.5697,-6324.6817\" fill=\"none\" stroke=\"#000000\"/>\n<polygon fill=\"#000000\" points=\"155.0693,-6324.8062 152.2609,-6314.5904 148.0857,-6324.3278 155.0693,-6324.8062\" stroke=\"#000000\"/>\n</g>\n<!-- 139815420675352 -->\n<g class=\"node\" id=\"node72\">\n<title>139815420675352</title>\n<polygon fill=\"none\" points=\"25.5,-6205.5 25.5,-6241.5 285.5,-6241.5 285.5,-6205.5 25.5,-6205.5\" stroke=\"#000000\"/>\n<text fill=\"#000000\" font-family=\"Times,serif\" font-size=\"14.00\" text-anchor=\"middle\" x=\"155.5\" y=\"-6219.8\">block_7_project_BN: BatchNormalization</text>\n</g>\n<!-- 139815420674960&#45;&gt;139815420675352 -->\n<g class=\"edge\" id=\"edge74\">\n<title>139815420674960-&gt;139815420675352</title>\n<path d=\"M153.9944,-6278.4551C154.2155,-6270.3828 154.4815,-6260.6764 154.7279,-6251.6817\" fill=\"none\" stroke=\"#000000\"/>\n<polygon fill=\"#000000\" points=\"158.2291,-6251.6825 155.0044,-6241.5904 151.2317,-6251.4907 158.2291,-6251.6825\" stroke=\"#000000\"/>\n</g>\n<!-- 139815420675352&#45;&gt;139815420675632 -->\n<g class=\"edge\" id=\"edge76\">\n<title>139815420675352-&gt;139815420675632</title>\n<path d=\"M175.0281,-6205.4551C184.8083,-6196.4177 196.8052,-6185.3319 207.4561,-6175.4899\" fill=\"none\" stroke=\"#000000\"/>\n<polygon fill=\"#000000\" points=\"209.9536,-6177.9476 214.9228,-6168.5904 205.2029,-6172.8065 209.9536,-6177.9476\" stroke=\"#000000\"/>\n</g>\n<!-- 139815420675688 -->\n<g class=\"node\" id=\"node74\">\n<title>139815420675688</title>\n<polygon fill=\"none\" points=\"92,-6059.5 92,-6095.5 263,-6095.5 263,-6059.5 92,-6059.5\" stroke=\"#000000\"/>\n<text fill=\"#000000\" font-family=\"Times,serif\" font-size=\"14.00\" text-anchor=\"middle\" x=\"177.5\" y=\"-6073.8\">block_8_expand: Conv2D</text>\n</g>\n<!-- 139815420675632&#45;&gt;139815420675688 -->\n<g class=\"edge\" id=\"edge77\">\n<title>139815420675632-&gt;139815420675688</title>\n<path d=\"M220.4101,-6132.4551C213.6276,-6123.7686 205.3674,-6113.1898 197.9123,-6103.642\" fill=\"none\" stroke=\"#000000\"/>\n<polygon fill=\"#000000\" points=\"200.5384,-6101.3182 191.6253,-6095.5904 195.0211,-6105.6263 200.5384,-6101.3182\" stroke=\"#000000\"/>\n</g>\n<!-- 139815420677984 -->\n<g class=\"node\" id=\"node82\">\n<title>139815420677984</title>\n<polygon fill=\"none\" points=\"171,-5475.5 171,-5511.5 296,-5511.5 296,-5475.5 171,-5475.5\" stroke=\"#000000\"/>\n<text fill=\"#000000\" font-family=\"Times,serif\" font-size=\"14.00\" text-anchor=\"middle\" x=\"233.5\" y=\"-5489.8\">block_8_add: Add</text>\n</g>\n<!-- 139815420675632&#45;&gt;139815420677984 -->\n<g class=\"edge\" id=\"edge85\">\n<title>139815420675632-&gt;139815420677984</title>\n<path d=\"M252.2546,-6132.4261C275.8232,-6106.4358 314.5,-6055.9473 314.5,-6004.5 314.5,-6004.5 314.5,-6004.5 314.5,-5639.5 314.5,-5597.776 314.5748,-5584.0103 293.5,-5548 287.0029,-5536.8984 277.4961,-5526.7764 267.9572,-5518.3499\" fill=\"none\" stroke=\"#000000\"/>\n<polygon fill=\"#000000\" points=\"269.9156,-5515.4247 260.0023,-5511.686 265.4205,-5520.7907 269.9156,-5515.4247\" stroke=\"#000000\"/>\n</g>\n<!-- 139815420676080 -->\n<g class=\"node\" id=\"node75\">\n<title>139815420676080</title>\n<polygon fill=\"none\" points=\"22,-5986.5 22,-6022.5 285,-6022.5 285,-5986.5 22,-5986.5\" stroke=\"#000000\"/>\n<text fill=\"#000000\" font-family=\"Times,serif\" font-size=\"14.00\" text-anchor=\"middle\" x=\"153.5\" y=\"-6000.8\">block_8_expand_BN: BatchNormalization</text>\n</g>\n<!-- 139815420675688&#45;&gt;139815420676080 -->\n<g class=\"edge\" id=\"edge78\">\n<title>139815420675688-&gt;139815420676080</title>\n<path d=\"M171.5674,-6059.4551C168.8558,-6051.2074 165.5834,-6041.2536 162.5727,-6032.0962\" fill=\"none\" stroke=\"#000000\"/>\n<polygon fill=\"#000000\" points=\"165.8957,-6030.997 159.4475,-6022.5904 159.2459,-6033.1833 165.8957,-6030.997\" stroke=\"#000000\"/>\n</g>\n<!-- 139815420676360 -->\n<g class=\"node\" id=\"node76\">\n<title>139815420676360</title>\n<polygon fill=\"none\" points=\"57,-5913.5 57,-5949.5 242,-5949.5 242,-5913.5 57,-5913.5\" stroke=\"#000000\"/>\n<text fill=\"#000000\" font-family=\"Times,serif\" font-size=\"14.00\" text-anchor=\"middle\" x=\"149.5\" y=\"-5927.8\">block_8_expand_relu: ReLU</text>\n</g>\n<!-- 139815420676080&#45;&gt;139815420676360 -->\n<g class=\"edge\" id=\"edge79\">\n<title>139815420676080-&gt;139815420676360</title>\n<path d=\"M152.5112,-5986.4551C152.0689,-5978.3828 151.5371,-5968.6764 151.0442,-5959.6817\" fill=\"none\" stroke=\"#000000\"/>\n<polygon fill=\"#000000\" points=\"154.5332,-5959.3839 150.4913,-5949.5904 147.5437,-5959.7669 154.5332,-5959.3839\" stroke=\"#000000\"/>\n</g>\n<!-- 139815420676416 -->\n<g class=\"node\" id=\"node77\">\n<title>139815420676416</title>\n<polygon fill=\"none\" points=\"23.5,-5840.5 23.5,-5876.5 271.5,-5876.5 271.5,-5840.5 23.5,-5840.5\" stroke=\"#000000\"/>\n<text fill=\"#000000\" font-family=\"Times,serif\" font-size=\"14.00\" text-anchor=\"middle\" x=\"147.5\" y=\"-5854.8\">block_8_depthwise: DepthwiseConv2D</text>\n</g>\n<!-- 139815420676360&#45;&gt;139815420676416 -->\n<g class=\"edge\" id=\"edge80\">\n<title>139815420676360-&gt;139815420676416</title>\n<path d=\"M149.0056,-5913.4551C148.7845,-5905.3828 148.5185,-5895.6764 148.2721,-5886.6817\" fill=\"none\" stroke=\"#000000\"/>\n<polygon fill=\"#000000\" points=\"151.7683,-5886.4907 147.9956,-5876.5904 144.7709,-5886.6825 151.7683,-5886.4907\" stroke=\"#000000\"/>\n</g>\n<!-- 139815420676528 -->\n<g class=\"node\" id=\"node78\">\n<title>139815420676528</title>\n<polygon fill=\"none\" points=\"7,-5767.5 7,-5803.5 286,-5803.5 286,-5767.5 7,-5767.5\" stroke=\"#000000\"/>\n<text fill=\"#000000\" font-family=\"Times,serif\" font-size=\"14.00\" text-anchor=\"middle\" x=\"146.5\" y=\"-5781.8\">block_8_depthwise_BN: BatchNormalization</text>\n</g>\n<!-- 139815420676416&#45;&gt;139815420676528 -->\n<g class=\"edge\" id=\"edge81\">\n<title>139815420676416-&gt;139815420676528</title>\n<path d=\"M147.2528,-5840.4551C147.1422,-5832.3828 147.0093,-5822.6764 146.8861,-5813.6817\" fill=\"none\" stroke=\"#000000\"/>\n<polygon fill=\"#000000\" points=\"150.3846,-5813.5414 146.7478,-5803.5904 143.3852,-5813.6374 150.3846,-5813.5414\" stroke=\"#000000\"/>\n</g>\n<!-- 139815420677256 -->\n<g class=\"node\" id=\"node79\">\n<title>139815420677256</title>\n<polygon fill=\"none\" points=\"48,-5694.5 48,-5730.5 249,-5730.5 249,-5694.5 48,-5694.5\" stroke=\"#000000\"/>\n<text fill=\"#000000\" font-family=\"Times,serif\" font-size=\"14.00\" text-anchor=\"middle\" x=\"148.5\" y=\"-5708.8\">block_8_depthwise_relu: ReLU</text>\n</g>\n<!-- 139815420676528&#45;&gt;139815420677256 -->\n<g class=\"edge\" id=\"edge82\">\n<title>139815420676528-&gt;139815420677256</title>\n<path d=\"M146.9944,-5767.4551C147.2155,-5759.3828 147.4815,-5749.6764 147.7279,-5740.6817\" fill=\"none\" stroke=\"#000000\"/>\n<polygon fill=\"#000000\" points=\"151.2291,-5740.6825 148.0044,-5730.5904 144.2317,-5740.4907 151.2291,-5740.6825\" stroke=\"#000000\"/>\n</g>\n<!-- 139815420677312 -->\n<g class=\"node\" id=\"node80\">\n<title>139815420677312</title>\n<polygon fill=\"none\" points=\"65.5,-5621.5 65.5,-5657.5 233.5,-5657.5 233.5,-5621.5 65.5,-5621.5\" stroke=\"#000000\"/>\n<text fill=\"#000000\" font-family=\"Times,serif\" font-size=\"14.00\" text-anchor=\"middle\" x=\"149.5\" y=\"-5635.8\">block_8_project: Conv2D</text>\n</g>\n<!-- 139815420677256&#45;&gt;139815420677312 -->\n<g class=\"edge\" id=\"edge83\">\n<title>139815420677256-&gt;139815420677312</title>\n<path d=\"M148.7472,-5694.4551C148.8578,-5686.3828 148.9907,-5676.6764 149.1139,-5667.6817\" fill=\"none\" stroke=\"#000000\"/>\n<polygon fill=\"#000000\" points=\"152.6148,-5667.6374 149.2522,-5657.5904 145.6154,-5667.5414 152.6148,-5667.6374\" stroke=\"#000000\"/>\n</g>\n<!-- 139815420677704 -->\n<g class=\"node\" id=\"node81\">\n<title>139815420677704</title>\n<polygon fill=\"none\" points=\"24.5,-5548.5 24.5,-5584.5 284.5,-5584.5 284.5,-5548.5 24.5,-5548.5\" stroke=\"#000000\"/>\n<text fill=\"#000000\" font-family=\"Times,serif\" font-size=\"14.00\" text-anchor=\"middle\" x=\"154.5\" y=\"-5562.8\">block_8_project_BN: BatchNormalization</text>\n</g>\n<!-- 139815420677312&#45;&gt;139815420677704 -->\n<g class=\"edge\" id=\"edge84\">\n<title>139815420677312-&gt;139815420677704</title>\n<path d=\"M150.736,-5621.4551C151.2888,-5613.3828 151.9537,-5603.6764 152.5697,-5594.6817\" fill=\"none\" stroke=\"#000000\"/>\n<polygon fill=\"#000000\" points=\"156.0693,-5594.8062 153.2609,-5584.5904 149.0857,-5594.3278 156.0693,-5594.8062\" stroke=\"#000000\"/>\n</g>\n<!-- 139815420677704&#45;&gt;139815420677984 -->\n<g class=\"edge\" id=\"edge86\">\n<title>139815420677704-&gt;139815420677984</title>\n<path d=\"M174.0281,-5548.4551C183.8083,-5539.4177 195.8052,-5528.3319 206.4561,-5518.4899\" fill=\"none\" stroke=\"#000000\"/>\n<polygon fill=\"#000000\" points=\"208.9536,-5520.9476 213.9228,-5511.5904 204.2029,-5515.8065 208.9536,-5520.9476\" stroke=\"#000000\"/>\n</g>\n<!-- 139815420678040 -->\n<g class=\"node\" id=\"node83\">\n<title>139815420678040</title>\n<polygon fill=\"none\" points=\"91,-5402.5 91,-5438.5 262,-5438.5 262,-5402.5 91,-5402.5\" stroke=\"#000000\"/>\n<text fill=\"#000000\" font-family=\"Times,serif\" font-size=\"14.00\" text-anchor=\"middle\" x=\"176.5\" y=\"-5416.8\">block_9_expand: Conv2D</text>\n</g>\n<!-- 139815420677984&#45;&gt;139815420678040 -->\n<g class=\"edge\" id=\"edge87\">\n<title>139815420677984-&gt;139815420678040</title>\n<path d=\"M219.4101,-5475.4551C212.6276,-5466.7686 204.3674,-5456.1898 196.9123,-5446.642\" fill=\"none\" stroke=\"#000000\"/>\n<polygon fill=\"#000000\" points=\"199.5384,-5444.3182 190.6253,-5438.5904 194.0211,-5448.6263 199.5384,-5444.3182\" stroke=\"#000000\"/>\n</g>\n<!-- 139815420709072 -->\n<g class=\"node\" id=\"node91\">\n<title>139815420709072</title>\n<polygon fill=\"none\" points=\"171,-4818.5 171,-4854.5 296,-4854.5 296,-4818.5 171,-4818.5\" stroke=\"#000000\"/>\n<text fill=\"#000000\" font-family=\"Times,serif\" font-size=\"14.00\" text-anchor=\"middle\" x=\"233.5\" y=\"-4832.8\">block_9_add: Add</text>\n</g>\n<!-- 139815420677984&#45;&gt;139815420709072 -->\n<g class=\"edge\" id=\"edge95\">\n<title>139815420677984-&gt;139815420709072</title>\n<path d=\"M251.2546,-5475.4261C274.8232,-5449.4358 313.5,-5398.9473 313.5,-5347.5 313.5,-5347.5 313.5,-5347.5 313.5,-4982.5 313.5,-4940.8732 314.3385,-4927.0354 293.5,-4891 287.0607,-4879.8647 277.5705,-4869.7332 268.0289,-4861.3081\" fill=\"none\" stroke=\"#000000\"/>\n<polygon fill=\"#000000\" points=\"269.9836,-4858.3801 260.0678,-4854.6479 265.4919,-4863.749 269.9836,-4858.3801\" stroke=\"#000000\"/>\n</g>\n<!-- 139815420707168 -->\n<g class=\"node\" id=\"node84\">\n<title>139815420707168</title>\n<polygon fill=\"none\" points=\"21,-5329.5 21,-5365.5 284,-5365.5 284,-5329.5 21,-5329.5\" stroke=\"#000000\"/>\n<text fill=\"#000000\" font-family=\"Times,serif\" font-size=\"14.00\" text-anchor=\"middle\" x=\"152.5\" y=\"-5343.8\">block_9_expand_BN: BatchNormalization</text>\n</g>\n<!-- 139815420678040&#45;&gt;139815420707168 -->\n<g class=\"edge\" id=\"edge88\">\n<title>139815420678040-&gt;139815420707168</title>\n<path d=\"M170.5674,-5402.4551C167.8558,-5394.2074 164.5834,-5384.2536 161.5727,-5375.0962\" fill=\"none\" stroke=\"#000000\"/>\n<polygon fill=\"#000000\" points=\"164.8957,-5373.997 158.4475,-5365.5904 158.2459,-5376.1833 164.8957,-5373.997\" stroke=\"#000000\"/>\n</g>\n<!-- 139815420707448 -->\n<g class=\"node\" id=\"node85\">\n<title>139815420707448</title>\n<polygon fill=\"none\" points=\"56,-5256.5 56,-5292.5 241,-5292.5 241,-5256.5 56,-5256.5\" stroke=\"#000000\"/>\n<text fill=\"#000000\" font-family=\"Times,serif\" font-size=\"14.00\" text-anchor=\"middle\" x=\"148.5\" y=\"-5270.8\">block_9_expand_relu: ReLU</text>\n</g>\n<!-- 139815420707168&#45;&gt;139815420707448 -->\n<g class=\"edge\" id=\"edge89\">\n<title>139815420707168-&gt;139815420707448</title>\n<path d=\"M151.5112,-5329.4551C151.0689,-5321.3828 150.5371,-5311.6764 150.0442,-5302.6817\" fill=\"none\" stroke=\"#000000\"/>\n<polygon fill=\"#000000\" points=\"153.5332,-5302.3839 149.4913,-5292.5904 146.5437,-5302.7669 153.5332,-5302.3839\" stroke=\"#000000\"/>\n</g>\n<!-- 139815420707504 -->\n<g class=\"node\" id=\"node86\">\n<title>139815420707504</title>\n<polygon fill=\"none\" points=\"22.5,-5183.5 22.5,-5219.5 270.5,-5219.5 270.5,-5183.5 22.5,-5183.5\" stroke=\"#000000\"/>\n<text fill=\"#000000\" font-family=\"Times,serif\" font-size=\"14.00\" text-anchor=\"middle\" x=\"146.5\" y=\"-5197.8\">block_9_depthwise: DepthwiseConv2D</text>\n</g>\n<!-- 139815420707448&#45;&gt;139815420707504 -->\n<g class=\"edge\" id=\"edge90\">\n<title>139815420707448-&gt;139815420707504</title>\n<path d=\"M148.0056,-5256.4551C147.7845,-5248.3828 147.5185,-5238.6764 147.2721,-5229.6817\" fill=\"none\" stroke=\"#000000\"/>\n<polygon fill=\"#000000\" points=\"150.7683,-5229.4907 146.9956,-5219.5904 143.7709,-5229.6825 150.7683,-5229.4907\" stroke=\"#000000\"/>\n</g>\n<!-- 139815420707616 -->\n<g class=\"node\" id=\"node87\">\n<title>139815420707616</title>\n<polygon fill=\"none\" points=\"6,-5110.5 6,-5146.5 285,-5146.5 285,-5110.5 6,-5110.5\" stroke=\"#000000\"/>\n<text fill=\"#000000\" font-family=\"Times,serif\" font-size=\"14.00\" text-anchor=\"middle\" x=\"145.5\" y=\"-5124.8\">block_9_depthwise_BN: BatchNormalization</text>\n</g>\n<!-- 139815420707504&#45;&gt;139815420707616 -->\n<g class=\"edge\" id=\"edge91\">\n<title>139815420707504-&gt;139815420707616</title>\n<path d=\"M146.2528,-5183.4551C146.1422,-5175.3828 146.0093,-5165.6764 145.8861,-5156.6817\" fill=\"none\" stroke=\"#000000\"/>\n<polygon fill=\"#000000\" points=\"149.3846,-5156.5414 145.7478,-5146.5904 142.3852,-5156.6374 149.3846,-5156.5414\" stroke=\"#000000\"/>\n</g>\n<!-- 139815420708344 -->\n<g class=\"node\" id=\"node88\">\n<title>139815420708344</title>\n<polygon fill=\"none\" points=\"50,-5037.5 50,-5073.5 251,-5073.5 251,-5037.5 50,-5037.5\" stroke=\"#000000\"/>\n<text fill=\"#000000\" font-family=\"Times,serif\" font-size=\"14.00\" text-anchor=\"middle\" x=\"150.5\" y=\"-5051.8\">block_9_depthwise_relu: ReLU</text>\n</g>\n<!-- 139815420707616&#45;&gt;139815420708344 -->\n<g class=\"edge\" id=\"edge92\">\n<title>139815420707616-&gt;139815420708344</title>\n<path d=\"M146.736,-5110.4551C147.2888,-5102.3828 147.9537,-5092.6764 148.5697,-5083.6817\" fill=\"none\" stroke=\"#000000\"/>\n<polygon fill=\"#000000\" points=\"152.0693,-5083.8062 149.2609,-5073.5904 145.0857,-5083.3278 152.0693,-5083.8062\" stroke=\"#000000\"/>\n</g>\n<!-- 139815420708400 -->\n<g class=\"node\" id=\"node89\">\n<title>139815420708400</title>\n<polygon fill=\"none\" points=\"68.5,-4964.5 68.5,-5000.5 236.5,-5000.5 236.5,-4964.5 68.5,-4964.5\" stroke=\"#000000\"/>\n<text fill=\"#000000\" font-family=\"Times,serif\" font-size=\"14.00\" text-anchor=\"middle\" x=\"152.5\" y=\"-4978.8\">block_9_project: Conv2D</text>\n</g>\n<!-- 139815420708344&#45;&gt;139815420708400 -->\n<g class=\"edge\" id=\"edge93\">\n<title>139815420708344-&gt;139815420708400</title>\n<path d=\"M150.9944,-5037.4551C151.2155,-5029.3828 151.4815,-5019.6764 151.7279,-5010.6817\" fill=\"none\" stroke=\"#000000\"/>\n<polygon fill=\"#000000\" points=\"155.2291,-5010.6825 152.0044,-5000.5904 148.2317,-5010.4907 155.2291,-5010.6825\" stroke=\"#000000\"/>\n</g>\n<!-- 139815420708792 -->\n<g class=\"node\" id=\"node90\">\n<title>139815420708792</title>\n<polygon fill=\"none\" points=\"24.5,-4891.5 24.5,-4927.5 284.5,-4927.5 284.5,-4891.5 24.5,-4891.5\" stroke=\"#000000\"/>\n<text fill=\"#000000\" font-family=\"Times,serif\" font-size=\"14.00\" text-anchor=\"middle\" x=\"154.5\" y=\"-4905.8\">block_9_project_BN: BatchNormalization</text>\n</g>\n<!-- 139815420708400&#45;&gt;139815420708792 -->\n<g class=\"edge\" id=\"edge94\">\n<title>139815420708400-&gt;139815420708792</title>\n<path d=\"M152.9944,-4964.4551C153.2155,-4956.3828 153.4815,-4946.6764 153.7279,-4937.6817\" fill=\"none\" stroke=\"#000000\"/>\n<polygon fill=\"#000000\" points=\"157.2291,-4937.6825 154.0044,-4927.5904 150.2317,-4937.4907 157.2291,-4937.6825\" stroke=\"#000000\"/>\n</g>\n<!-- 139815420708792&#45;&gt;139815420709072 -->\n<g class=\"edge\" id=\"edge96\">\n<title>139815420708792-&gt;139815420709072</title>\n<path d=\"M174.0281,-4891.4551C183.8083,-4882.4177 195.8052,-4871.3319 206.4561,-4861.4899\" fill=\"none\" stroke=\"#000000\"/>\n<polygon fill=\"#000000\" points=\"208.9536,-4863.9476 213.9228,-4854.5904 204.2029,-4858.8065 208.9536,-4863.9476\" stroke=\"#000000\"/>\n</g>\n<!-- 139815420709128 -->\n<g class=\"node\" id=\"node92\">\n<title>139815420709128</title>\n<polygon fill=\"none\" points=\"144,-4745.5 144,-4781.5 323,-4781.5 323,-4745.5 144,-4745.5\" stroke=\"#000000\"/>\n<text fill=\"#000000\" font-family=\"Times,serif\" font-size=\"14.00\" text-anchor=\"middle\" x=\"233.5\" y=\"-4759.8\">block_10_expand: Conv2D</text>\n</g>\n<!-- 139815420709072&#45;&gt;139815420709128 -->\n<g class=\"edge\" id=\"edge97\">\n<title>139815420709072-&gt;139815420709128</title>\n<path d=\"M233.5,-4818.4551C233.5,-4810.3828 233.5,-4800.6764 233.5,-4791.6817\" fill=\"none\" stroke=\"#000000\"/>\n<polygon fill=\"#000000\" points=\"237.0001,-4791.5903 233.5,-4781.5904 230.0001,-4791.5904 237.0001,-4791.5903\" stroke=\"#000000\"/>\n</g>\n<!-- 139815420709520 -->\n<g class=\"node\" id=\"node93\">\n<title>139815420709520</title>\n<polygon fill=\"none\" points=\"98,-4672.5 98,-4708.5 369,-4708.5 369,-4672.5 98,-4672.5\" stroke=\"#000000\"/>\n<text fill=\"#000000\" font-family=\"Times,serif\" font-size=\"14.00\" text-anchor=\"middle\" x=\"233.5\" y=\"-4686.8\">block_10_expand_BN: BatchNormalization</text>\n</g>\n<!-- 139815420709128&#45;&gt;139815420709520 -->\n<g class=\"edge\" id=\"edge98\">\n<title>139815420709128-&gt;139815420709520</title>\n<path d=\"M233.5,-4745.4551C233.5,-4737.3828 233.5,-4727.6764 233.5,-4718.6817\" fill=\"none\" stroke=\"#000000\"/>\n<polygon fill=\"#000000\" points=\"237.0001,-4718.5903 233.5,-4708.5904 230.0001,-4718.5904 237.0001,-4718.5903\" stroke=\"#000000\"/>\n</g>\n<!-- 139815420709800 -->\n<g class=\"node\" id=\"node94\">\n<title>139815420709800</title>\n<polygon fill=\"none\" points=\"137,-4599.5 137,-4635.5 330,-4635.5 330,-4599.5 137,-4599.5\" stroke=\"#000000\"/>\n<text fill=\"#000000\" font-family=\"Times,serif\" font-size=\"14.00\" text-anchor=\"middle\" x=\"233.5\" y=\"-4613.8\">block_10_expand_relu: ReLU</text>\n</g>\n<!-- 139815420709520&#45;&gt;139815420709800 -->\n<g class=\"edge\" id=\"edge99\">\n<title>139815420709520-&gt;139815420709800</title>\n<path d=\"M233.5,-4672.4551C233.5,-4664.3828 233.5,-4654.6764 233.5,-4645.6817\" fill=\"none\" stroke=\"#000000\"/>\n<polygon fill=\"#000000\" points=\"237.0001,-4645.5903 233.5,-4635.5904 230.0001,-4645.5904 237.0001,-4645.5903\" stroke=\"#000000\"/>\n</g>\n<!-- 139815420709856 -->\n<g class=\"node\" id=\"node95\">\n<title>139815420709856</title>\n<polygon fill=\"none\" points=\"106,-4526.5 106,-4562.5 361,-4562.5 361,-4526.5 106,-4526.5\" stroke=\"#000000\"/>\n<text fill=\"#000000\" font-family=\"Times,serif\" font-size=\"14.00\" text-anchor=\"middle\" x=\"233.5\" y=\"-4540.8\">block_10_depthwise: DepthwiseConv2D</text>\n</g>\n<!-- 139815420709800&#45;&gt;139815420709856 -->\n<g class=\"edge\" id=\"edge100\">\n<title>139815420709800-&gt;139815420709856</title>\n<path d=\"M233.5,-4599.4551C233.5,-4591.3828 233.5,-4581.6764 233.5,-4572.6817\" fill=\"none\" stroke=\"#000000\"/>\n<polygon fill=\"#000000\" points=\"237.0001,-4572.5903 233.5,-4562.5904 230.0001,-4572.5904 237.0001,-4572.5903\" stroke=\"#000000\"/>\n</g>\n<!-- 139815420709968 -->\n<g class=\"node\" id=\"node96\">\n<title>139815420709968</title>\n<polygon fill=\"none\" points=\"90,-4453.5 90,-4489.5 377,-4489.5 377,-4453.5 90,-4453.5\" stroke=\"#000000\"/>\n<text fill=\"#000000\" font-family=\"Times,serif\" font-size=\"14.00\" text-anchor=\"middle\" x=\"233.5\" y=\"-4467.8\">block_10_depthwise_BN: BatchNormalization</text>\n</g>\n<!-- 139815420709856&#45;&gt;139815420709968 -->\n<g class=\"edge\" id=\"edge101\">\n<title>139815420709856-&gt;139815420709968</title>\n<path d=\"M233.5,-4526.4551C233.5,-4518.3828 233.5,-4508.6764 233.5,-4499.6817\" fill=\"none\" stroke=\"#000000\"/>\n<polygon fill=\"#000000\" points=\"237.0001,-4499.5903 233.5,-4489.5904 230.0001,-4499.5904 237.0001,-4499.5903\" stroke=\"#000000\"/>\n</g>\n<!-- 139815420710696 -->\n<g class=\"node\" id=\"node97\">\n<title>139815420710696</title>\n<polygon fill=\"none\" points=\"129,-4380.5 129,-4416.5 338,-4416.5 338,-4380.5 129,-4380.5\" stroke=\"#000000\"/>\n<text fill=\"#000000\" font-family=\"Times,serif\" font-size=\"14.00\" text-anchor=\"middle\" x=\"233.5\" y=\"-4394.8\">block_10_depthwise_relu: ReLU</text>\n</g>\n<!-- 139815420709968&#45;&gt;139815420710696 -->\n<g class=\"edge\" id=\"edge102\">\n<title>139815420709968-&gt;139815420710696</title>\n<path d=\"M233.5,-4453.4551C233.5,-4445.3828 233.5,-4435.6764 233.5,-4426.6817\" fill=\"none\" stroke=\"#000000\"/>\n<polygon fill=\"#000000\" points=\"237.0001,-4426.5903 233.5,-4416.5904 230.0001,-4426.5904 237.0001,-4426.5903\" stroke=\"#000000\"/>\n</g>\n<!-- 139815420710752 -->\n<g class=\"node\" id=\"node98\">\n<title>139815420710752</title>\n<polygon fill=\"none\" points=\"145.5,-4307.5 145.5,-4343.5 321.5,-4343.5 321.5,-4307.5 145.5,-4307.5\" stroke=\"#000000\"/>\n<text fill=\"#000000\" font-family=\"Times,serif\" font-size=\"14.00\" text-anchor=\"middle\" x=\"233.5\" y=\"-4321.8\">block_10_project: Conv2D</text>\n</g>\n<!-- 139815420710696&#45;&gt;139815420710752 -->\n<g class=\"edge\" id=\"edge103\">\n<title>139815420710696-&gt;139815420710752</title>\n<path d=\"M233.5,-4380.4551C233.5,-4372.3828 233.5,-4362.6764 233.5,-4353.6817\" fill=\"none\" stroke=\"#000000\"/>\n<polygon fill=\"#000000\" points=\"237.0001,-4353.5903 233.5,-4343.5904 230.0001,-4353.5904 237.0001,-4353.5903\" stroke=\"#000000\"/>\n</g>\n<!-- 139815420735784 -->\n<g class=\"node\" id=\"node99\">\n<title>139815420735784</title>\n<polygon fill=\"none\" points=\"99.5,-4234.5 99.5,-4270.5 367.5,-4270.5 367.5,-4234.5 99.5,-4234.5\" stroke=\"#000000\"/>\n<text fill=\"#000000\" font-family=\"Times,serif\" font-size=\"14.00\" text-anchor=\"middle\" x=\"233.5\" y=\"-4248.8\">block_10_project_BN: BatchNormalization</text>\n</g>\n<!-- 139815420710752&#45;&gt;139815420735784 -->\n<g class=\"edge\" id=\"edge104\">\n<title>139815420710752-&gt;139815420735784</title>\n<path d=\"M233.5,-4307.4551C233.5,-4299.3828 233.5,-4289.6764 233.5,-4280.6817\" fill=\"none\" stroke=\"#000000\"/>\n<polygon fill=\"#000000\" points=\"237.0001,-4280.5903 233.5,-4270.5904 230.0001,-4280.5904 237.0001,-4280.5903\" stroke=\"#000000\"/>\n</g>\n<!-- 139815420736064 -->\n<g class=\"node\" id=\"node100\">\n<title>139815420736064</title>\n<polygon fill=\"none\" points=\"86.5,-4161.5 86.5,-4197.5 264.5,-4197.5 264.5,-4161.5 86.5,-4161.5\" stroke=\"#000000\"/>\n<text fill=\"#000000\" font-family=\"Times,serif\" font-size=\"14.00\" text-anchor=\"middle\" x=\"175.5\" y=\"-4175.8\">block_11_expand: Conv2D</text>\n</g>\n<!-- 139815420735784&#45;&gt;139815420736064 -->\n<g class=\"edge\" id=\"edge105\">\n<title>139815420735784-&gt;139815420736064</title>\n<path d=\"M219.1629,-4234.4551C212.2614,-4225.7686 203.8563,-4215.1898 196.2704,-4205.642\" fill=\"none\" stroke=\"#000000\"/>\n<polygon fill=\"#000000\" points=\"198.8343,-4203.2427 189.8732,-4197.5904 193.3536,-4207.5972 198.8343,-4203.2427\" stroke=\"#000000\"/>\n</g>\n<!-- 139815420738360 -->\n<g class=\"node\" id=\"node108\">\n<title>139815420738360</title>\n<polygon fill=\"none\" points=\"168,-3577.5 168,-3613.5 299,-3613.5 299,-3577.5 168,-3577.5\" stroke=\"#000000\"/>\n<text fill=\"#000000\" font-family=\"Times,serif\" font-size=\"14.00\" text-anchor=\"middle\" x=\"233.5\" y=\"-3591.8\">block_11_add: Add</text>\n</g>\n<!-- 139815420735784&#45;&gt;139815420738360 -->\n<g class=\"edge\" id=\"edge113\">\n<title>139815420735784-&gt;139815420738360</title>\n<path d=\"M252.1071,-4234.0709C276.3005,-4208.0525 315.5,-4157.9564 315.5,-4106.5 315.5,-4106.5 315.5,-4106.5 315.5,-3741.5 315.5,-3699.776 315.7226,-3685.9234 294.5,-3650 287.8313,-3638.7119 278.0393,-3628.4776 268.2439,-3620.005\" fill=\"none\" stroke=\"#000000\"/>\n<polygon fill=\"#000000\" points=\"270.3963,-3617.2436 260.4471,-3613.6015 265.9534,-3622.653 270.3963,-3617.2436\" stroke=\"#000000\"/>\n</g>\n<!-- 139815420736456 -->\n<g class=\"node\" id=\"node101\">\n<title>139815420736456</title>\n<polygon fill=\"none\" points=\"16.5,-4088.5 16.5,-4124.5 286.5,-4124.5 286.5,-4088.5 16.5,-4088.5\" stroke=\"#000000\"/>\n<text fill=\"#000000\" font-family=\"Times,serif\" font-size=\"14.00\" text-anchor=\"middle\" x=\"151.5\" y=\"-4102.8\">block_11_expand_BN: BatchNormalization</text>\n</g>\n<!-- 139815420736064&#45;&gt;139815420736456 -->\n<g class=\"edge\" id=\"edge106\">\n<title>139815420736064-&gt;139815420736456</title>\n<path d=\"M169.5674,-4161.4551C166.8558,-4153.2074 163.5834,-4143.2536 160.5727,-4134.0962\" fill=\"none\" stroke=\"#000000\"/>\n<polygon fill=\"#000000\" points=\"163.8957,-4132.997 157.4475,-4124.5904 157.2459,-4135.1833 163.8957,-4132.997\" stroke=\"#000000\"/>\n</g>\n<!-- 139815420736736 -->\n<g class=\"node\" id=\"node102\">\n<title>139815420736736</title>\n<polygon fill=\"none\" points=\"51.5,-4015.5 51.5,-4051.5 243.5,-4051.5 243.5,-4015.5 51.5,-4015.5\" stroke=\"#000000\"/>\n<text fill=\"#000000\" font-family=\"Times,serif\" font-size=\"14.00\" text-anchor=\"middle\" x=\"147.5\" y=\"-4029.8\">block_11_expand_relu: ReLU</text>\n</g>\n<!-- 139815420736456&#45;&gt;139815420736736 -->\n<g class=\"edge\" id=\"edge107\">\n<title>139815420736456-&gt;139815420736736</title>\n<path d=\"M150.5112,-4088.4551C150.0689,-4080.3828 149.5371,-4070.6764 149.0442,-4061.6817\" fill=\"none\" stroke=\"#000000\"/>\n<polygon fill=\"#000000\" points=\"152.5332,-4061.3839 148.4913,-4051.5904 145.5437,-4061.7669 152.5332,-4061.3839\" stroke=\"#000000\"/>\n</g>\n<!-- 139815420736792 -->\n<g class=\"node\" id=\"node103\">\n<title>139815420736792</title>\n<polygon fill=\"none\" points=\"19.5,-3942.5 19.5,-3978.5 273.5,-3978.5 273.5,-3942.5 19.5,-3942.5\" stroke=\"#000000\"/>\n<text fill=\"#000000\" font-family=\"Times,serif\" font-size=\"14.00\" text-anchor=\"middle\" x=\"146.5\" y=\"-3956.8\">block_11_depthwise: DepthwiseConv2D</text>\n</g>\n<!-- 139815420736736&#45;&gt;139815420736792 -->\n<g class=\"edge\" id=\"edge108\">\n<title>139815420736736-&gt;139815420736792</title>\n<path d=\"M147.2528,-4015.4551C147.1422,-4007.3828 147.0093,-3997.6764 146.8861,-3988.6817\" fill=\"none\" stroke=\"#000000\"/>\n<polygon fill=\"#000000\" points=\"150.3846,-3988.5414 146.7478,-3978.5904 143.3852,-3988.6374 150.3846,-3988.5414\" stroke=\"#000000\"/>\n</g>\n<!-- 139815420736904 -->\n<g class=\"node\" id=\"node104\">\n<title>139815420736904</title>\n<polygon fill=\"none\" points=\"1.5,-3869.5 1.5,-3905.5 287.5,-3905.5 287.5,-3869.5 1.5,-3869.5\" stroke=\"#000000\"/>\n<text fill=\"#000000\" font-family=\"Times,serif\" font-size=\"14.00\" text-anchor=\"middle\" x=\"144.5\" y=\"-3883.8\">block_11_depthwise_BN: BatchNormalization</text>\n</g>\n<!-- 139815420736792&#45;&gt;139815420736904 -->\n<g class=\"edge\" id=\"edge109\">\n<title>139815420736792-&gt;139815420736904</title>\n<path d=\"M146.0056,-3942.4551C145.7845,-3934.3828 145.5185,-3924.6764 145.2721,-3915.6817\" fill=\"none\" stroke=\"#000000\"/>\n<polygon fill=\"#000000\" points=\"148.7683,-3915.4907 144.9956,-3905.5904 141.7709,-3915.6825 148.7683,-3915.4907\" stroke=\"#000000\"/>\n</g>\n<!-- 139815420737632 -->\n<g class=\"node\" id=\"node105\">\n<title>139815420737632</title>\n<polygon fill=\"none\" points=\"44.5,-3796.5 44.5,-3832.5 252.5,-3832.5 252.5,-3796.5 44.5,-3796.5\" stroke=\"#000000\"/>\n<text fill=\"#000000\" font-family=\"Times,serif\" font-size=\"14.00\" text-anchor=\"middle\" x=\"148.5\" y=\"-3810.8\">block_11_depthwise_relu: ReLU</text>\n</g>\n<!-- 139815420736904&#45;&gt;139815420737632 -->\n<g class=\"edge\" id=\"edge110\">\n<title>139815420736904-&gt;139815420737632</title>\n<path d=\"M145.4888,-3869.4551C145.9311,-3861.3828 146.4629,-3851.6764 146.9558,-3842.6817\" fill=\"none\" stroke=\"#000000\"/>\n<polygon fill=\"#000000\" points=\"150.4563,-3842.7669 147.5087,-3832.5904 143.4668,-3842.3839 150.4563,-3842.7669\" stroke=\"#000000\"/>\n</g>\n<!-- 139815420737688 -->\n<g class=\"node\" id=\"node106\">\n<title>139815420737688</title>\n<polygon fill=\"none\" points=\"63,-3723.5 63,-3759.5 238,-3759.5 238,-3723.5 63,-3723.5\" stroke=\"#000000\"/>\n<text fill=\"#000000\" font-family=\"Times,serif\" font-size=\"14.00\" text-anchor=\"middle\" x=\"150.5\" y=\"-3737.8\">block_11_project: Conv2D</text>\n</g>\n<!-- 139815420737632&#45;&gt;139815420737688 -->\n<g class=\"edge\" id=\"edge111\">\n<title>139815420737632-&gt;139815420737688</title>\n<path d=\"M148.9944,-3796.4551C149.2155,-3788.3828 149.4815,-3778.6764 149.7279,-3769.6817\" fill=\"none\" stroke=\"#000000\"/>\n<polygon fill=\"#000000\" points=\"153.2291,-3769.6825 150.0044,-3759.5904 146.2317,-3769.4907 153.2291,-3769.6825\" stroke=\"#000000\"/>\n</g>\n<!-- 139815420738080 -->\n<g class=\"node\" id=\"node107\">\n<title>139815420738080</title>\n<polygon fill=\"none\" points=\"19,-3650.5 19,-3686.5 286,-3686.5 286,-3650.5 19,-3650.5\" stroke=\"#000000\"/>\n<text fill=\"#000000\" font-family=\"Times,serif\" font-size=\"14.00\" text-anchor=\"middle\" x=\"152.5\" y=\"-3664.8\">block_11_project_BN: BatchNormalization</text>\n</g>\n<!-- 139815420737688&#45;&gt;139815420738080 -->\n<g class=\"edge\" id=\"edge112\">\n<title>139815420737688-&gt;139815420738080</title>\n<path d=\"M150.9944,-3723.4551C151.2155,-3715.3828 151.4815,-3705.6764 151.7279,-3696.6817\" fill=\"none\" stroke=\"#000000\"/>\n<polygon fill=\"#000000\" points=\"155.2291,-3696.6825 152.0044,-3686.5904 148.2317,-3696.4907 155.2291,-3696.6825\" stroke=\"#000000\"/>\n</g>\n<!-- 139815420738080&#45;&gt;139815420738360 -->\n<g class=\"edge\" id=\"edge114\">\n<title>139815420738080-&gt;139815420738360</title>\n<path d=\"M172.5225,-3650.4551C182.5502,-3641.4177 194.8509,-3630.3319 205.7714,-3620.4899\" fill=\"none\" stroke=\"#000000\"/>\n<polygon fill=\"#000000\" points=\"208.3419,-3622.885 213.4271,-3613.5904 203.6556,-3617.6852 208.3419,-3622.885\" stroke=\"#000000\"/>\n</g>\n<!-- 139815420738416 -->\n<g class=\"node\" id=\"node109\">\n<title>139815420738416</title>\n<polygon fill=\"none\" points=\"85,-3504.5 85,-3540.5 264,-3540.5 264,-3504.5 85,-3504.5\" stroke=\"#000000\"/>\n<text fill=\"#000000\" font-family=\"Times,serif\" font-size=\"14.00\" text-anchor=\"middle\" x=\"174.5\" y=\"-3518.8\">block_12_expand: Conv2D</text>\n</g>\n<!-- 139815420738360&#45;&gt;139815420738416 -->\n<g class=\"edge\" id=\"edge115\">\n<title>139815420738360-&gt;139815420738416</title>\n<path d=\"M218.9157,-3577.4551C211.8952,-3568.7686 203.3452,-3558.1898 195.6285,-3548.642\" fill=\"none\" stroke=\"#000000\"/>\n<polygon fill=\"#000000\" points=\"198.129,-3546.1677 189.121,-3540.5904 192.6848,-3550.5678 198.129,-3546.1677\" stroke=\"#000000\"/>\n</g>\n<!-- 139815420761256 -->\n<g class=\"node\" id=\"node117\">\n<title>139815420761256</title>\n<polygon fill=\"none\" points=\"167.5,-2920.5 167.5,-2956.5 299.5,-2956.5 299.5,-2920.5 167.5,-2920.5\" stroke=\"#000000\"/>\n<text fill=\"#000000\" font-family=\"Times,serif\" font-size=\"14.00\" text-anchor=\"middle\" x=\"233.5\" y=\"-2934.8\">block_12_add: Add</text>\n</g>\n<!-- 139815420738360&#45;&gt;139815420761256 -->\n<g class=\"edge\" id=\"edge123\">\n<title>139815420738360-&gt;139815420761256</title>\n<path d=\"M252.1071,-3577.0709C276.3005,-3551.0525 315.5,-3500.9564 315.5,-3449.5 315.5,-3449.5 315.5,-3449.5 315.5,-3084.5 315.5,-3042.8732 316.6313,-3028.8644 295.5,-2993 288.841,-2981.6982 279.0178,-2971.5111 269.1444,-2963.0862\" fill=\"none\" stroke=\"#000000\"/>\n<polygon fill=\"#000000\" points=\"271.2507,-2960.2883 261.2749,-2956.7199 266.8481,-2965.7305 271.2507,-2960.2883\" stroke=\"#000000\"/>\n</g>\n<!-- 139815420738808 -->\n<g class=\"node\" id=\"node110\">\n<title>139815420738808</title>\n<polygon fill=\"none\" points=\"15,-3431.5 15,-3467.5 286,-3467.5 286,-3431.5 15,-3431.5\" stroke=\"#000000\"/>\n<text fill=\"#000000\" font-family=\"Times,serif\" font-size=\"14.00\" text-anchor=\"middle\" x=\"150.5\" y=\"-3445.8\">block_12_expand_BN: BatchNormalization</text>\n</g>\n<!-- 139815420738416&#45;&gt;139815420738808 -->\n<g class=\"edge\" id=\"edge116\">\n<title>139815420738416-&gt;139815420738808</title>\n<path d=\"M168.5674,-3504.4551C165.8558,-3496.2074 162.5834,-3486.2536 159.5727,-3477.0962\" fill=\"none\" stroke=\"#000000\"/>\n<polygon fill=\"#000000\" points=\"162.8957,-3475.997 156.4475,-3467.5904 156.2459,-3478.1833 162.8957,-3475.997\" stroke=\"#000000\"/>\n</g>\n<!-- 139815420739088 -->\n<g class=\"node\" id=\"node111\">\n<title>139815420739088</title>\n<polygon fill=\"none\" points=\"50,-3358.5 50,-3394.5 243,-3394.5 243,-3358.5 50,-3358.5\" stroke=\"#000000\"/>\n<text fill=\"#000000\" font-family=\"Times,serif\" font-size=\"14.00\" text-anchor=\"middle\" x=\"146.5\" y=\"-3372.8\">block_12_expand_relu: ReLU</text>\n</g>\n<!-- 139815420738808&#45;&gt;139815420739088 -->\n<g class=\"edge\" id=\"edge117\">\n<title>139815420738808-&gt;139815420739088</title>\n<path d=\"M149.5112,-3431.4551C149.0689,-3423.3828 148.5371,-3413.6764 148.0442,-3404.6817\" fill=\"none\" stroke=\"#000000\"/>\n<polygon fill=\"#000000\" points=\"151.5332,-3404.3839 147.4913,-3394.5904 144.5437,-3404.7669 151.5332,-3404.3839\" stroke=\"#000000\"/>\n</g>\n<!-- 139815420739144 -->\n<g class=\"node\" id=\"node112\">\n<title>139815420739144</title>\n<polygon fill=\"none\" points=\"17,-3285.5 17,-3321.5 272,-3321.5 272,-3285.5 17,-3285.5\" stroke=\"#000000\"/>\n<text fill=\"#000000\" font-family=\"Times,serif\" font-size=\"14.00\" text-anchor=\"middle\" x=\"144.5\" y=\"-3299.8\">block_12_depthwise: DepthwiseConv2D</text>\n</g>\n<!-- 139815420739088&#45;&gt;139815420739144 -->\n<g class=\"edge\" id=\"edge118\">\n<title>139815420739088-&gt;139815420739144</title>\n<path d=\"M146.0056,-3358.4551C145.7845,-3350.3828 145.5185,-3340.6764 145.2721,-3331.6817\" fill=\"none\" stroke=\"#000000\"/>\n<polygon fill=\"#000000\" points=\"148.7683,-3331.4907 144.9956,-3321.5904 141.7709,-3331.6825 148.7683,-3331.4907\" stroke=\"#000000\"/>\n</g>\n<!-- 139815420739256 -->\n<g class=\"node\" id=\"node113\">\n<title>139815420739256</title>\n<polygon fill=\"none\" points=\"0,-3212.5 0,-3248.5 287,-3248.5 287,-3212.5 0,-3212.5\" stroke=\"#000000\"/>\n<text fill=\"#000000\" font-family=\"Times,serif\" font-size=\"14.00\" text-anchor=\"middle\" x=\"143.5\" y=\"-3226.8\">block_12_depthwise_BN: BatchNormalization</text>\n</g>\n<!-- 139815420739144&#45;&gt;139815420739256 -->\n<g class=\"edge\" id=\"edge119\">\n<title>139815420739144-&gt;139815420739256</title>\n<path d=\"M144.2528,-3285.4551C144.1422,-3277.3828 144.0093,-3267.6764 143.8861,-3258.6817\" fill=\"none\" stroke=\"#000000\"/>\n<polygon fill=\"#000000\" points=\"147.3846,-3258.5414 143.7478,-3248.5904 140.3852,-3258.6374 147.3846,-3258.5414\" stroke=\"#000000\"/>\n</g>\n<!-- 139815420628944 -->\n<g class=\"node\" id=\"node114\">\n<title>139815420628944</title>\n<polygon fill=\"none\" points=\"41,-3139.5 41,-3175.5 250,-3175.5 250,-3139.5 41,-3139.5\" stroke=\"#000000\"/>\n<text fill=\"#000000\" font-family=\"Times,serif\" font-size=\"14.00\" text-anchor=\"middle\" x=\"145.5\" y=\"-3153.8\">block_12_depthwise_relu: ReLU</text>\n</g>\n<!-- 139815420739256&#45;&gt;139815420628944 -->\n<g class=\"edge\" id=\"edge120\">\n<title>139815420739256-&gt;139815420628944</title>\n<path d=\"M143.9944,-3212.4551C144.2155,-3204.3828 144.4815,-3194.6764 144.7279,-3185.6817\" fill=\"none\" stroke=\"#000000\"/>\n<polygon fill=\"#000000\" points=\"148.2291,-3185.6825 145.0044,-3175.5904 141.2317,-3185.4907 148.2291,-3185.6825\" stroke=\"#000000\"/>\n</g>\n<!-- 139815420760584 -->\n<g class=\"node\" id=\"node115\">\n<title>139815420760584</title>\n<polygon fill=\"none\" points=\"62.5,-3066.5 62.5,-3102.5 238.5,-3102.5 238.5,-3066.5 62.5,-3066.5\" stroke=\"#000000\"/>\n<text fill=\"#000000\" font-family=\"Times,serif\" font-size=\"14.00\" text-anchor=\"middle\" x=\"150.5\" y=\"-3080.8\">block_12_project: Conv2D</text>\n</g>\n<!-- 139815420628944&#45;&gt;139815420760584 -->\n<g class=\"edge\" id=\"edge121\">\n<title>139815420628944-&gt;139815420760584</title>\n<path d=\"M146.736,-3139.4551C147.2888,-3131.3828 147.9537,-3121.6764 148.5697,-3112.6817\" fill=\"none\" stroke=\"#000000\"/>\n<polygon fill=\"#000000\" points=\"152.0693,-3112.8062 149.2609,-3102.5904 145.0857,-3112.3278 152.0693,-3112.8062\" stroke=\"#000000\"/>\n</g>\n<!-- 139815420760976 -->\n<g class=\"node\" id=\"node116\">\n<title>139815420760976</title>\n<polygon fill=\"none\" points=\"18.5,-2993.5 18.5,-3029.5 286.5,-3029.5 286.5,-2993.5 18.5,-2993.5\" stroke=\"#000000\"/>\n<text fill=\"#000000\" font-family=\"Times,serif\" font-size=\"14.00\" text-anchor=\"middle\" x=\"152.5\" y=\"-3007.8\">block_12_project_BN: BatchNormalization</text>\n</g>\n<!-- 139815420760584&#45;&gt;139815420760976 -->\n<g class=\"edge\" id=\"edge122\">\n<title>139815420760584-&gt;139815420760976</title>\n<path d=\"M150.9944,-3066.4551C151.2155,-3058.3828 151.4815,-3048.6764 151.7279,-3039.6817\" fill=\"none\" stroke=\"#000000\"/>\n<polygon fill=\"#000000\" points=\"155.2291,-3039.6825 152.0044,-3029.5904 148.2317,-3039.4907 155.2291,-3039.6825\" stroke=\"#000000\"/>\n</g>\n<!-- 139815420760976&#45;&gt;139815420761256 -->\n<g class=\"edge\" id=\"edge124\">\n<title>139815420760976-&gt;139815420761256</title>\n<path d=\"M172.5225,-2993.4551C182.5502,-2984.4177 194.8509,-2973.3319 205.7714,-2963.4899\" fill=\"none\" stroke=\"#000000\"/>\n<polygon fill=\"#000000\" points=\"208.3419,-2965.885 213.4271,-2956.5904 203.6556,-2960.6852 208.3419,-2965.885\" stroke=\"#000000\"/>\n</g>\n<!-- 139815420761312 -->\n<g class=\"node\" id=\"node118\">\n<title>139815420761312</title>\n<polygon fill=\"none\" points=\"144,-2847.5 144,-2883.5 323,-2883.5 323,-2847.5 144,-2847.5\" stroke=\"#000000\"/>\n<text fill=\"#000000\" font-family=\"Times,serif\" font-size=\"14.00\" text-anchor=\"middle\" x=\"233.5\" y=\"-2861.8\">block_13_expand: Conv2D</text>\n</g>\n<!-- 139815420761256&#45;&gt;139815420761312 -->\n<g class=\"edge\" id=\"edge125\">\n<title>139815420761256-&gt;139815420761312</title>\n<path d=\"M233.5,-2920.4551C233.5,-2912.3828 233.5,-2902.6764 233.5,-2893.6817\" fill=\"none\" stroke=\"#000000\"/>\n<polygon fill=\"#000000\" points=\"237.0001,-2893.5903 233.5,-2883.5904 230.0001,-2893.5904 237.0001,-2893.5903\" stroke=\"#000000\"/>\n</g>\n<!-- 139815420761704 -->\n<g class=\"node\" id=\"node119\">\n<title>139815420761704</title>\n<polygon fill=\"none\" points=\"98,-2774.5 98,-2810.5 369,-2810.5 369,-2774.5 98,-2774.5\" stroke=\"#000000\"/>\n<text fill=\"#000000\" font-family=\"Times,serif\" font-size=\"14.00\" text-anchor=\"middle\" x=\"233.5\" y=\"-2788.8\">block_13_expand_BN: BatchNormalization</text>\n</g>\n<!-- 139815420761312&#45;&gt;139815420761704 -->\n<g class=\"edge\" id=\"edge126\">\n<title>139815420761312-&gt;139815420761704</title>\n<path d=\"M233.5,-2847.4551C233.5,-2839.3828 233.5,-2829.6764 233.5,-2820.6817\" fill=\"none\" stroke=\"#000000\"/>\n<polygon fill=\"#000000\" points=\"237.0001,-2820.5903 233.5,-2810.5904 230.0001,-2820.5904 237.0001,-2820.5903\" stroke=\"#000000\"/>\n</g>\n<!-- 139815420761984 -->\n<g class=\"node\" id=\"node120\">\n<title>139815420761984</title>\n<polygon fill=\"none\" points=\"137,-2701.5 137,-2737.5 330,-2737.5 330,-2701.5 137,-2701.5\" stroke=\"#000000\"/>\n<text fill=\"#000000\" font-family=\"Times,serif\" font-size=\"14.00\" text-anchor=\"middle\" x=\"233.5\" y=\"-2715.8\">block_13_expand_relu: ReLU</text>\n</g>\n<!-- 139815420761704&#45;&gt;139815420761984 -->\n<g class=\"edge\" id=\"edge127\">\n<title>139815420761704-&gt;139815420761984</title>\n<path d=\"M233.5,-2774.4551C233.5,-2766.3828 233.5,-2756.6764 233.5,-2747.6817\" fill=\"none\" stroke=\"#000000\"/>\n<polygon fill=\"#000000\" points=\"237.0001,-2747.5903 233.5,-2737.5904 230.0001,-2747.5904 237.0001,-2747.5903\" stroke=\"#000000\"/>\n</g>\n<!-- 139815420762040 -->\n<g class=\"node\" id=\"node121\">\n<title>139815420762040</title>\n<polygon fill=\"none\" points=\"133.5,-2628.5 133.5,-2664.5 333.5,-2664.5 333.5,-2628.5 133.5,-2628.5\" stroke=\"#000000\"/>\n<text fill=\"#000000\" font-family=\"Times,serif\" font-size=\"14.00\" text-anchor=\"middle\" x=\"233.5\" y=\"-2642.8\">block_13_pad: ZeroPadding2D</text>\n</g>\n<!-- 139815420761984&#45;&gt;139815420762040 -->\n<g class=\"edge\" id=\"edge128\">\n<title>139815420761984-&gt;139815420762040</title>\n<path d=\"M233.5,-2701.4551C233.5,-2693.3828 233.5,-2683.6764 233.5,-2674.6817\" fill=\"none\" stroke=\"#000000\"/>\n<polygon fill=\"#000000\" points=\"237.0001,-2674.5903 233.5,-2664.5904 230.0001,-2674.5904 237.0001,-2674.5903\" stroke=\"#000000\"/>\n</g>\n<!-- 139815420762096 -->\n<g class=\"node\" id=\"node122\">\n<title>139815420762096</title>\n<polygon fill=\"none\" points=\"106,-2555.5 106,-2591.5 361,-2591.5 361,-2555.5 106,-2555.5\" stroke=\"#000000\"/>\n<text fill=\"#000000\" font-family=\"Times,serif\" font-size=\"14.00\" text-anchor=\"middle\" x=\"233.5\" y=\"-2569.8\">block_13_depthwise: DepthwiseConv2D</text>\n</g>\n<!-- 139815420762040&#45;&gt;139815420762096 -->\n<g class=\"edge\" id=\"edge129\">\n<title>139815420762040-&gt;139815420762096</title>\n<path d=\"M233.5,-2628.4551C233.5,-2620.3828 233.5,-2610.6764 233.5,-2601.6817\" fill=\"none\" stroke=\"#000000\"/>\n<polygon fill=\"#000000\" points=\"237.0001,-2601.5903 233.5,-2591.5904 230.0001,-2601.5904 237.0001,-2601.5903\" stroke=\"#000000\"/>\n</g>\n<!-- 139815420762208 -->\n<g class=\"node\" id=\"node123\">\n<title>139815420762208</title>\n<polygon fill=\"none\" points=\"90,-2482.5 90,-2518.5 377,-2518.5 377,-2482.5 90,-2482.5\" stroke=\"#000000\"/>\n<text fill=\"#000000\" font-family=\"Times,serif\" font-size=\"14.00\" text-anchor=\"middle\" x=\"233.5\" y=\"-2496.8\">block_13_depthwise_BN: BatchNormalization</text>\n</g>\n<!-- 139815420762096&#45;&gt;139815420762208 -->\n<g class=\"edge\" id=\"edge130\">\n<title>139815420762096-&gt;139815420762208</title>\n<path d=\"M233.5,-2555.4551C233.5,-2547.3828 233.5,-2537.6764 233.5,-2528.6817\" fill=\"none\" stroke=\"#000000\"/>\n<polygon fill=\"#000000\" points=\"237.0001,-2528.5903 233.5,-2518.5904 230.0001,-2528.5904 237.0001,-2528.5903\" stroke=\"#000000\"/>\n</g>\n<!-- 139815420762936 -->\n<g class=\"node\" id=\"node124\">\n<title>139815420762936</title>\n<polygon fill=\"none\" points=\"129,-2409.5 129,-2445.5 338,-2445.5 338,-2409.5 129,-2409.5\" stroke=\"#000000\"/>\n<text fill=\"#000000\" font-family=\"Times,serif\" font-size=\"14.00\" text-anchor=\"middle\" x=\"233.5\" y=\"-2423.8\">block_13_depthwise_relu: ReLU</text>\n</g>\n<!-- 139815420762208&#45;&gt;139815420762936 -->\n<g class=\"edge\" id=\"edge131\">\n<title>139815420762208-&gt;139815420762936</title>\n<path d=\"M233.5,-2482.4551C233.5,-2474.3828 233.5,-2464.6764 233.5,-2455.6817\" fill=\"none\" stroke=\"#000000\"/>\n<polygon fill=\"#000000\" points=\"237.0001,-2455.5903 233.5,-2445.5904 230.0001,-2455.5904 237.0001,-2455.5903\" stroke=\"#000000\"/>\n</g>\n<!-- 139815420762992 -->\n<g class=\"node\" id=\"node125\">\n<title>139815420762992</title>\n<polygon fill=\"none\" points=\"145.5,-2336.5 145.5,-2372.5 321.5,-2372.5 321.5,-2336.5 145.5,-2336.5\" stroke=\"#000000\"/>\n<text fill=\"#000000\" font-family=\"Times,serif\" font-size=\"14.00\" text-anchor=\"middle\" x=\"233.5\" y=\"-2350.8\">block_13_project: Conv2D</text>\n</g>\n<!-- 139815420762936&#45;&gt;139815420762992 -->\n<g class=\"edge\" id=\"edge132\">\n<title>139815420762936-&gt;139815420762992</title>\n<path d=\"M233.5,-2409.4551C233.5,-2401.3828 233.5,-2391.6764 233.5,-2382.6817\" fill=\"none\" stroke=\"#000000\"/>\n<polygon fill=\"#000000\" points=\"237.0001,-2382.5903 233.5,-2372.5904 230.0001,-2382.5904 237.0001,-2382.5903\" stroke=\"#000000\"/>\n</g>\n<!-- 139815420763384 -->\n<g class=\"node\" id=\"node126\">\n<title>139815420763384</title>\n<polygon fill=\"none\" points=\"99.5,-2263.5 99.5,-2299.5 367.5,-2299.5 367.5,-2263.5 99.5,-2263.5\" stroke=\"#000000\"/>\n<text fill=\"#000000\" font-family=\"Times,serif\" font-size=\"14.00\" text-anchor=\"middle\" x=\"233.5\" y=\"-2277.8\">block_13_project_BN: BatchNormalization</text>\n</g>\n<!-- 139815420762992&#45;&gt;139815420763384 -->\n<g class=\"edge\" id=\"edge133\">\n<title>139815420762992-&gt;139815420763384</title>\n<path d=\"M233.5,-2336.4551C233.5,-2328.3828 233.5,-2318.6764 233.5,-2309.6817\" fill=\"none\" stroke=\"#000000\"/>\n<polygon fill=\"#000000\" points=\"237.0001,-2309.5903 233.5,-2299.5904 230.0001,-2309.5904 237.0001,-2309.5903\" stroke=\"#000000\"/>\n</g>\n<!-- 139815420763664 -->\n<g class=\"node\" id=\"node127\">\n<title>139815420763664</title>\n<polygon fill=\"none\" points=\"85,-2190.5 85,-2226.5 264,-2226.5 264,-2190.5 85,-2190.5\" stroke=\"#000000\"/>\n<text fill=\"#000000\" font-family=\"Times,serif\" font-size=\"14.00\" text-anchor=\"middle\" x=\"174.5\" y=\"-2204.8\">block_14_expand: Conv2D</text>\n</g>\n<!-- 139815420763384&#45;&gt;139815420763664 -->\n<g class=\"edge\" id=\"edge134\">\n<title>139815420763384-&gt;139815420763664</title>\n<path d=\"M218.9157,-2263.4551C211.8952,-2254.7686 203.3452,-2244.1898 195.6285,-2234.642\" fill=\"none\" stroke=\"#000000\"/>\n<polygon fill=\"#000000\" points=\"198.129,-2232.1677 189.121,-2226.5904 192.6848,-2236.5678 198.129,-2232.1677\" stroke=\"#000000\"/>\n</g>\n<!-- 139815420766024 -->\n<g class=\"node\" id=\"node135\">\n<title>139815420766024</title>\n<polygon fill=\"none\" points=\"167.5,-1606.5 167.5,-1642.5 299.5,-1642.5 299.5,-1606.5 167.5,-1606.5\" stroke=\"#000000\"/>\n<text fill=\"#000000\" font-family=\"Times,serif\" font-size=\"14.00\" text-anchor=\"middle\" x=\"233.5\" y=\"-1620.8\">block_14_add: Add</text>\n</g>\n<!-- 139815420763384&#45;&gt;139815420766024 -->\n<g class=\"edge\" id=\"edge142\">\n<title>139815420763384-&gt;139815420766024</title>\n<path d=\"M252.1071,-2263.0709C276.3005,-2237.0525 315.5,-2186.9564 315.5,-2135.5 315.5,-2135.5 315.5,-2135.5 315.5,-1770.5 315.5,-1728.776 315.7226,-1714.9234 294.5,-1679 287.8313,-1667.7119 278.0393,-1657.4776 268.2439,-1649.005\" fill=\"none\" stroke=\"#000000\"/>\n<polygon fill=\"#000000\" points=\"270.3963,-1646.2436 260.4471,-1642.6015 265.9534,-1651.653 270.3963,-1646.2436\" stroke=\"#000000\"/>\n</g>\n<!-- 139815420764056 -->\n<g class=\"node\" id=\"node128\">\n<title>139815420764056</title>\n<polygon fill=\"none\" points=\"15,-2117.5 15,-2153.5 286,-2153.5 286,-2117.5 15,-2117.5\" stroke=\"#000000\"/>\n<text fill=\"#000000\" font-family=\"Times,serif\" font-size=\"14.00\" text-anchor=\"middle\" x=\"150.5\" y=\"-2131.8\">block_14_expand_BN: BatchNormalization</text>\n</g>\n<!-- 139815420763664&#45;&gt;139815420764056 -->\n<g class=\"edge\" id=\"edge135\">\n<title>139815420763664-&gt;139815420764056</title>\n<path d=\"M168.5674,-2190.4551C165.8558,-2182.2074 162.5834,-2172.2536 159.5727,-2163.0962\" fill=\"none\" stroke=\"#000000\"/>\n<polygon fill=\"#000000\" points=\"162.8957,-2161.997 156.4475,-2153.5904 156.2459,-2164.1833 162.8957,-2161.997\" stroke=\"#000000\"/>\n</g>\n<!-- 139815420739536 -->\n<g class=\"node\" id=\"node129\">\n<title>139815420739536</title>\n<polygon fill=\"none\" points=\"53,-2044.5 53,-2080.5 246,-2080.5 246,-2044.5 53,-2044.5\" stroke=\"#000000\"/>\n<text fill=\"#000000\" font-family=\"Times,serif\" font-size=\"14.00\" text-anchor=\"middle\" x=\"149.5\" y=\"-2058.8\">block_14_expand_relu: ReLU</text>\n</g>\n<!-- 139815420764056&#45;&gt;139815420739536 -->\n<g class=\"edge\" id=\"edge136\">\n<title>139815420764056-&gt;139815420739536</title>\n<path d=\"M150.2528,-2117.4551C150.1422,-2109.3828 150.0093,-2099.6764 149.8861,-2090.6817\" fill=\"none\" stroke=\"#000000\"/>\n<polygon fill=\"#000000\" points=\"153.3846,-2090.5414 149.7478,-2080.5904 146.3852,-2090.6374 153.3846,-2090.5414\" stroke=\"#000000\"/>\n</g>\n<!-- 139815420764456 -->\n<g class=\"node\" id=\"node130\">\n<title>139815420764456</title>\n<polygon fill=\"none\" points=\"18,-1971.5 18,-2007.5 273,-2007.5 273,-1971.5 18,-1971.5\" stroke=\"#000000\"/>\n<text fill=\"#000000\" font-family=\"Times,serif\" font-size=\"14.00\" text-anchor=\"middle\" x=\"145.5\" y=\"-1985.8\">block_14_depthwise: DepthwiseConv2D</text>\n</g>\n<!-- 139815420739536&#45;&gt;139815420764456 -->\n<g class=\"edge\" id=\"edge137\">\n<title>139815420739536-&gt;139815420764456</title>\n<path d=\"M148.5112,-2044.4551C148.0689,-2036.3828 147.5371,-2026.6764 147.0442,-2017.6817\" fill=\"none\" stroke=\"#000000\"/>\n<polygon fill=\"#000000\" points=\"150.5332,-2017.3839 146.4913,-2007.5904 143.5437,-2017.7669 150.5332,-2017.3839\" stroke=\"#000000\"/>\n</g>\n<!-- 139815420764568 -->\n<g class=\"node\" id=\"node131\">\n<title>139815420764568</title>\n<polygon fill=\"none\" points=\"0,-1898.5 0,-1934.5 287,-1934.5 287,-1898.5 0,-1898.5\" stroke=\"#000000\"/>\n<text fill=\"#000000\" font-family=\"Times,serif\" font-size=\"14.00\" text-anchor=\"middle\" x=\"143.5\" y=\"-1912.8\">block_14_depthwise_BN: BatchNormalization</text>\n</g>\n<!-- 139815420764456&#45;&gt;139815420764568 -->\n<g class=\"edge\" id=\"edge138\">\n<title>139815420764456-&gt;139815420764568</title>\n<path d=\"M145.0056,-1971.4551C144.7845,-1963.3828 144.5185,-1953.6764 144.2721,-1944.6817\" fill=\"none\" stroke=\"#000000\"/>\n<polygon fill=\"#000000\" points=\"147.7683,-1944.4907 143.9956,-1934.5904 140.7709,-1944.6825 147.7683,-1944.4907\" stroke=\"#000000\"/>\n</g>\n<!-- 139815420765296 -->\n<g class=\"node\" id=\"node132\">\n<title>139815420765296</title>\n<polygon fill=\"none\" points=\"44,-1825.5 44,-1861.5 253,-1861.5 253,-1825.5 44,-1825.5\" stroke=\"#000000\"/>\n<text fill=\"#000000\" font-family=\"Times,serif\" font-size=\"14.00\" text-anchor=\"middle\" x=\"148.5\" y=\"-1839.8\">block_14_depthwise_relu: ReLU</text>\n</g>\n<!-- 139815420764568&#45;&gt;139815420765296 -->\n<g class=\"edge\" id=\"edge139\">\n<title>139815420764568-&gt;139815420765296</title>\n<path d=\"M144.736,-1898.4551C145.2888,-1890.3828 145.9537,-1880.6764 146.5697,-1871.6817\" fill=\"none\" stroke=\"#000000\"/>\n<polygon fill=\"#000000\" points=\"150.0693,-1871.8062 147.2609,-1861.5904 143.0857,-1871.3278 150.0693,-1871.8062\" stroke=\"#000000\"/>\n</g>\n<!-- 139815420765352 -->\n<g class=\"node\" id=\"node133\">\n<title>139815420765352</title>\n<polygon fill=\"none\" points=\"62.5,-1752.5 62.5,-1788.5 238.5,-1788.5 238.5,-1752.5 62.5,-1752.5\" stroke=\"#000000\"/>\n<text fill=\"#000000\" font-family=\"Times,serif\" font-size=\"14.00\" text-anchor=\"middle\" x=\"150.5\" y=\"-1766.8\">block_14_project: Conv2D</text>\n</g>\n<!-- 139815420765296&#45;&gt;139815420765352 -->\n<g class=\"edge\" id=\"edge140\">\n<title>139815420765296-&gt;139815420765352</title>\n<path d=\"M148.9944,-1825.4551C149.2155,-1817.3828 149.4815,-1807.6764 149.7279,-1798.6817\" fill=\"none\" stroke=\"#000000\"/>\n<polygon fill=\"#000000\" points=\"153.2291,-1798.6825 150.0044,-1788.5904 146.2317,-1798.4907 153.2291,-1798.6825\" stroke=\"#000000\"/>\n</g>\n<!-- 139815420765744 -->\n<g class=\"node\" id=\"node134\">\n<title>139815420765744</title>\n<polygon fill=\"none\" points=\"17.5,-1679.5 17.5,-1715.5 285.5,-1715.5 285.5,-1679.5 17.5,-1679.5\" stroke=\"#000000\"/>\n<text fill=\"#000000\" font-family=\"Times,serif\" font-size=\"14.00\" text-anchor=\"middle\" x=\"151.5\" y=\"-1693.8\">block_14_project_BN: BatchNormalization</text>\n</g>\n<!-- 139815420765352&#45;&gt;139815420765744 -->\n<g class=\"edge\" id=\"edge141\">\n<title>139815420765352-&gt;139815420765744</title>\n<path d=\"M150.7472,-1752.4551C150.8578,-1744.3828 150.9907,-1734.6764 151.1139,-1725.6817\" fill=\"none\" stroke=\"#000000\"/>\n<polygon fill=\"#000000\" points=\"154.6148,-1725.6374 151.2522,-1715.5904 147.6154,-1725.5414 154.6148,-1725.6374\" stroke=\"#000000\"/>\n</g>\n<!-- 139815420765744&#45;&gt;139815420766024 -->\n<g class=\"edge\" id=\"edge143\">\n<title>139815420765744-&gt;139815420766024</title>\n<path d=\"M171.7697,-1679.4551C181.9212,-1670.4177 194.3738,-1659.3319 205.4291,-1649.4899\" fill=\"none\" stroke=\"#000000\"/>\n<polygon fill=\"#000000\" points=\"208.0375,-1651.8539 213.1793,-1642.5904 203.383,-1646.6255 208.0375,-1651.8539\" stroke=\"#000000\"/>\n</g>\n<!-- 139815420766080 -->\n<g class=\"node\" id=\"node137\">\n<title>139815420766080</title>\n<polygon fill=\"none\" points=\"85,-1533.5 85,-1569.5 264,-1569.5 264,-1533.5 85,-1533.5\" stroke=\"#000000\"/>\n<text fill=\"#000000\" font-family=\"Times,serif\" font-size=\"14.00\" text-anchor=\"middle\" x=\"174.5\" y=\"-1547.8\">block_15_expand: Conv2D</text>\n</g>\n<!-- 139815420766024&#45;&gt;139815420766080 -->\n<g class=\"edge\" id=\"edge144\">\n<title>139815420766024-&gt;139815420766080</title>\n<path d=\"M218.9157,-1606.4551C211.8952,-1597.7686 203.3452,-1587.1898 195.6285,-1577.642\" fill=\"none\" stroke=\"#000000\"/>\n<polygon fill=\"#000000\" points=\"198.129,-1575.1677 189.121,-1569.5904 192.6848,-1579.5678 198.129,-1575.1677\" stroke=\"#000000\"/>\n</g>\n<!-- 139815420764112 -->\n<g class=\"node\" id=\"node153\">\n<title>139815420764112</title>\n<polygon fill=\"none\" points=\"167.5,-949.5 167.5,-985.5 299.5,-985.5 299.5,-949.5 167.5,-949.5\" stroke=\"#000000\"/>\n<text fill=\"#000000\" font-family=\"Times,serif\" font-size=\"14.00\" text-anchor=\"middle\" x=\"233.5\" y=\"-963.8\">block_15_add: Add</text>\n</g>\n<!-- 139815420766024&#45;&gt;139815420764112 -->\n<g class=\"edge\" id=\"edge160\">\n<title>139815420766024-&gt;139815420764112</title>\n<path d=\"M252.1071,-1606.0709C276.3005,-1580.0525 315.5,-1529.9564 315.5,-1478.5 315.5,-1478.5 315.5,-1478.5 315.5,-1113.5 315.5,-1071.8732 316.6313,-1057.8644 295.5,-1022 288.841,-1010.6982 279.0178,-1000.5111 269.1444,-992.0862\" fill=\"none\" stroke=\"#000000\"/>\n<polygon fill=\"#000000\" points=\"271.2507,-989.2883 261.2749,-985.7199 266.8481,-994.7305 271.2507,-989.2883\" stroke=\"#000000\"/>\n</g>\n<!-- 139815503869712 -->\n<g class=\"node\" id=\"node136\">\n<title>139815503869712</title>\n<polygon fill=\"none\" points=\"416,-11388.5 416,-11424.5 553,-11424.5 553,-11388.5 416,-11388.5\" stroke=\"#000000\"/>\n<text fill=\"#000000\" font-family=\"Times,serif\" font-size=\"14.00\" text-anchor=\"middle\" x=\"484.5\" y=\"-11402.8\">input_ac: InputLayer</text>\n</g>\n<!-- 139815503868816 -->\n<g class=\"node\" id=\"node138\">\n<title>139815503868816</title>\n<polygon fill=\"none\" points=\"419.5,-11315.5 419.5,-11351.5 549.5,-11351.5 549.5,-11315.5 419.5,-11315.5\" stroke=\"#000000\"/>\n<text fill=\"#000000\" font-family=\"Times,serif\" font-size=\"14.00\" text-anchor=\"middle\" x=\"484.5\" y=\"-11329.8\">conv1_ac: Conv3D</text>\n</g>\n<!-- 139815503869712&#45;&gt;139815503868816 -->\n<g class=\"edge\" id=\"edge145\">\n<title>139815503869712-&gt;139815503868816</title>\n<path d=\"M484.5,-11388.4551C484.5,-11380.3828 484.5,-11370.6764 484.5,-11361.6817\" fill=\"none\" stroke=\"#000000\"/>\n<polygon fill=\"#000000\" points=\"488.0001,-11361.5903 484.5,-11351.5904 481.0001,-11361.5904 488.0001,-11361.5903\" stroke=\"#000000\"/>\n</g>\n<!-- 139815420766472 -->\n<g class=\"node\" id=\"node139\">\n<title>139815420766472</title>\n<polygon fill=\"none\" points=\"15,-1460.5 15,-1496.5 286,-1496.5 286,-1460.5 15,-1460.5\" stroke=\"#000000\"/>\n<text fill=\"#000000\" font-family=\"Times,serif\" font-size=\"14.00\" text-anchor=\"middle\" x=\"150.5\" y=\"-1474.8\">block_15_expand_BN: BatchNormalization</text>\n</g>\n<!-- 139815420766080&#45;&gt;139815420766472 -->\n<g class=\"edge\" id=\"edge146\">\n<title>139815420766080-&gt;139815420766472</title>\n<path d=\"M168.5674,-1533.4551C165.8558,-1525.2074 162.5834,-1515.2536 159.5727,-1506.0962\" fill=\"none\" stroke=\"#000000\"/>\n<polygon fill=\"#000000\" points=\"162.8957,-1504.997 156.4475,-1496.5904 156.2459,-1507.1833 162.8957,-1504.997\" stroke=\"#000000\"/>\n</g>\n<!-- 139815503868200 -->\n<g class=\"node\" id=\"node140\">\n<title>139815503868200</title>\n<polygon fill=\"none\" points=\"421,-11242.5 421,-11278.5 548,-11278.5 548,-11242.5 421,-11242.5\" stroke=\"#000000\"/>\n<text fill=\"#000000\" font-family=\"Times,serif\" font-size=\"14.00\" text-anchor=\"middle\" x=\"484.5\" y=\"-11256.8\">p_re_lu_1: PReLU</text>\n</g>\n<!-- 139815503868816&#45;&gt;139815503868200 -->\n<g class=\"edge\" id=\"edge147\">\n<title>139815503868816-&gt;139815503868200</title>\n<path d=\"M484.5,-11315.4551C484.5,-11307.3828 484.5,-11297.6764 484.5,-11288.6817\" fill=\"none\" stroke=\"#000000\"/>\n<polygon fill=\"#000000\" points=\"488.0001,-11288.5903 484.5,-11278.5904 481.0001,-11288.5904 488.0001,-11288.5903\" stroke=\"#000000\"/>\n</g>\n<!-- 139815420766752 -->\n<g class=\"node\" id=\"node141\">\n<title>139815420766752</title>\n<polygon fill=\"none\" points=\"50,-1387.5 50,-1423.5 243,-1423.5 243,-1387.5 50,-1387.5\" stroke=\"#000000\"/>\n<text fill=\"#000000\" font-family=\"Times,serif\" font-size=\"14.00\" text-anchor=\"middle\" x=\"146.5\" y=\"-1401.8\">block_15_expand_relu: ReLU</text>\n</g>\n<!-- 139815420766472&#45;&gt;139815420766752 -->\n<g class=\"edge\" id=\"edge148\">\n<title>139815420766472-&gt;139815420766752</title>\n<path d=\"M149.5112,-1460.4551C149.0689,-1452.3828 148.5371,-1442.6764 148.0442,-1433.6817\" fill=\"none\" stroke=\"#000000\"/>\n<polygon fill=\"#000000\" points=\"151.5332,-1433.3839 147.4913,-1423.5904 144.5437,-1433.7669 151.5332,-1433.3839\" stroke=\"#000000\"/>\n</g>\n<!-- 139815503868368 -->\n<g class=\"node\" id=\"node142\">\n<title>139815503868368</title>\n<polygon fill=\"none\" points=\"419.5,-11169.5 419.5,-11205.5 549.5,-11205.5 549.5,-11169.5 419.5,-11169.5\" stroke=\"#000000\"/>\n<text fill=\"#000000\" font-family=\"Times,serif\" font-size=\"14.00\" text-anchor=\"middle\" x=\"484.5\" y=\"-11183.8\">conv2_ac: Conv3D</text>\n</g>\n<!-- 139815503868200&#45;&gt;139815503868368 -->\n<g class=\"edge\" id=\"edge149\">\n<title>139815503868200-&gt;139815503868368</title>\n<path d=\"M484.5,-11242.4551C484.5,-11234.3828 484.5,-11224.6764 484.5,-11215.6817\" fill=\"none\" stroke=\"#000000\"/>\n<polygon fill=\"#000000\" points=\"488.0001,-11215.5903 484.5,-11205.5904 481.0001,-11215.5904 488.0001,-11215.5903\" stroke=\"#000000\"/>\n</g>\n<!-- 139815420766808 -->\n<g class=\"node\" id=\"node143\">\n<title>139815420766808</title>\n<polygon fill=\"none\" points=\"18,-1314.5 18,-1350.5 273,-1350.5 273,-1314.5 18,-1314.5\" stroke=\"#000000\"/>\n<text fill=\"#000000\" font-family=\"Times,serif\" font-size=\"14.00\" text-anchor=\"middle\" x=\"145.5\" y=\"-1328.8\">block_15_depthwise: DepthwiseConv2D</text>\n</g>\n<!-- 139815420766752&#45;&gt;139815420766808 -->\n<g class=\"edge\" id=\"edge150\">\n<title>139815420766752-&gt;139815420766808</title>\n<path d=\"M146.2528,-1387.4551C146.1422,-1379.3828 146.0093,-1369.6764 145.8861,-1360.6817\" fill=\"none\" stroke=\"#000000\"/>\n<polygon fill=\"#000000\" points=\"149.3846,-1360.5414 145.7478,-1350.5904 142.3852,-1360.6374 149.3846,-1360.5414\" stroke=\"#000000\"/>\n</g>\n<!-- 139815482506992 -->\n<g class=\"node\" id=\"node144\">\n<title>139815482506992</title>\n<polygon fill=\"none\" points=\"421,-11096.5 421,-11132.5 548,-11132.5 548,-11096.5 421,-11096.5\" stroke=\"#000000\"/>\n<text fill=\"#000000\" font-family=\"Times,serif\" font-size=\"14.00\" text-anchor=\"middle\" x=\"484.5\" y=\"-11110.8\">p_re_lu_2: PReLU</text>\n</g>\n<!-- 139815503868368&#45;&gt;139815482506992 -->\n<g class=\"edge\" id=\"edge151\">\n<title>139815503868368-&gt;139815482506992</title>\n<path d=\"M484.5,-11169.4551C484.5,-11161.3828 484.5,-11151.6764 484.5,-11142.6817\" fill=\"none\" stroke=\"#000000\"/>\n<polygon fill=\"#000000\" points=\"488.0001,-11142.5903 484.5,-11132.5904 481.0001,-11142.5904 488.0001,-11142.5903\" stroke=\"#000000\"/>\n</g>\n<!-- 139815420766920 -->\n<g class=\"node\" id=\"node145\">\n<title>139815420766920</title>\n<polygon fill=\"none\" points=\"0,-1241.5 0,-1277.5 287,-1277.5 287,-1241.5 0,-1241.5\" stroke=\"#000000\"/>\n<text fill=\"#000000\" font-family=\"Times,serif\" font-size=\"14.00\" text-anchor=\"middle\" x=\"143.5\" y=\"-1255.8\">block_15_depthwise_BN: BatchNormalization</text>\n</g>\n<!-- 139815420766808&#45;&gt;139815420766920 -->\n<g class=\"edge\" id=\"edge152\">\n<title>139815420766808-&gt;139815420766920</title>\n<path d=\"M145.0056,-1314.4551C144.7845,-1306.3828 144.5185,-1296.6764 144.2721,-1287.6817\" fill=\"none\" stroke=\"#000000\"/>\n<polygon fill=\"#000000\" points=\"147.7683,-1287.4907 143.9956,-1277.5904 140.7709,-1287.6825 147.7683,-1287.4907\" stroke=\"#000000\"/>\n</g>\n<!-- 139815482506432 -->\n<g class=\"node\" id=\"node146\">\n<title>139815482506432</title>\n<polygon fill=\"none\" points=\"419.5,-11023.5 419.5,-11059.5 549.5,-11059.5 549.5,-11023.5 419.5,-11023.5\" stroke=\"#000000\"/>\n<text fill=\"#000000\" font-family=\"Times,serif\" font-size=\"14.00\" text-anchor=\"middle\" x=\"484.5\" y=\"-11037.8\">conv3_ac: Conv3D</text>\n</g>\n<!-- 139815482506992&#45;&gt;139815482506432 -->\n<g class=\"edge\" id=\"edge153\">\n<title>139815482506992-&gt;139815482506432</title>\n<path d=\"M484.5,-11096.4551C484.5,-11088.3828 484.5,-11078.6764 484.5,-11069.6817\" fill=\"none\" stroke=\"#000000\"/>\n<polygon fill=\"#000000\" points=\"488.0001,-11069.5903 484.5,-11059.5904 481.0001,-11069.5904 488.0001,-11069.5903\" stroke=\"#000000\"/>\n</g>\n<!-- 139815420767648 -->\n<g class=\"node\" id=\"node147\">\n<title>139815420767648</title>\n<polygon fill=\"none\" points=\"44,-1168.5 44,-1204.5 253,-1204.5 253,-1168.5 44,-1168.5\" stroke=\"#000000\"/>\n<text fill=\"#000000\" font-family=\"Times,serif\" font-size=\"14.00\" text-anchor=\"middle\" x=\"148.5\" y=\"-1182.8\">block_15_depthwise_relu: ReLU</text>\n</g>\n<!-- 139815420766920&#45;&gt;139815420767648 -->\n<g class=\"edge\" id=\"edge154\">\n<title>139815420766920-&gt;139815420767648</title>\n<path d=\"M144.736,-1241.4551C145.2888,-1233.3828 145.9537,-1223.6764 146.5697,-1214.6817\" fill=\"none\" stroke=\"#000000\"/>\n<polygon fill=\"#000000\" points=\"150.0693,-1214.8062 147.2609,-1204.5904 143.0857,-1214.3278 150.0693,-1214.8062\" stroke=\"#000000\"/>\n</g>\n<!-- 139815482506040 -->\n<g class=\"node\" id=\"node148\">\n<title>139815482506040</title>\n<polygon fill=\"none\" points=\"421,-10950.5 421,-10986.5 548,-10986.5 548,-10950.5 421,-10950.5\" stroke=\"#000000\"/>\n<text fill=\"#000000\" font-family=\"Times,serif\" font-size=\"14.00\" text-anchor=\"middle\" x=\"484.5\" y=\"-10964.8\">p_re_lu_3: PReLU</text>\n</g>\n<!-- 139815482506432&#45;&gt;139815482506040 -->\n<g class=\"edge\" id=\"edge155\">\n<title>139815482506432-&gt;139815482506040</title>\n<path d=\"M484.5,-11023.4551C484.5,-11015.3828 484.5,-11005.6764 484.5,-10996.6817\" fill=\"none\" stroke=\"#000000\"/>\n<polygon fill=\"#000000\" points=\"488.0001,-10996.5903 484.5,-10986.5904 481.0001,-10996.5904 488.0001,-10996.5903\" stroke=\"#000000\"/>\n</g>\n<!-- 139815420767704 -->\n<g class=\"node\" id=\"node149\">\n<title>139815420767704</title>\n<polygon fill=\"none\" points=\"62.5,-1095.5 62.5,-1131.5 238.5,-1131.5 238.5,-1095.5 62.5,-1095.5\" stroke=\"#000000\"/>\n<text fill=\"#000000\" font-family=\"Times,serif\" font-size=\"14.00\" text-anchor=\"middle\" x=\"150.5\" y=\"-1109.8\">block_15_project: Conv2D</text>\n</g>\n<!-- 139815420767648&#45;&gt;139815420767704 -->\n<g class=\"edge\" id=\"edge156\">\n<title>139815420767648-&gt;139815420767704</title>\n<path d=\"M148.9944,-1168.4551C149.2155,-1160.3828 149.4815,-1150.6764 149.7279,-1141.6817\" fill=\"none\" stroke=\"#000000\"/>\n<polygon fill=\"#000000\" points=\"153.2291,-1141.6825 150.0044,-1131.5904 146.2317,-1141.4907 153.2291,-1141.6825\" stroke=\"#000000\"/>\n</g>\n<!-- 139815482506320 -->\n<g class=\"node\" id=\"node150\">\n<title>139815482506320</title>\n<polygon fill=\"none\" points=\"419.5,-10877.5 419.5,-10913.5 549.5,-10913.5 549.5,-10877.5 419.5,-10877.5\" stroke=\"#000000\"/>\n<text fill=\"#000000\" font-family=\"Times,serif\" font-size=\"14.00\" text-anchor=\"middle\" x=\"484.5\" y=\"-10891.8\">conv4_ac: Conv3D</text>\n</g>\n<!-- 139815482506040&#45;&gt;139815482506320 -->\n<g class=\"edge\" id=\"edge157\">\n<title>139815482506040-&gt;139815482506320</title>\n<path d=\"M484.5,-10950.4551C484.5,-10942.3828 484.5,-10932.6764 484.5,-10923.6817\" fill=\"none\" stroke=\"#000000\"/>\n<polygon fill=\"#000000\" points=\"488.0001,-10923.5903 484.5,-10913.5904 481.0001,-10923.5904 488.0001,-10923.5903\" stroke=\"#000000\"/>\n</g>\n<!-- 139815420768096 -->\n<g class=\"node\" id=\"node151\">\n<title>139815420768096</title>\n<polygon fill=\"none\" points=\"18.5,-1022.5 18.5,-1058.5 286.5,-1058.5 286.5,-1022.5 18.5,-1022.5\" stroke=\"#000000\"/>\n<text fill=\"#000000\" font-family=\"Times,serif\" font-size=\"14.00\" text-anchor=\"middle\" x=\"152.5\" y=\"-1036.8\">block_15_project_BN: BatchNormalization</text>\n</g>\n<!-- 139815420767704&#45;&gt;139815420768096 -->\n<g class=\"edge\" id=\"edge158\">\n<title>139815420767704-&gt;139815420768096</title>\n<path d=\"M150.9944,-1095.4551C151.2155,-1087.3828 151.4815,-1077.6764 151.7279,-1068.6817\" fill=\"none\" stroke=\"#000000\"/>\n<polygon fill=\"#000000\" points=\"155.2291,-1068.6825 152.0044,-1058.5904 148.2317,-1068.4907 155.2291,-1068.6825\" stroke=\"#000000\"/>\n</g>\n<!-- 139815482505928 -->\n<g class=\"node\" id=\"node152\">\n<title>139815482505928</title>\n<polygon fill=\"none\" points=\"421,-10804.5 421,-10840.5 548,-10840.5 548,-10804.5 421,-10804.5\" stroke=\"#000000\"/>\n<text fill=\"#000000\" font-family=\"Times,serif\" font-size=\"14.00\" text-anchor=\"middle\" x=\"484.5\" y=\"-10818.8\">p_re_lu_4: PReLU</text>\n</g>\n<!-- 139815482506320&#45;&gt;139815482505928 -->\n<g class=\"edge\" id=\"edge159\">\n<title>139815482506320-&gt;139815482505928</title>\n<path d=\"M484.5,-10877.4551C484.5,-10869.3828 484.5,-10859.6764 484.5,-10850.6817\" fill=\"none\" stroke=\"#000000\"/>\n<polygon fill=\"#000000\" points=\"488.0001,-10850.5903 484.5,-10840.5904 481.0001,-10850.5904 488.0001,-10850.5903\" stroke=\"#000000\"/>\n</g>\n<!-- 139815420768096&#45;&gt;139815420764112 -->\n<g class=\"edge\" id=\"edge161\">\n<title>139815420768096-&gt;139815420764112</title>\n<path d=\"M172.5225,-1022.4551C182.5502,-1013.4177 194.8509,-1002.3319 205.7714,-992.4899\" fill=\"none\" stroke=\"#000000\"/>\n<polygon fill=\"#000000\" points=\"208.3419,-994.885 213.4271,-985.5904 203.6556,-989.6852 208.3419,-994.885\" stroke=\"#000000\"/>\n</g>\n<!-- 139815482505592 -->\n<g class=\"node\" id=\"node154\">\n<title>139815482505592</title>\n<polygon fill=\"none\" points=\"434,-10731.5 434,-10767.5 535,-10767.5 535,-10731.5 434,-10731.5\" stroke=\"#000000\"/>\n<text fill=\"#000000\" font-family=\"Times,serif\" font-size=\"14.00\" text-anchor=\"middle\" x=\"484.5\" y=\"-10745.8\">flat_ac: Flatten</text>\n</g>\n<!-- 139815482505928&#45;&gt;139815482505592 -->\n<g class=\"edge\" id=\"edge162\">\n<title>139815482505928-&gt;139815482505592</title>\n<path d=\"M484.5,-10804.4551C484.5,-10796.3828 484.5,-10786.6764 484.5,-10777.6817\" fill=\"none\" stroke=\"#000000\"/>\n<polygon fill=\"#000000\" points=\"488.0001,-10777.5903 484.5,-10767.5904 481.0001,-10777.5904 488.0001,-10777.5903\" stroke=\"#000000\"/>\n</g>\n<!-- 139815420788976 -->\n<g class=\"node\" id=\"node155\">\n<title>139815420788976</title>\n<polygon fill=\"none\" points=\"144,-876.5 144,-912.5 323,-912.5 323,-876.5 144,-876.5\" stroke=\"#000000\"/>\n<text fill=\"#000000\" font-family=\"Times,serif\" font-size=\"14.00\" text-anchor=\"middle\" x=\"233.5\" y=\"-890.8\">block_16_expand: Conv2D</text>\n</g>\n<!-- 139815420764112&#45;&gt;139815420788976 -->\n<g class=\"edge\" id=\"edge163\">\n<title>139815420764112-&gt;139815420788976</title>\n<path d=\"M233.5,-949.4551C233.5,-941.3828 233.5,-931.6764 233.5,-922.6817\" fill=\"none\" stroke=\"#000000\"/>\n<polygon fill=\"#000000\" points=\"237.0001,-922.5903 233.5,-912.5904 230.0001,-922.5904 237.0001,-922.5903\" stroke=\"#000000\"/>\n</g>\n<!-- 139815482505704 -->\n<g class=\"node\" id=\"node156\">\n<title>139815482505704</title>\n<polygon fill=\"none\" points=\"425,-10658.5 425,-10694.5 544,-10694.5 544,-10658.5 425,-10658.5\" stroke=\"#000000\"/>\n<text fill=\"#000000\" font-family=\"Times,serif\" font-size=\"14.00\" text-anchor=\"middle\" x=\"484.5\" y=\"-10672.8\">dense1_ac: Dense</text>\n</g>\n<!-- 139815482505592&#45;&gt;139815482505704 -->\n<g class=\"edge\" id=\"edge164\">\n<title>139815482505592-&gt;139815482505704</title>\n<path d=\"M484.5,-10731.4551C484.5,-10723.3828 484.5,-10713.6764 484.5,-10704.6817\" fill=\"none\" stroke=\"#000000\"/>\n<polygon fill=\"#000000\" points=\"488.0001,-10704.5903 484.5,-10694.5904 481.0001,-10704.5904 488.0001,-10704.5903\" stroke=\"#000000\"/>\n</g>\n<!-- 139815420789368 -->\n<g class=\"node\" id=\"node157\">\n<title>139815420789368</title>\n<polygon fill=\"none\" points=\"98,-803.5 98,-839.5 369,-839.5 369,-803.5 98,-803.5\" stroke=\"#000000\"/>\n<text fill=\"#000000\" font-family=\"Times,serif\" font-size=\"14.00\" text-anchor=\"middle\" x=\"233.5\" y=\"-817.8\">block_16_expand_BN: BatchNormalization</text>\n</g>\n<!-- 139815420788976&#45;&gt;139815420789368 -->\n<g class=\"edge\" id=\"edge165\">\n<title>139815420788976-&gt;139815420789368</title>\n<path d=\"M233.5,-876.4551C233.5,-868.3828 233.5,-858.6764 233.5,-849.6817\" fill=\"none\" stroke=\"#000000\"/>\n<polygon fill=\"#000000\" points=\"237.0001,-849.5903 233.5,-839.5904 230.0001,-849.5904 237.0001,-849.5903\" stroke=\"#000000\"/>\n</g>\n<!-- 139815482504752 -->\n<g class=\"node\" id=\"node158\">\n<title>139815482504752</title>\n<polygon fill=\"none\" points=\"425,-10585.5 425,-10621.5 544,-10621.5 544,-10585.5 425,-10585.5\" stroke=\"#000000\"/>\n<text fill=\"#000000\" font-family=\"Times,serif\" font-size=\"14.00\" text-anchor=\"middle\" x=\"484.5\" y=\"-10599.8\">dense2_ac: Dense</text>\n</g>\n<!-- 139815482505704&#45;&gt;139815482504752 -->\n<g class=\"edge\" id=\"edge166\">\n<title>139815482505704-&gt;139815482504752</title>\n<path d=\"M484.5,-10658.4551C484.5,-10650.3828 484.5,-10640.6764 484.5,-10631.6817\" fill=\"none\" stroke=\"#000000\"/>\n<polygon fill=\"#000000\" points=\"488.0001,-10631.5903 484.5,-10621.5904 481.0001,-10631.5904 488.0001,-10631.5903\" stroke=\"#000000\"/>\n</g>\n<!-- 139815420789648 -->\n<g class=\"node\" id=\"node159\">\n<title>139815420789648</title>\n<polygon fill=\"none\" points=\"137,-730.5 137,-766.5 330,-766.5 330,-730.5 137,-730.5\" stroke=\"#000000\"/>\n<text fill=\"#000000\" font-family=\"Times,serif\" font-size=\"14.00\" text-anchor=\"middle\" x=\"233.5\" y=\"-744.8\">block_16_expand_relu: ReLU</text>\n</g>\n<!-- 139815420789368&#45;&gt;139815420789648 -->\n<g class=\"edge\" id=\"edge167\">\n<title>139815420789368-&gt;139815420789648</title>\n<path d=\"M233.5,-803.4551C233.5,-795.3828 233.5,-785.6764 233.5,-776.6817\" fill=\"none\" stroke=\"#000000\"/>\n<polygon fill=\"#000000\" points=\"237.0001,-776.5903 233.5,-766.5904 230.0001,-776.5904 237.0001,-776.5903\" stroke=\"#000000\"/>\n</g>\n<!-- 139815482505032 -->\n<g class=\"node\" id=\"node160\">\n<title>139815482505032</title>\n<polygon fill=\"none\" points=\"417.5,-10512.5 417.5,-10548.5 551.5,-10548.5 551.5,-10512.5 417.5,-10512.5\" stroke=\"#000000\"/>\n<text fill=\"#000000\" font-family=\"Times,serif\" font-size=\"14.00\" text-anchor=\"middle\" x=\"484.5\" y=\"-10526.8\">reshape_ac: Reshape</text>\n</g>\n<!-- 139815482504752&#45;&gt;139815482505032 -->\n<g class=\"edge\" id=\"edge168\">\n<title>139815482504752-&gt;139815482505032</title>\n<path d=\"M484.5,-10585.4551C484.5,-10577.3828 484.5,-10567.6764 484.5,-10558.6817\" fill=\"none\" stroke=\"#000000\"/>\n<polygon fill=\"#000000\" points=\"488.0001,-10558.5903 484.5,-10548.5904 481.0001,-10558.5904 488.0001,-10558.5903\" stroke=\"#000000\"/>\n</g>\n<!-- 139815420789704 -->\n<g class=\"node\" id=\"node161\">\n<title>139815420789704</title>\n<polygon fill=\"none\" points=\"106,-657.5 106,-693.5 361,-693.5 361,-657.5 106,-657.5\" stroke=\"#000000\"/>\n<text fill=\"#000000\" font-family=\"Times,serif\" font-size=\"14.00\" text-anchor=\"middle\" x=\"233.5\" y=\"-671.8\">block_16_depthwise: DepthwiseConv2D</text>\n</g>\n<!-- 139815420789648&#45;&gt;139815420789704 -->\n<g class=\"edge\" id=\"edge169\">\n<title>139815420789648-&gt;139815420789704</title>\n<path d=\"M233.5,-730.4551C233.5,-722.3828 233.5,-712.6764 233.5,-703.6817\" fill=\"none\" stroke=\"#000000\"/>\n<polygon fill=\"#000000\" points=\"237.0001,-703.5903 233.5,-693.5904 230.0001,-703.5904 237.0001,-703.5903\" stroke=\"#000000\"/>\n</g>\n<!-- 139815482505648 -->\n<g class=\"node\" id=\"node162\">\n<title>139815482505648</title>\n<polygon fill=\"none\" points=\"384,-10439.5 384,-10475.5 585,-10475.5 585,-10439.5 384,-10439.5\" stroke=\"#000000\"/>\n<text fill=\"#000000\" font-family=\"Times,serif\" font-size=\"14.00\" text-anchor=\"middle\" x=\"484.5\" y=\"-10453.8\">deconv1_ac: Conv3DTranspose</text>\n</g>\n<!-- 139815482505032&#45;&gt;139815482505648 -->\n<g class=\"edge\" id=\"edge170\">\n<title>139815482505032-&gt;139815482505648</title>\n<path d=\"M484.5,-10512.4551C484.5,-10504.3828 484.5,-10494.6764 484.5,-10485.6817\" fill=\"none\" stroke=\"#000000\"/>\n<polygon fill=\"#000000\" points=\"488.0001,-10485.5903 484.5,-10475.5904 481.0001,-10485.5904 488.0001,-10485.5903\" stroke=\"#000000\"/>\n</g>\n<!-- 139815420789816 -->\n<g class=\"node\" id=\"node163\">\n<title>139815420789816</title>\n<polygon fill=\"none\" points=\"90,-584.5 90,-620.5 377,-620.5 377,-584.5 90,-584.5\" stroke=\"#000000\"/>\n<text fill=\"#000000\" font-family=\"Times,serif\" font-size=\"14.00\" text-anchor=\"middle\" x=\"233.5\" y=\"-598.8\">block_16_depthwise_BN: BatchNormalization</text>\n</g>\n<!-- 139815420789704&#45;&gt;139815420789816 -->\n<g class=\"edge\" id=\"edge171\">\n<title>139815420789704-&gt;139815420789816</title>\n<path d=\"M233.5,-657.4551C233.5,-649.3828 233.5,-639.6764 233.5,-630.6817\" fill=\"none\" stroke=\"#000000\"/>\n<polygon fill=\"#000000\" points=\"237.0001,-630.5903 233.5,-620.5904 230.0001,-630.5904 237.0001,-630.5903\" stroke=\"#000000\"/>\n</g>\n<!-- 139815504296480 -->\n<g class=\"node\" id=\"node164\">\n<title>139815504296480</title>\n<polygon fill=\"none\" points=\"421,-10366.5 421,-10402.5 548,-10402.5 548,-10366.5 421,-10366.5\" stroke=\"#000000\"/>\n<text fill=\"#000000\" font-family=\"Times,serif\" font-size=\"14.00\" text-anchor=\"middle\" x=\"484.5\" y=\"-10380.8\">p_re_lu_5: PReLU</text>\n</g>\n<!-- 139815482505648&#45;&gt;139815504296480 -->\n<g class=\"edge\" id=\"edge172\">\n<title>139815482505648-&gt;139815504296480</title>\n<path d=\"M484.5,-10439.4551C484.5,-10431.3828 484.5,-10421.6764 484.5,-10412.6817\" fill=\"none\" stroke=\"#000000\"/>\n<polygon fill=\"#000000\" points=\"488.0001,-10412.5903 484.5,-10402.5904 481.0001,-10412.5904 488.0001,-10412.5903\" stroke=\"#000000\"/>\n</g>\n<!-- 139815420790544 -->\n<g class=\"node\" id=\"node165\">\n<title>139815420790544</title>\n<polygon fill=\"none\" points=\"129,-511.5 129,-547.5 338,-547.5 338,-511.5 129,-511.5\" stroke=\"#000000\"/>\n<text fill=\"#000000\" font-family=\"Times,serif\" font-size=\"14.00\" text-anchor=\"middle\" x=\"233.5\" y=\"-525.8\">block_16_depthwise_relu: ReLU</text>\n</g>\n<!-- 139815420789816&#45;&gt;139815420790544 -->\n<g class=\"edge\" id=\"edge173\">\n<title>139815420789816-&gt;139815420790544</title>\n<path d=\"M233.5,-584.4551C233.5,-576.3828 233.5,-566.6764 233.5,-557.6817\" fill=\"none\" stroke=\"#000000\"/>\n<polygon fill=\"#000000\" points=\"237.0001,-557.5903 233.5,-547.5904 230.0001,-557.5904 237.0001,-557.5903\" stroke=\"#000000\"/>\n</g>\n<!-- 139815504297488 -->\n<g class=\"node\" id=\"node166\">\n<title>139815504297488</title>\n<polygon fill=\"none\" points=\"384,-10293.5 384,-10329.5 585,-10329.5 585,-10293.5 384,-10293.5\" stroke=\"#000000\"/>\n<text fill=\"#000000\" font-family=\"Times,serif\" font-size=\"14.00\" text-anchor=\"middle\" x=\"484.5\" y=\"-10307.8\">deconv2_ac: Conv3DTranspose</text>\n</g>\n<!-- 139815504296480&#45;&gt;139815504297488 -->\n<g class=\"edge\" id=\"edge174\">\n<title>139815504296480-&gt;139815504297488</title>\n<path d=\"M484.5,-10366.4551C484.5,-10358.3828 484.5,-10348.6764 484.5,-10339.6817\" fill=\"none\" stroke=\"#000000\"/>\n<polygon fill=\"#000000\" points=\"488.0001,-10339.5903 484.5,-10329.5904 481.0001,-10339.5904 488.0001,-10339.5903\" stroke=\"#000000\"/>\n</g>\n<!-- 139815420790600 -->\n<g class=\"node\" id=\"node167\">\n<title>139815420790600</title>\n<polygon fill=\"none\" points=\"145.5,-438.5 145.5,-474.5 321.5,-474.5 321.5,-438.5 145.5,-438.5\" stroke=\"#000000\"/>\n<text fill=\"#000000\" font-family=\"Times,serif\" font-size=\"14.00\" text-anchor=\"middle\" x=\"233.5\" y=\"-452.8\">block_16_project: Conv2D</text>\n</g>\n<!-- 139815420790544&#45;&gt;139815420790600 -->\n<g class=\"edge\" id=\"edge175\">\n<title>139815420790544-&gt;139815420790600</title>\n<path d=\"M233.5,-511.4551C233.5,-503.3828 233.5,-493.6764 233.5,-484.6817\" fill=\"none\" stroke=\"#000000\"/>\n<polygon fill=\"#000000\" points=\"237.0001,-484.5903 233.5,-474.5904 230.0001,-484.5904 237.0001,-484.5903\" stroke=\"#000000\"/>\n</g>\n<!-- 139815504296760 -->\n<g class=\"node\" id=\"node168\">\n<title>139815504296760</title>\n<polygon fill=\"none\" points=\"421,-10220.5 421,-10256.5 548,-10256.5 548,-10220.5 421,-10220.5\" stroke=\"#000000\"/>\n<text fill=\"#000000\" font-family=\"Times,serif\" font-size=\"14.00\" text-anchor=\"middle\" x=\"484.5\" y=\"-10234.8\">p_re_lu_6: PReLU</text>\n</g>\n<!-- 139815504297488&#45;&gt;139815504296760 -->\n<g class=\"edge\" id=\"edge176\">\n<title>139815504297488-&gt;139815504296760</title>\n<path d=\"M484.5,-10293.4551C484.5,-10285.3828 484.5,-10275.6764 484.5,-10266.6817\" fill=\"none\" stroke=\"#000000\"/>\n<polygon fill=\"#000000\" points=\"488.0001,-10266.5903 484.5,-10256.5904 481.0001,-10266.5904 488.0001,-10266.5903\" stroke=\"#000000\"/>\n</g>\n<!-- 139815420790992 -->\n<g class=\"node\" id=\"node169\">\n<title>139815420790992</title>\n<polygon fill=\"none\" points=\"99.5,-365.5 99.5,-401.5 367.5,-401.5 367.5,-365.5 99.5,-365.5\" stroke=\"#000000\"/>\n<text fill=\"#000000\" font-family=\"Times,serif\" font-size=\"14.00\" text-anchor=\"middle\" x=\"233.5\" y=\"-379.8\">block_16_project_BN: BatchNormalization</text>\n</g>\n<!-- 139815420790600&#45;&gt;139815420790992 -->\n<g class=\"edge\" id=\"edge177\">\n<title>139815420790600-&gt;139815420790992</title>\n<path d=\"M233.5,-438.4551C233.5,-430.3828 233.5,-420.6764 233.5,-411.6817\" fill=\"none\" stroke=\"#000000\"/>\n<polygon fill=\"#000000\" points=\"237.0001,-411.5903 233.5,-401.5904 230.0001,-411.5904 237.0001,-411.5903\" stroke=\"#000000\"/>\n</g>\n<!-- 139815504297656 -->\n<g class=\"node\" id=\"node170\">\n<title>139815504297656</title>\n<polygon fill=\"none\" points=\"384,-10147.5 384,-10183.5 585,-10183.5 585,-10147.5 384,-10147.5\" stroke=\"#000000\"/>\n<text fill=\"#000000\" font-family=\"Times,serif\" font-size=\"14.00\" text-anchor=\"middle\" x=\"484.5\" y=\"-10161.8\">deconv3_ac: Conv3DTranspose</text>\n</g>\n<!-- 139815504296760&#45;&gt;139815504297656 -->\n<g class=\"edge\" id=\"edge178\">\n<title>139815504296760-&gt;139815504297656</title>\n<path d=\"M484.5,-10220.4551C484.5,-10212.3828 484.5,-10202.6764 484.5,-10193.6817\" fill=\"none\" stroke=\"#000000\"/>\n<polygon fill=\"#000000\" points=\"488.0001,-10193.5903 484.5,-10183.5904 481.0001,-10193.5904 488.0001,-10193.5903\" stroke=\"#000000\"/>\n</g>\n<!-- 139815420791272 -->\n<g class=\"node\" id=\"node171\">\n<title>139815420791272</title>\n<polygon fill=\"none\" points=\"172.5,-292.5 172.5,-328.5 294.5,-328.5 294.5,-292.5 172.5,-292.5\" stroke=\"#000000\"/>\n<text fill=\"#000000\" font-family=\"Times,serif\" font-size=\"14.00\" text-anchor=\"middle\" x=\"233.5\" y=\"-306.8\">Conv_1: Conv2D</text>\n</g>\n<!-- 139815420790992&#45;&gt;139815420791272 -->\n<g class=\"edge\" id=\"edge179\">\n<title>139815420790992-&gt;139815420791272</title>\n<path d=\"M233.5,-365.4551C233.5,-357.3828 233.5,-347.6764 233.5,-338.6817\" fill=\"none\" stroke=\"#000000\"/>\n<polygon fill=\"#000000\" points=\"237.0001,-338.5903 233.5,-328.5904 230.0001,-338.5904 237.0001,-338.5903\" stroke=\"#000000\"/>\n</g>\n<!-- 139815571564080 -->\n<g class=\"node\" id=\"node172\">\n<title>139815571564080</title>\n<polygon fill=\"none\" points=\"421,-10074.5 421,-10110.5 548,-10110.5 548,-10074.5 421,-10074.5\" stroke=\"#000000\"/>\n<text fill=\"#000000\" font-family=\"Times,serif\" font-size=\"14.00\" text-anchor=\"middle\" x=\"484.5\" y=\"-10088.8\">p_re_lu_7: PReLU</text>\n</g>\n<!-- 139815504297656&#45;&gt;139815571564080 -->\n<g class=\"edge\" id=\"edge180\">\n<title>139815504297656-&gt;139815571564080</title>\n<path d=\"M484.5,-10147.4551C484.5,-10139.3828 484.5,-10129.6764 484.5,-10120.6817\" fill=\"none\" stroke=\"#000000\"/>\n<polygon fill=\"#000000\" points=\"488.0001,-10120.5903 484.5,-10110.5904 481.0001,-10120.5904 488.0001,-10120.5903\" stroke=\"#000000\"/>\n</g>\n<!-- 139815420791664 -->\n<g class=\"node\" id=\"node173\">\n<title>139815420791664</title>\n<polygon fill=\"none\" points=\"129,-219.5 129,-255.5 338,-255.5 338,-219.5 129,-219.5\" stroke=\"#000000\"/>\n<text fill=\"#000000\" font-family=\"Times,serif\" font-size=\"14.00\" text-anchor=\"middle\" x=\"233.5\" y=\"-233.8\">Conv_1_bn: BatchNormalization</text>\n</g>\n<!-- 139815420791272&#45;&gt;139815420791664 -->\n<g class=\"edge\" id=\"edge181\">\n<title>139815420791272-&gt;139815420791664</title>\n<path d=\"M233.5,-292.4551C233.5,-284.3828 233.5,-274.6764 233.5,-265.6817\" fill=\"none\" stroke=\"#000000\"/>\n<polygon fill=\"#000000\" points=\"237.0001,-265.5903 233.5,-255.5904 230.0001,-265.5904 237.0001,-265.5903\" stroke=\"#000000\"/>\n</g>\n<!-- 139815475527576 -->\n<g class=\"node\" id=\"node174\">\n<title>139815475527576</title>\n<polygon fill=\"none\" points=\"384,-10001.5 384,-10037.5 585,-10037.5 585,-10001.5 384,-10001.5\" stroke=\"#000000\"/>\n<text fill=\"#000000\" font-family=\"Times,serif\" font-size=\"14.00\" text-anchor=\"middle\" x=\"484.5\" y=\"-10015.8\">deconv4_ac: Conv3DTranspose</text>\n</g>\n<!-- 139815571564080&#45;&gt;139815475527576 -->\n<g class=\"edge\" id=\"edge182\">\n<title>139815571564080-&gt;139815475527576</title>\n<path d=\"M484.5,-10074.4551C484.5,-10066.3828 484.5,-10056.6764 484.5,-10047.6817\" fill=\"none\" stroke=\"#000000\"/>\n<polygon fill=\"#000000\" points=\"488.0001,-10047.5903 484.5,-10037.5904 481.0001,-10047.5904 488.0001,-10047.5903\" stroke=\"#000000\"/>\n</g>\n<!-- 139815420791944 -->\n<g class=\"node\" id=\"node175\">\n<title>139815420791944</title>\n<polygon fill=\"none\" points=\"180,-146.5 180,-182.5 287,-182.5 287,-146.5 180,-146.5\" stroke=\"#000000\"/>\n<text fill=\"#000000\" font-family=\"Times,serif\" font-size=\"14.00\" text-anchor=\"middle\" x=\"233.5\" y=\"-160.8\">out_relu: ReLU</text>\n</g>\n<!-- 139815420791664&#45;&gt;139815420791944 -->\n<g class=\"edge\" id=\"edge183\">\n<title>139815420791664-&gt;139815420791944</title>\n<path d=\"M233.5,-219.4551C233.5,-211.3828 233.5,-201.6764 233.5,-192.6817\" fill=\"none\" stroke=\"#000000\"/>\n<polygon fill=\"#000000\" points=\"237.0001,-192.5903 233.5,-182.5904 230.0001,-192.5904 237.0001,-192.5903\" stroke=\"#000000\"/>\n</g>\n<!-- 139816616902840 -->\n<g class=\"node\" id=\"node176\">\n<title>139816616902840</title>\n<polygon fill=\"none\" points=\"421,-9928.5 421,-9964.5 548,-9964.5 548,-9928.5 421,-9928.5\" stroke=\"#000000\"/>\n<text fill=\"#000000\" font-family=\"Times,serif\" font-size=\"14.00\" text-anchor=\"middle\" x=\"484.5\" y=\"-9942.8\">p_re_lu_8: PReLU</text>\n</g>\n<!-- 139815475527576&#45;&gt;139816616902840 -->\n<g class=\"edge\" id=\"edge184\">\n<title>139815475527576-&gt;139816616902840</title>\n<path d=\"M484.5,-10001.4551C484.5,-9993.3828 484.5,-9983.6764 484.5,-9974.6817\" fill=\"none\" stroke=\"#000000\"/>\n<polygon fill=\"#000000\" points=\"488.0001,-9974.5903 484.5,-9964.5904 481.0001,-9974.5904 488.0001,-9974.5903\" stroke=\"#000000\"/>\n</g>\n<!-- 139815420792000 -->\n<g class=\"node\" id=\"node177\">\n<title>139815420792000</title>\n<polygon fill=\"none\" points=\"193,-73.5 193,-109.5 274,-109.5 274,-73.5 193,-73.5\" stroke=\"#000000\"/>\n<text fill=\"#000000\" font-family=\"Times,serif\" font-size=\"14.00\" text-anchor=\"middle\" x=\"233.5\" y=\"-87.8\">flat: Flatten</text>\n</g>\n<!-- 139815420791944&#45;&gt;139815420792000 -->\n<g class=\"edge\" id=\"edge185\">\n<title>139815420791944-&gt;139815420792000</title>\n<path d=\"M233.5,-146.4551C233.5,-138.3828 233.5,-128.6764 233.5,-119.6817\" fill=\"none\" stroke=\"#000000\"/>\n<polygon fill=\"#000000\" points=\"237.0001,-119.5903 233.5,-109.5904 230.0001,-119.5904 237.0001,-119.5903\" stroke=\"#000000\"/>\n</g>\n<!-- 139816616904576 -->\n<g class=\"node\" id=\"node178\">\n<title>139816616904576</title>\n<polygon fill=\"none\" points=\"390,-9855.5 390,-9891.5 579,-9891.5 579,-9855.5 390,-9855.5\" stroke=\"#000000\"/>\n<text fill=\"#000000\" font-family=\"Times,serif\" font-size=\"14.00\" text-anchor=\"middle\" x=\"484.5\" y=\"-9869.8\">output_ac: Conv3DTranspose</text>\n</g>\n<!-- 139816616902840&#45;&gt;139816616904576 -->\n<g class=\"edge\" id=\"edge186\">\n<title>139816616902840-&gt;139816616904576</title>\n<path d=\"M484.5,-9928.4551C484.5,-9920.3828 484.5,-9910.6764 484.5,-9901.6817\" fill=\"none\" stroke=\"#000000\"/>\n<polygon fill=\"#000000\" points=\"488.0001,-9901.5903 484.5,-9891.5904 481.0001,-9901.5904 488.0001,-9901.5903\" stroke=\"#000000\"/>\n</g>\n<!-- 139815420792112 -->\n<g class=\"node\" id=\"node179\">\n<title>139815420792112</title>\n<polygon fill=\"none\" points=\"174.5,-.5 174.5,-36.5 292.5,-36.5 292.5,-.5 174.5,-.5\" stroke=\"#000000\"/>\n<text fill=\"#000000\" font-family=\"Times,serif\" font-size=\"14.00\" text-anchor=\"middle\" x=\"233.5\" y=\"-14.8\">dense_out: Dense</text>\n</g>\n<!-- 139815420792000&#45;&gt;139815420792112 -->\n<g class=\"edge\" id=\"edge187\">\n<title>139815420792000-&gt;139815420792112</title>\n<path d=\"M233.5,-73.4551C233.5,-65.3828 233.5,-55.6764 233.5,-46.6817\" fill=\"none\" stroke=\"#000000\"/>\n<polygon fill=\"#000000\" points=\"237.0001,-46.5903 233.5,-36.5904 230.0001,-46.5904 237.0001,-46.5903\" stroke=\"#000000\"/>\n</g>\n</g>\n</svg>"
          },
          "metadata": {
            "tags": []
          },
          "execution_count": 26
        }
      ]
    },
    {
      "metadata": {
        "id": "q4X0E1Sccn3z",
        "colab_type": "code",
        "outputId": "4adc541e-df51-4bf8-c0a0-812655dbf995",
        "colab": {
          "base_uri": "https://localhost:8080/",
          "height": 52
        }
      },
      "cell_type": "code",
      "source": [
        "joint_model.input"
      ],
      "execution_count": 27,
      "outputs": [
        {
          "output_type": "execute_result",
          "data": {
            "text/plain": [
              "[<tf.Tensor 'input_ac:0' shape=(?, 20, 20, 20, 1) dtype=float32>,\n",
              " <tf.Tensor 'input_2:0' shape=(?, 224, 224, 3) dtype=float32>]"
            ]
          },
          "metadata": {
            "tags": []
          },
          "execution_count": 27
        }
      ]
    },
    {
      "metadata": {
        "id": "-DghrAJz7cJb",
        "colab_type": "code",
        "outputId": "b4e4ee07-9f23-4998-e4a7-8599d716caf4",
        "colab": {
          "base_uri": "https://localhost:8080/",
          "height": 52
        }
      },
      "cell_type": "code",
      "source": [
        "joint_model.output"
      ],
      "execution_count": 28,
      "outputs": [
        {
          "output_type": "execute_result",
          "data": {
            "text/plain": [
              "[<tf.Tensor 'output_ac/Sigmoid:0' shape=(?, ?, ?, ?, 1) dtype=float32>,\n",
              " <tf.Tensor 'dense_out/BiasAdd:0' shape=(?, 64) dtype=float32>]"
            ]
          },
          "metadata": {
            "tags": []
          },
          "execution_count": 28
        }
      ]
    },
    {
      "metadata": {
        "id": "Rw5t_YkxYd4X",
        "colab_type": "code",
        "colab": {}
      },
      "cell_type": "code",
      "source": [
        "# problematicno ako mnogo podataka!? generator fit\n",
        "\n",
        "# target for autoencoder output is autoencoders input, target for imagenet output is autoencoders embedding\n",
        "tt = {\"output_ac\": joint_model.get_layer(\"input_ac\").output, \"dense_out\": joint_model.get_layer(\"dense1_ac\").output}"
      ],
      "execution_count": 0,
      "outputs": []
    },
    {
      "metadata": {
        "id": "CfZXK-oLYd9H",
        "colab_type": "code",
        "colab": {}
      },
      "cell_type": "code",
      "source": [
        "# autoencoder loss is binaryy crossentropy, imagenet loss is edl\n",
        "losses = {\"output_ac\": \"binary_crossentropy\", \"dense_out\": euclidean_distance_loss}\n",
        "\n",
        "joint_model.compile(optimizer='adam',\n",
        "                    loss=losses,\n",
        "                    metrics=['mae', precision],\n",
        "                    target_tensors=tt)"
      ],
      "execution_count": 0,
      "outputs": []
    },
    {
      "metadata": {
        "id": "ymZ5mo_Crole",
        "colab_type": "code",
        "outputId": "9a6dbada-1a66-4613-dcc8-0562217d0744",
        "colab": {
          "base_uri": "https://localhost:8080/",
          "height": 1450
        }
      },
      "cell_type": "code",
      "source": [
        "# TODO. fix error InvalidArgumentError: Endpoint \"input_ac:0\" fed more than once.\n",
        "joint_model.fit_generator(generator = training_generator)"
      ],
      "execution_count": 32,
      "outputs": [
        {
          "output_type": "stream",
          "text": [
            "Epoch 1/1\n"
          ],
          "name": "stdout"
        },
        {
          "output_type": "error",
          "ename": "InvalidArgumentError",
          "evalue": "ignored",
          "traceback": [
            "\u001b[0;31m---------------------------------------------------------------------------\u001b[0m",
            "\u001b[0;31mInvalidArgumentError\u001b[0m                      Traceback (most recent call last)",
            "\u001b[0;32m<ipython-input-32-a39494d837ba>\u001b[0m in \u001b[0;36m<module>\u001b[0;34m()\u001b[0m\n\u001b[0;32m----> 1\u001b[0;31m \u001b[0mjoint_model\u001b[0m\u001b[0;34m.\u001b[0m\u001b[0mfit_generator\u001b[0m\u001b[0;34m(\u001b[0m\u001b[0mgenerator\u001b[0m \u001b[0;34m=\u001b[0m \u001b[0mtraining_generator\u001b[0m\u001b[0;34m)\u001b[0m\u001b[0;34m\u001b[0m\u001b[0;34m\u001b[0m\u001b[0m\n\u001b[0m",
            "\u001b[0;32m/usr/local/lib/python3.6/dist-packages/keras/legacy/interfaces.py\u001b[0m in \u001b[0;36mwrapper\u001b[0;34m(*args, **kwargs)\u001b[0m\n\u001b[1;32m     89\u001b[0m                 warnings.warn('Update your `' + object_name + '` call to the ' +\n\u001b[1;32m     90\u001b[0m                               'Keras 2 API: ' + signature, stacklevel=2)\n\u001b[0;32m---> 91\u001b[0;31m             \u001b[0;32mreturn\u001b[0m \u001b[0mfunc\u001b[0m\u001b[0;34m(\u001b[0m\u001b[0;34m*\u001b[0m\u001b[0margs\u001b[0m\u001b[0;34m,\u001b[0m \u001b[0;34m**\u001b[0m\u001b[0mkwargs\u001b[0m\u001b[0;34m)\u001b[0m\u001b[0;34m\u001b[0m\u001b[0;34m\u001b[0m\u001b[0m\n\u001b[0m\u001b[1;32m     92\u001b[0m         \u001b[0mwrapper\u001b[0m\u001b[0;34m.\u001b[0m\u001b[0m_original_function\u001b[0m \u001b[0;34m=\u001b[0m \u001b[0mfunc\u001b[0m\u001b[0;34m\u001b[0m\u001b[0;34m\u001b[0m\u001b[0m\n\u001b[1;32m     93\u001b[0m         \u001b[0;32mreturn\u001b[0m \u001b[0mwrapper\u001b[0m\u001b[0;34m\u001b[0m\u001b[0;34m\u001b[0m\u001b[0m\n",
            "\u001b[0;32m/usr/local/lib/python3.6/dist-packages/keras/engine/training.py\u001b[0m in \u001b[0;36mfit_generator\u001b[0;34m(self, generator, steps_per_epoch, epochs, verbose, callbacks, validation_data, validation_steps, class_weight, max_queue_size, workers, use_multiprocessing, shuffle, initial_epoch)\u001b[0m\n\u001b[1;32m   1416\u001b[0m             \u001b[0muse_multiprocessing\u001b[0m\u001b[0;34m=\u001b[0m\u001b[0muse_multiprocessing\u001b[0m\u001b[0;34m,\u001b[0m\u001b[0;34m\u001b[0m\u001b[0;34m\u001b[0m\u001b[0m\n\u001b[1;32m   1417\u001b[0m             \u001b[0mshuffle\u001b[0m\u001b[0;34m=\u001b[0m\u001b[0mshuffle\u001b[0m\u001b[0;34m,\u001b[0m\u001b[0;34m\u001b[0m\u001b[0;34m\u001b[0m\u001b[0m\n\u001b[0;32m-> 1418\u001b[0;31m             initial_epoch=initial_epoch)\n\u001b[0m\u001b[1;32m   1419\u001b[0m \u001b[0;34m\u001b[0m\u001b[0m\n\u001b[1;32m   1420\u001b[0m     \u001b[0;34m@\u001b[0m\u001b[0minterfaces\u001b[0m\u001b[0;34m.\u001b[0m\u001b[0mlegacy_generator_methods_support\u001b[0m\u001b[0;34m\u001b[0m\u001b[0;34m\u001b[0m\u001b[0m\n",
            "\u001b[0;32m/usr/local/lib/python3.6/dist-packages/keras/engine/training_generator.py\u001b[0m in \u001b[0;36mfit_generator\u001b[0;34m(model, generator, steps_per_epoch, epochs, verbose, callbacks, validation_data, validation_steps, class_weight, max_queue_size, workers, use_multiprocessing, shuffle, initial_epoch)\u001b[0m\n\u001b[1;32m    215\u001b[0m                 outs = model.train_on_batch(x, y,\n\u001b[1;32m    216\u001b[0m                                             \u001b[0msample_weight\u001b[0m\u001b[0;34m=\u001b[0m\u001b[0msample_weight\u001b[0m\u001b[0;34m,\u001b[0m\u001b[0;34m\u001b[0m\u001b[0;34m\u001b[0m\u001b[0m\n\u001b[0;32m--> 217\u001b[0;31m                                             class_weight=class_weight)\n\u001b[0m\u001b[1;32m    218\u001b[0m \u001b[0;34m\u001b[0m\u001b[0m\n\u001b[1;32m    219\u001b[0m                 \u001b[0mouts\u001b[0m \u001b[0;34m=\u001b[0m \u001b[0mto_list\u001b[0m\u001b[0;34m(\u001b[0m\u001b[0mouts\u001b[0m\u001b[0;34m)\u001b[0m\u001b[0;34m\u001b[0m\u001b[0;34m\u001b[0m\u001b[0m\n",
            "\u001b[0;32m/usr/local/lib/python3.6/dist-packages/keras/engine/training.py\u001b[0m in \u001b[0;36mtrain_on_batch\u001b[0;34m(self, x, y, sample_weight, class_weight)\u001b[0m\n\u001b[1;32m   1215\u001b[0m             \u001b[0mins\u001b[0m \u001b[0;34m=\u001b[0m \u001b[0mx\u001b[0m \u001b[0;34m+\u001b[0m \u001b[0my\u001b[0m \u001b[0;34m+\u001b[0m \u001b[0msample_weights\u001b[0m\u001b[0;34m\u001b[0m\u001b[0;34m\u001b[0m\u001b[0m\n\u001b[1;32m   1216\u001b[0m         \u001b[0mself\u001b[0m\u001b[0;34m.\u001b[0m\u001b[0m_make_train_function\u001b[0m\u001b[0;34m(\u001b[0m\u001b[0;34m)\u001b[0m\u001b[0;34m\u001b[0m\u001b[0;34m\u001b[0m\u001b[0m\n\u001b[0;32m-> 1217\u001b[0;31m         \u001b[0moutputs\u001b[0m \u001b[0;34m=\u001b[0m \u001b[0mself\u001b[0m\u001b[0;34m.\u001b[0m\u001b[0mtrain_function\u001b[0m\u001b[0;34m(\u001b[0m\u001b[0mins\u001b[0m\u001b[0;34m)\u001b[0m\u001b[0;34m\u001b[0m\u001b[0;34m\u001b[0m\u001b[0m\n\u001b[0m\u001b[1;32m   1218\u001b[0m         \u001b[0;32mreturn\u001b[0m \u001b[0munpack_singleton\u001b[0m\u001b[0;34m(\u001b[0m\u001b[0moutputs\u001b[0m\u001b[0;34m)\u001b[0m\u001b[0;34m\u001b[0m\u001b[0;34m\u001b[0m\u001b[0m\n\u001b[1;32m   1219\u001b[0m \u001b[0;34m\u001b[0m\u001b[0m\n",
            "\u001b[0;32m/usr/local/lib/python3.6/dist-packages/keras/backend/tensorflow_backend.py\u001b[0m in \u001b[0;36m__call__\u001b[0;34m(self, inputs)\u001b[0m\n\u001b[1;32m   2713\u001b[0m                 \u001b[0;32mreturn\u001b[0m \u001b[0mself\u001b[0m\u001b[0;34m.\u001b[0m\u001b[0m_legacy_call\u001b[0m\u001b[0;34m(\u001b[0m\u001b[0minputs\u001b[0m\u001b[0;34m)\u001b[0m\u001b[0;34m\u001b[0m\u001b[0;34m\u001b[0m\u001b[0m\n\u001b[1;32m   2714\u001b[0m \u001b[0;34m\u001b[0m\u001b[0m\n\u001b[0;32m-> 2715\u001b[0;31m             \u001b[0;32mreturn\u001b[0m \u001b[0mself\u001b[0m\u001b[0;34m.\u001b[0m\u001b[0m_call\u001b[0m\u001b[0;34m(\u001b[0m\u001b[0minputs\u001b[0m\u001b[0;34m)\u001b[0m\u001b[0;34m\u001b[0m\u001b[0;34m\u001b[0m\u001b[0m\n\u001b[0m\u001b[1;32m   2716\u001b[0m         \u001b[0;32melse\u001b[0m\u001b[0;34m:\u001b[0m\u001b[0;34m\u001b[0m\u001b[0;34m\u001b[0m\u001b[0m\n\u001b[1;32m   2717\u001b[0m             \u001b[0;32mif\u001b[0m \u001b[0mpy_any\u001b[0m\u001b[0;34m(\u001b[0m\u001b[0mis_tensor\u001b[0m\u001b[0;34m(\u001b[0m\u001b[0mx\u001b[0m\u001b[0;34m)\u001b[0m \u001b[0;32mfor\u001b[0m \u001b[0mx\u001b[0m \u001b[0;32min\u001b[0m \u001b[0minputs\u001b[0m\u001b[0;34m)\u001b[0m\u001b[0;34m:\u001b[0m\u001b[0;34m\u001b[0m\u001b[0;34m\u001b[0m\u001b[0m\n",
            "\u001b[0;32m/usr/local/lib/python3.6/dist-packages/keras/backend/tensorflow_backend.py\u001b[0m in \u001b[0;36m_call\u001b[0;34m(self, inputs)\u001b[0m\n\u001b[1;32m   2669\u001b[0m                                 \u001b[0mfeed_symbols\u001b[0m\u001b[0;34m,\u001b[0m\u001b[0;34m\u001b[0m\u001b[0;34m\u001b[0m\u001b[0m\n\u001b[1;32m   2670\u001b[0m                                 \u001b[0msymbol_vals\u001b[0m\u001b[0;34m,\u001b[0m\u001b[0;34m\u001b[0m\u001b[0;34m\u001b[0m\u001b[0m\n\u001b[0;32m-> 2671\u001b[0;31m                                 session)\n\u001b[0m\u001b[1;32m   2672\u001b[0m         \u001b[0;32mif\u001b[0m \u001b[0mself\u001b[0m\u001b[0;34m.\u001b[0m\u001b[0mrun_metadata\u001b[0m\u001b[0;34m:\u001b[0m\u001b[0;34m\u001b[0m\u001b[0;34m\u001b[0m\u001b[0m\n\u001b[1;32m   2673\u001b[0m             \u001b[0mfetched\u001b[0m \u001b[0;34m=\u001b[0m \u001b[0mself\u001b[0m\u001b[0;34m.\u001b[0m\u001b[0m_callable_fn\u001b[0m\u001b[0;34m(\u001b[0m\u001b[0;34m*\u001b[0m\u001b[0marray_vals\u001b[0m\u001b[0;34m,\u001b[0m \u001b[0mrun_metadata\u001b[0m\u001b[0;34m=\u001b[0m\u001b[0mself\u001b[0m\u001b[0;34m.\u001b[0m\u001b[0mrun_metadata\u001b[0m\u001b[0;34m)\u001b[0m\u001b[0;34m\u001b[0m\u001b[0;34m\u001b[0m\u001b[0m\n",
            "\u001b[0;32m/usr/local/lib/python3.6/dist-packages/keras/backend/tensorflow_backend.py\u001b[0m in \u001b[0;36m_make_callable\u001b[0;34m(self, feed_arrays, feed_symbols, symbol_vals, session)\u001b[0m\n\u001b[1;32m   2621\u001b[0m             \u001b[0mcallable_opts\u001b[0m\u001b[0;34m.\u001b[0m\u001b[0mrun_options\u001b[0m\u001b[0;34m.\u001b[0m\u001b[0mCopyFrom\u001b[0m\u001b[0;34m(\u001b[0m\u001b[0mself\u001b[0m\u001b[0;34m.\u001b[0m\u001b[0mrun_options\u001b[0m\u001b[0;34m)\u001b[0m\u001b[0;34m\u001b[0m\u001b[0;34m\u001b[0m\u001b[0m\n\u001b[1;32m   2622\u001b[0m         \u001b[0;31m# Create callable.\u001b[0m\u001b[0;34m\u001b[0m\u001b[0;34m\u001b[0m\u001b[0;34m\u001b[0m\u001b[0m\n\u001b[0;32m-> 2623\u001b[0;31m         \u001b[0mcallable_fn\u001b[0m \u001b[0;34m=\u001b[0m \u001b[0msession\u001b[0m\u001b[0;34m.\u001b[0m\u001b[0m_make_callable_from_options\u001b[0m\u001b[0;34m(\u001b[0m\u001b[0mcallable_opts\u001b[0m\u001b[0;34m)\u001b[0m\u001b[0;34m\u001b[0m\u001b[0;34m\u001b[0m\u001b[0m\n\u001b[0m\u001b[1;32m   2624\u001b[0m         \u001b[0;31m# Cache parameters corresponding to the generated callable, so that\u001b[0m\u001b[0;34m\u001b[0m\u001b[0;34m\u001b[0m\u001b[0;34m\u001b[0m\u001b[0m\n\u001b[1;32m   2625\u001b[0m         \u001b[0;31m# we can detect future mismatches and refresh the callable.\u001b[0m\u001b[0;34m\u001b[0m\u001b[0;34m\u001b[0m\u001b[0;34m\u001b[0m\u001b[0m\n",
            "\u001b[0;32m/usr/local/lib/python3.6/dist-packages/tensorflow/python/client/session.py\u001b[0m in \u001b[0;36m_make_callable_from_options\u001b[0;34m(self, callable_options)\u001b[0m\n\u001b[1;32m   1469\u001b[0m     \"\"\"\n\u001b[1;32m   1470\u001b[0m     \u001b[0mself\u001b[0m\u001b[0;34m.\u001b[0m\u001b[0m_extend_graph\u001b[0m\u001b[0;34m(\u001b[0m\u001b[0;34m)\u001b[0m\u001b[0;34m\u001b[0m\u001b[0;34m\u001b[0m\u001b[0m\n\u001b[0;32m-> 1471\u001b[0;31m     \u001b[0;32mreturn\u001b[0m \u001b[0mBaseSession\u001b[0m\u001b[0;34m.\u001b[0m\u001b[0m_Callable\u001b[0m\u001b[0;34m(\u001b[0m\u001b[0mself\u001b[0m\u001b[0;34m,\u001b[0m \u001b[0mcallable_options\u001b[0m\u001b[0;34m)\u001b[0m\u001b[0;34m\u001b[0m\u001b[0;34m\u001b[0m\u001b[0m\n\u001b[0m\u001b[1;32m   1472\u001b[0m \u001b[0;34m\u001b[0m\u001b[0m\n\u001b[1;32m   1473\u001b[0m \u001b[0;34m\u001b[0m\u001b[0m\n",
            "\u001b[0;32m/usr/local/lib/python3.6/dist-packages/tensorflow/python/client/session.py\u001b[0m in \u001b[0;36m__init__\u001b[0;34m(self, session, callable_options)\u001b[0m\n\u001b[1;32m   1423\u001b[0m         \u001b[0;32mwith\u001b[0m \u001b[0merrors\u001b[0m\u001b[0;34m.\u001b[0m\u001b[0mraise_exception_on_not_ok_status\u001b[0m\u001b[0;34m(\u001b[0m\u001b[0;34m)\u001b[0m \u001b[0;32mas\u001b[0m \u001b[0mstatus\u001b[0m\u001b[0;34m:\u001b[0m\u001b[0;34m\u001b[0m\u001b[0;34m\u001b[0m\u001b[0m\n\u001b[1;32m   1424\u001b[0m           self._handle = tf_session.TF_SessionMakeCallable(\n\u001b[0;32m-> 1425\u001b[0;31m               session._session, options_ptr, status)\n\u001b[0m\u001b[1;32m   1426\u001b[0m       \u001b[0;32mfinally\u001b[0m\u001b[0;34m:\u001b[0m\u001b[0;34m\u001b[0m\u001b[0;34m\u001b[0m\u001b[0m\n\u001b[1;32m   1427\u001b[0m         \u001b[0mtf_session\u001b[0m\u001b[0;34m.\u001b[0m\u001b[0mTF_DeleteBuffer\u001b[0m\u001b[0;34m(\u001b[0m\u001b[0moptions_ptr\u001b[0m\u001b[0;34m)\u001b[0m\u001b[0;34m\u001b[0m\u001b[0;34m\u001b[0m\u001b[0m\n",
            "\u001b[0;32m/usr/local/lib/python3.6/dist-packages/tensorflow/python/framework/errors_impl.py\u001b[0m in \u001b[0;36m__exit__\u001b[0;34m(self, type_arg, value_arg, traceback_arg)\u001b[0m\n\u001b[1;32m    526\u001b[0m             \u001b[0;32mNone\u001b[0m\u001b[0;34m,\u001b[0m \u001b[0;32mNone\u001b[0m\u001b[0;34m,\u001b[0m\u001b[0;34m\u001b[0m\u001b[0;34m\u001b[0m\u001b[0m\n\u001b[1;32m    527\u001b[0m             \u001b[0mcompat\u001b[0m\u001b[0;34m.\u001b[0m\u001b[0mas_text\u001b[0m\u001b[0;34m(\u001b[0m\u001b[0mc_api\u001b[0m\u001b[0;34m.\u001b[0m\u001b[0mTF_Message\u001b[0m\u001b[0;34m(\u001b[0m\u001b[0mself\u001b[0m\u001b[0;34m.\u001b[0m\u001b[0mstatus\u001b[0m\u001b[0;34m.\u001b[0m\u001b[0mstatus\u001b[0m\u001b[0;34m)\u001b[0m\u001b[0;34m)\u001b[0m\u001b[0;34m,\u001b[0m\u001b[0;34m\u001b[0m\u001b[0;34m\u001b[0m\u001b[0m\n\u001b[0;32m--> 528\u001b[0;31m             c_api.TF_GetCode(self.status.status))\n\u001b[0m\u001b[1;32m    529\u001b[0m     \u001b[0;31m# Delete the underlying status object from memory otherwise it stays alive\u001b[0m\u001b[0;34m\u001b[0m\u001b[0;34m\u001b[0m\u001b[0;34m\u001b[0m\u001b[0m\n\u001b[1;32m    530\u001b[0m     \u001b[0;31m# as there is a reference to status from this from the traceback due to\u001b[0m\u001b[0;34m\u001b[0m\u001b[0;34m\u001b[0m\u001b[0;34m\u001b[0m\u001b[0m\n",
            "\u001b[0;31mInvalidArgumentError\u001b[0m: Endpoint \"input_ac:0\" fed more than once."
          ]
        }
      ]
    },
    {
      "metadata": {
        "id": "tKt3GIm36jUs",
        "colab_type": "code",
        "outputId": "2f87df1f-3e0e-43eb-9d85-45e05d300a11",
        "colab": {
          "base_uri": "https://localhost:8080/",
          "height": 35
        }
      },
      "cell_type": "code",
      "source": [
        "!kill"
      ],
      "execution_count": 0,
      "outputs": [
        {
          "output_type": "stream",
          "text": [
            "kill: usage: kill [-s sigspec | -n signum | -sigspec] pid | jobspec ... or kill -l [sigspec]\n"
          ],
          "name": "stdout"
        }
      ]
    },
    {
      "metadata": {
        "id": "443Xq0DU6oNV",
        "colab_type": "code",
        "colab": {}
      },
      "cell_type": "code",
      "source": [
        "!kill -9 -1"
      ],
      "execution_count": 0,
      "outputs": []
    },
    {
      "metadata": {
        "id": "8nyWMKzC3UKh",
        "colab_type": "code",
        "colab": {}
      },
      "cell_type": "code",
      "source": [
        ""
      ],
      "execution_count": 0,
      "outputs": []
    }
  ]
}