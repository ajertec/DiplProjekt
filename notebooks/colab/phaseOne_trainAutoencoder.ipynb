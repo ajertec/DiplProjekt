{
  "nbformat": 4,
  "nbformat_minor": 0,
  "metadata": {
    "colab": {
      "name": "phaseOne_Autoencoder.ipynb",
      "version": "0.3.2",
      "provenance": [],
      "collapsed_sections": []
    },
    "kernelspec": {
      "name": "python3",
      "display_name": "Python 3"
    },
    "accelerator": "GPU"
  },
  "cells": [
    {
      "metadata": {
        "id": "o7g1u4ZCDp8d",
        "colab_type": "code",
        "outputId": "0d050288-cf69-4a0f-d100-de7192de0663",
        "colab": {
          "base_uri": "https://localhost:8080/",
          "height": 128
        }
      },
      "cell_type": "code",
      "source": [
        "# Load the Drive helper and mount\n",
        "from google.colab import drive\n",
        "\n",
        "# This will prompt for authorization.\n",
        "drive.mount('/content/drive')"
      ],
      "execution_count": 1,
      "outputs": [
        {
          "output_type": "stream",
          "text": [
            "Go to this URL in a browser: https://accounts.google.com/o/oauth2/auth?client_id=947318989803-6bn6qk8qdgf4n4g3pfee6491hc0brc4i.apps.googleusercontent.com&redirect_uri=urn%3Aietf%3Awg%3Aoauth%3A2.0%3Aoob&scope=email%20https%3A%2F%2Fwww.googleapis.com%2Fauth%2Fdocs.test%20https%3A%2F%2Fwww.googleapis.com%2Fauth%2Fdrive%20https%3A%2F%2Fwww.googleapis.com%2Fauth%2Fdrive.photos.readonly%20https%3A%2F%2Fwww.googleapis.com%2Fauth%2Fpeopleapi.readonly&response_type=code\n",
            "\n",
            "Enter your authorization code:\n",
            "··········\n",
            "Mounted at /content/drive\n"
          ],
          "name": "stdout"
        }
      ]
    },
    {
      "metadata": {
        "id": "xfd7IIlbDwtW",
        "colab_type": "code",
        "outputId": "6e102987-3b98-49ba-ad0f-d977b80e7f16",
        "colab": {
          "base_uri": "https://localhost:8080/",
          "height": 35
        }
      },
      "cell_type": "code",
      "source": [
        "!ls"
      ],
      "execution_count": 2,
      "outputs": [
        {
          "output_type": "stream",
          "text": [
            "drive  sample_data\n"
          ],
          "name": "stdout"
        }
      ]
    },
    {
      "metadata": {
        "id": "13JALIuLEFgj",
        "colab_type": "code",
        "outputId": "40168cd8-1343-4675-9279-0f355aa8811c",
        "colab": {
          "base_uri": "https://localhost:8080/",
          "height": 35
        }
      },
      "cell_type": "code",
      "source": [
        "# change directory\n",
        "cd /content/drive/My Drive"
      ],
      "execution_count": 3,
      "outputs": [
        {
          "output_type": "stream",
          "text": [
            "/content/drive/My Drive\n"
          ],
          "name": "stdout"
        }
      ]
    },
    {
      "metadata": {
        "id": "gb3fEC-AEJ0E",
        "colab_type": "code",
        "outputId": "d4872fee-fb00-464c-e72f-cdfcd92ed56c",
        "colab": {
          "base_uri": "https://localhost:8080/",
          "height": 35
        }
      },
      "cell_type": "code",
      "source": [
        "!pwd"
      ],
      "execution_count": 4,
      "outputs": [
        {
          "output_type": "stream",
          "text": [
            "/content/drive/My Drive\n"
          ],
          "name": "stdout"
        }
      ]
    },
    {
      "metadata": {
        "id": "thwrfa-RELGl",
        "colab_type": "code",
        "outputId": "323efe46-0c4e-462b-d054-dce799d54a67",
        "colab": {
          "base_uri": "https://localhost:8080/",
          "height": 362
        }
      },
      "cell_type": "code",
      "source": [
        "!ls"
      ],
      "execution_count": 5,
      "outputs": [
        {
          "output_type": "stream",
          "text": [
            " ACtrain_google_colab2_GPU_dr_optimizre.ipynb\n",
            " ACtrain_google_colab2_GPU.ipynb\n",
            " ACtrain_google_colab2_TPU.ipynb\n",
            " autoencoder7.h5\n",
            " autoencoder8.h5\n",
            " binvox_rw.py\n",
            "'Colab Notebooks'\n",
            " data\n",
            "'Diplomski projekt.gdoc'\n",
            " phaseOne_Autoencoder.ipynb\n",
            " phaseTwo_generateEmbeddings.ipynb\n",
            " phaseTwo_ImageNet.ipynb\n",
            " __pycache__\n",
            " test\n",
            " test_vox\n",
            " train\n",
            " train_vox\n",
            " vox_data.pickle\n",
            " vox_data_test.pickle\n"
          ],
          "name": "stdout"
        }
      ]
    },
    {
      "metadata": {
        "id": "StOuvWXiEMbU",
        "colab_type": "code",
        "colab": {}
      },
      "cell_type": "code",
      "source": [
        "!pip install -q keras"
      ],
      "execution_count": 0,
      "outputs": []
    },
    {
      "metadata": {
        "id": "rRQaElE3EWdj",
        "colab_type": "code",
        "outputId": "2383409f-0b19-48a5-9f81-d551ae6448ff",
        "colab": {
          "base_uri": "https://localhost:8080/",
          "height": 35
        }
      },
      "cell_type": "code",
      "source": [
        "import tensorflow as tf\n",
        "tf.test.gpu_device_name()"
      ],
      "execution_count": 7,
      "outputs": [
        {
          "output_type": "execute_result",
          "data": {
            "text/plain": [
              "'/device:GPU:0'"
            ]
          },
          "metadata": {
            "tags": []
          },
          "execution_count": 7
        }
      ]
    },
    {
      "metadata": {
        "id": "N98-q5ex9tHj",
        "colab_type": "code",
        "colab": {}
      },
      "cell_type": "code",
      "source": [
        "import binvox_rw"
      ],
      "execution_count": 0,
      "outputs": []
    },
    {
      "metadata": {
        "id": "X1oGZCK-EdVu",
        "colab_type": "code",
        "outputId": "04c01ab4-e006-4a3a-b408-9be6e37d98fc",
        "colab": {
          "base_uri": "https://localhost:8080/",
          "height": 508
        }
      },
      "cell_type": "code",
      "source": [
        "from tensorflow.python.client import device_lib\n",
        "device_lib.list_local_devices()"
      ],
      "execution_count": 9,
      "outputs": [
        {
          "output_type": "execute_result",
          "data": {
            "text/plain": [
              "[name: \"/device:CPU:0\"\n",
              " device_type: \"CPU\"\n",
              " memory_limit: 268435456\n",
              " locality {\n",
              " }\n",
              " incarnation: 11713017400017383100, name: \"/device:XLA_CPU:0\"\n",
              " device_type: \"XLA_CPU\"\n",
              " memory_limit: 17179869184\n",
              " locality {\n",
              " }\n",
              " incarnation: 11592616446291611891\n",
              " physical_device_desc: \"device: XLA_CPU device\", name: \"/device:XLA_GPU:0\"\n",
              " device_type: \"XLA_GPU\"\n",
              " memory_limit: 17179869184\n",
              " locality {\n",
              " }\n",
              " incarnation: 12171700012002666182\n",
              " physical_device_desc: \"device: XLA_GPU device\", name: \"/device:GPU:0\"\n",
              " device_type: \"GPU\"\n",
              " memory_limit: 11281553818\n",
              " locality {\n",
              "   bus_id: 1\n",
              "   links {\n",
              "   }\n",
              " }\n",
              " incarnation: 2492618792731345431\n",
              " physical_device_desc: \"device: 0, name: Tesla K80, pci bus id: 0000:00:04.0, compute capability: 3.7\"]"
            ]
          },
          "metadata": {
            "tags": []
          },
          "execution_count": 9
        }
      ]
    },
    {
      "metadata": {
        "id": "SYc0RgVWEp2p",
        "colab_type": "text"
      },
      "cell_type": "markdown",
      "source": [
        "**Autoencoder**"
      ]
    },
    {
      "metadata": {
        "id": "54_j70mr7G_8",
        "colab_type": "code",
        "colab": {}
      },
      "cell_type": "code",
      "source": [
        "import matplotlib.pyplot as plt\n",
        "from mpl_toolkits.mplot3d import Axes3D"
      ],
      "execution_count": 0,
      "outputs": []
    },
    {
      "metadata": {
        "id": "Tj6fh2CTEuMt",
        "colab_type": "code",
        "outputId": "ef28b276-d09a-43af-ee55-b4bc0fed34f0",
        "colab": {
          "base_uri": "https://localhost:8080/",
          "height": 35
        }
      },
      "cell_type": "code",
      "source": [
        "import numpy as np\n",
        "import pandas as pd\n",
        "\n",
        "\n",
        "from keras.models import Sequential, Model, load_model\n",
        "from keras.layers.core import Dense, Activation, Flatten\n",
        "from keras.layers.embeddings import Embedding\n",
        "from keras.layers.recurrent import LSTM\n",
        "from keras.layers import Conv3D, Conv3DTranspose, Conv2D, Conv1D, MaxPooling1D, MaxPooling2D, Input, BatchNormalization, Dropout, Lambda, Bidirectional\n",
        "from keras.layers import CuDNNLSTM, Reshape, PReLU, ZeroPadding2D\n",
        "from keras.layers.merge import concatenate\n",
        "from keras.optimizers import RMSprop, Adam, SGD\n",
        "from keras.models import load_model\n",
        "from keras.callbacks import Callback\n",
        "from keras.utils import plot_model\n",
        "\n",
        "from keras.preprocessing import image\n",
        "import keras.backend as K\n",
        "\n",
        "import matplotlib.pyplot as plt\n",
        "\n",
        "import time \n",
        "import tensorflow as tf\n",
        "from sklearn import metrics\n",
        "import pickle\n",
        "import os\n",
        "import scipy.io as sio"
      ],
      "execution_count": 11,
      "outputs": [
        {
          "output_type": "stream",
          "text": [
            "Using TensorFlow backend.\n"
          ],
          "name": "stderr"
        }
      ]
    },
    {
      "metadata": {
        "id": "ih69JsZtLrAp",
        "colab_type": "code",
        "colab": {}
      },
      "cell_type": "code",
      "source": [
        "\n",
        "np.random.seed(5)\n",
        "tf.set_random_seed(5)"
      ],
      "execution_count": 0,
      "outputs": []
    },
    {
      "metadata": {
        "id": "6gYyr6qJGGDa",
        "colab_type": "code",
        "colab": {}
      },
      "cell_type": "code",
      "source": [
        "def precision(y_true, y_pred):\n",
        "    \"\"\"Precision metric.\n",
        "    Only computes a batch-wise average of precision.\n",
        "    Computes the precision, a metric for multi-label classification of\n",
        "    how many selected items are relevant.\n",
        "    \"\"\"\n",
        "    true_positives = K.sum(K.round(K.clip(y_true * y_pred, 0, 1)))\n",
        "    predicted_positives = K.sum(K.round(K.clip(y_pred, 0, 1)))\n",
        "    precision = true_positives / (predicted_positives + K.epsilon())\n",
        "    return precision"
      ],
      "execution_count": 0,
      "outputs": []
    },
    {
      "metadata": {
        "id": "iBcBI2qHEws7",
        "colab_type": "code",
        "outputId": "5460d36e-d655-4b69-b843-f0538f2b8d23",
        "colab": {
          "base_uri": "https://localhost:8080/",
          "height": 944
        }
      },
      "cell_type": "code",
      "source": [
        "# Autoencoder arhitecture\n",
        "\n",
        "input_vox = Input(shape=(20,20,20,1,), name = \"input_ac\")\n",
        "\n",
        "conv1 = Conv3D(96, 7, name = \"conv1_ac\")(input_vox)\n",
        "act1 = PReLU(name = \"p_re_lu_1\")(conv1)\n",
        "conv2 = Conv3D(256, 5, name = \"conv2_ac\")(act1)\n",
        "act2 = PReLU(name = \"p_re_lu_2\")(conv2)\n",
        "conv3 = Conv3D(384, 3, name = \"conv3_ac\")(act2)\n",
        "act3 = PReLU(name = \"p_re_lu_3\")(conv3)\n",
        "conv4 = Conv3D(256, 3, name = \"conv4_ac\")(act3)\n",
        "act4 = PReLU(name = \"p_re_lu_4\")(conv4)\n",
        "\n",
        "flat = Flatten(name = \"flat_ac\")(act4)\n",
        "dens = Dense(64, name = \"dense1_ac\")(flat)\n",
        "dens2 = Dense(216, name = \"dense2_ac\")(dens)\n",
        "reshp = Reshape((6, 6, 6, -1), name = \"reshape_ac\")(dens2)\n",
        "\n",
        "deconv1 = Conv3DTranspose(256, 3, name = \"deconv1_ac\")(reshp)\n",
        "dact1 = PReLU(name = \"p_re_lu_5\")(deconv1)\n",
        "deconv2 = Conv3DTranspose(384, 3, name = \"deconv2_ac\")(dact1)\n",
        "dact2 = PReLU(name = \"p_re_lu_6\")(deconv2)\n",
        "deconv3 = Conv3DTranspose(256, 5, name = \"deconv3_ac\")(dact2)\n",
        "dact3 = PReLU(name = \"p_re_lu_7\")(deconv3)\n",
        "deconv4 = Conv3DTranspose(96, 7, name = \"deconv4_ac\")(dact3)\n",
        "dact4 = PReLU(name = \"p_re_lu_8\")(deconv4)\n",
        "out = Conv3DTranspose(1, 1, activation = \"sigmoid\", name = \"output_ac\")(dact4)\n",
        "\n",
        "autoencoder = Model(inputs = input_vox, outputs = out)\n",
        "autoencoder.compile(loss='binary_crossentropy', optimizer=\"adam\", metrics =[\"accuracy\", precision])\n",
        "autoencoder.summary()"
      ],
      "execution_count": 14,
      "outputs": [
        {
          "output_type": "stream",
          "text": [
            "_________________________________________________________________\n",
            "Layer (type)                 Output Shape              Param #   \n",
            "=================================================================\n",
            "input_ac (InputLayer)        (None, 20, 20, 20, 1)     0         \n",
            "_________________________________________________________________\n",
            "conv1_ac (Conv3D)            (None, 14, 14, 14, 96)    33024     \n",
            "_________________________________________________________________\n",
            "p_re_lu_1 (PReLU)            (None, 14, 14, 14, 96)    263424    \n",
            "_________________________________________________________________\n",
            "conv2_ac (Conv3D)            (None, 10, 10, 10, 256)   3072256   \n",
            "_________________________________________________________________\n",
            "p_re_lu_2 (PReLU)            (None, 10, 10, 10, 256)   256000    \n",
            "_________________________________________________________________\n",
            "conv3_ac (Conv3D)            (None, 8, 8, 8, 384)      2654592   \n",
            "_________________________________________________________________\n",
            "p_re_lu_3 (PReLU)            (None, 8, 8, 8, 384)      196608    \n",
            "_________________________________________________________________\n",
            "conv4_ac (Conv3D)            (None, 6, 6, 6, 256)      2654464   \n",
            "_________________________________________________________________\n",
            "p_re_lu_4 (PReLU)            (None, 6, 6, 6, 256)      55296     \n",
            "_________________________________________________________________\n",
            "flat_ac (Flatten)            (None, 55296)             0         \n",
            "_________________________________________________________________\n",
            "dense1_ac (Dense)            (None, 64)                3539008   \n",
            "_________________________________________________________________\n",
            "dense2_ac (Dense)            (None, 216)               14040     \n",
            "_________________________________________________________________\n",
            "reshape_ac (Reshape)         (None, 6, 6, 6, 1)        0         \n",
            "_________________________________________________________________\n",
            "deconv1_ac (Conv3DTranspose) (None, 8, 8, 8, 256)      7168      \n",
            "_________________________________________________________________\n",
            "p_re_lu_5 (PReLU)            (None, 8, 8, 8, 256)      131072    \n",
            "_________________________________________________________________\n",
            "deconv2_ac (Conv3DTranspose) (None, 10, 10, 10, 384)   2654592   \n",
            "_________________________________________________________________\n",
            "p_re_lu_6 (PReLU)            (None, 10, 10, 10, 384)   384000    \n",
            "_________________________________________________________________\n",
            "deconv3_ac (Conv3DTranspose) (None, 14, 14, 14, 256)   12288256  \n",
            "_________________________________________________________________\n",
            "p_re_lu_7 (PReLU)            (None, 14, 14, 14, 256)   702464    \n",
            "_________________________________________________________________\n",
            "deconv4_ac (Conv3DTranspose) (None, 20, 20, 20, 96)    8429664   \n",
            "_________________________________________________________________\n",
            "p_re_lu_8 (PReLU)            (None, 20, 20, 20, 96)    768000    \n",
            "_________________________________________________________________\n",
            "output_ac (Conv3DTranspose)  (None, 20, 20, 20, 1)     97        \n",
            "=================================================================\n",
            "Total params: 38,104,025\n",
            "Trainable params: 38,104,025\n",
            "Non-trainable params: 0\n",
            "_________________________________________________________________\n"
          ],
          "name": "stdout"
        }
      ]
    },
    {
      "metadata": {
        "id": "fyh2-x5UYuJC",
        "colab_type": "code",
        "outputId": "566b655b-267a-4c6f-db68-e07fa63b3cb7",
        "colab": {
          "base_uri": "https://localhost:8080/",
          "height": 944
        }
      },
      "cell_type": "code",
      "source": [
        "# load trained Autoencoder\n",
        "\n",
        "autoencoder_trained = load_model(\"autoencoder8.h5\", custom_objects = {\"precision\":precision})\n",
        "autoencoder_trained.summary()"
      ],
      "execution_count": 15,
      "outputs": [
        {
          "output_type": "stream",
          "text": [
            "_________________________________________________________________\n",
            "Layer (type)                 Output Shape              Param #   \n",
            "=================================================================\n",
            "input_ac (InputLayer)        (None, 20, 20, 20, 1)     0         \n",
            "_________________________________________________________________\n",
            "conv1_ac (Conv3D)            (None, 14, 14, 14, 96)    33024     \n",
            "_________________________________________________________________\n",
            "p_re_lu_1 (PReLU)            (None, 14, 14, 14, 96)    263424    \n",
            "_________________________________________________________________\n",
            "conv2_ac (Conv3D)            (None, 10, 10, 10, 256)   3072256   \n",
            "_________________________________________________________________\n",
            "p_re_lu_2 (PReLU)            (None, 10, 10, 10, 256)   256000    \n",
            "_________________________________________________________________\n",
            "conv3_ac (Conv3D)            (None, 8, 8, 8, 384)      2654592   \n",
            "_________________________________________________________________\n",
            "p_re_lu_3 (PReLU)            (None, 8, 8, 8, 384)      196608    \n",
            "_________________________________________________________________\n",
            "conv4_ac (Conv3D)            (None, 6, 6, 6, 256)      2654464   \n",
            "_________________________________________________________________\n",
            "p_re_lu_4 (PReLU)            (None, 6, 6, 6, 256)      55296     \n",
            "_________________________________________________________________\n",
            "flat_ac (Flatten)            (None, 55296)             0         \n",
            "_________________________________________________________________\n",
            "dense1_ac (Dense)            (None, 64)                3539008   \n",
            "_________________________________________________________________\n",
            "dense2_ac (Dense)            (None, 216)               14040     \n",
            "_________________________________________________________________\n",
            "reshape_ac (Reshape)         (None, 6, 6, 6, 1)        0         \n",
            "_________________________________________________________________\n",
            "deconv1_ac (Conv3DTranspose) (None, 8, 8, 8, 256)      7168      \n",
            "_________________________________________________________________\n",
            "p_re_lu_5 (PReLU)            (None, 8, 8, 8, 256)      131072    \n",
            "_________________________________________________________________\n",
            "deconv2_ac (Conv3DTranspose) (None, 10, 10, 10, 384)   2654592   \n",
            "_________________________________________________________________\n",
            "p_re_lu_6 (PReLU)            (None, 10, 10, 10, 384)   384000    \n",
            "_________________________________________________________________\n",
            "deconv3_ac (Conv3DTranspose) (None, 14, 14, 14, 256)   12288256  \n",
            "_________________________________________________________________\n",
            "p_re_lu_7 (PReLU)            (None, 14, 14, 14, 256)   702464    \n",
            "_________________________________________________________________\n",
            "deconv4_ac (Conv3DTranspose) (None, 20, 20, 20, 96)    8429664   \n",
            "_________________________________________________________________\n",
            "p_re_lu_8 (PReLU)            (None, 20, 20, 20, 96)    768000    \n",
            "_________________________________________________________________\n",
            "output_ac (Conv3DTranspose)  (None, 20, 20, 20, 1)     97        \n",
            "=================================================================\n",
            "Total params: 38,104,025\n",
            "Trainable params: 38,104,025\n",
            "Non-trainable params: 0\n",
            "_________________________________________________________________\n"
          ],
          "name": "stdout"
        }
      ]
    },
    {
      "metadata": {
        "id": "9we3_Mr3v-rq",
        "colab_type": "code",
        "outputId": "02a616e8-725d-4e44-bd8b-8dbf67637290",
        "colab": {
          "base_uri": "https://localhost:8080/",
          "height": 35
        }
      },
      "cell_type": "code",
      "source": [
        "# load voxels\n",
        "with open('vox_data.pickle', 'rb') as handle:\n",
        "    vox_data = pickle.load(handle)\n",
        "    \n",
        "    \n",
        "vox_data = np.expand_dims(vox_data, axis = -1)\n",
        "\n",
        "vox_data.shape"
      ],
      "execution_count": 16,
      "outputs": [
        {
          "output_type": "execute_result",
          "data": {
            "text/plain": [
              "(16116, 20, 20, 20, 1)"
            ]
          },
          "metadata": {
            "tags": []
          },
          "execution_count": 16
        }
      ]
    },
    {
      "metadata": {
        "id": "sgayD4Q7wOJ7",
        "colab_type": "code",
        "outputId": "0b8c51cf-aa3c-4c10-ddd6-a2a5bf0c1a34",
        "colab": {
          "base_uri": "https://localhost:8080/",
          "height": 35
        }
      },
      "cell_type": "code",
      "source": [
        "# load voxels for validation\n",
        "with open('vox_data_test.pickle', 'rb') as handle:\n",
        "    vox_data_test = pickle.load(handle)\n",
        "    \n",
        "    \n",
        "vox_data_test = np.expand_dims(vox_data_test, axis = -1)\n",
        "vox_data_test.shape"
      ],
      "execution_count": 17,
      "outputs": [
        {
          "output_type": "execute_result",
          "data": {
            "text/plain": [
              "(4031, 20, 20, 20, 1)"
            ]
          },
          "metadata": {
            "tags": []
          },
          "execution_count": 17
        }
      ]
    },
    {
      "metadata": {
        "id": "WCLkbqJ3FOrB",
        "colab_type": "code",
        "outputId": "0c6a8e79-2fe7-4684-f72e-481b623f9494",
        "colab": {
          "base_uri": "https://localhost:8080/",
          "height": 308
        }
      },
      "cell_type": "code",
      "source": [
        "!nvidia-smi"
      ],
      "execution_count": 18,
      "outputs": [
        {
          "output_type": "stream",
          "text": [
            "Tue Jan 22 11:29:00 2019       \n",
            "+-----------------------------------------------------------------------------+\n",
            "| NVIDIA-SMI 396.44                 Driver Version: 396.44                    |\n",
            "|-------------------------------+----------------------+----------------------+\n",
            "| GPU  Name        Persistence-M| Bus-Id        Disp.A | Volatile Uncorr. ECC |\n",
            "| Fan  Temp  Perf  Pwr:Usage/Cap|         Memory-Usage | GPU-Util  Compute M. |\n",
            "|===============================+======================+======================|\n",
            "|   0  Tesla K80           Off  | 00000000:00:04.0 Off |                    0 |\n",
            "| N/A   36C    P0    53W / 149W |   1173MiB / 11441MiB |      0%      Default |\n",
            "+-------------------------------+----------------------+----------------------+\n",
            "                                                                               \n",
            "+-----------------------------------------------------------------------------+\n",
            "| Processes:                                                       GPU Memory |\n",
            "|  GPU       PID   Type   Process name                             Usage      |\n",
            "|=============================================================================|\n",
            "+-----------------------------------------------------------------------------+\n"
          ],
          "name": "stdout"
        }
      ]
    },
    {
      "metadata": {
        "id": "ud991fs57i0X",
        "colab_type": "code",
        "colab": {}
      },
      "cell_type": "code",
      "source": [
        "#class EarlyStoppingByAccuracy(Callback):\n",
        "#    def __init__(self, monitor='precision', value=0.99, verbose=0):\n",
        "#        super(Callback, self).__init__()\n",
        "#        self.monitor = monitor\n",
        "#        self.value = value\n",
        "#        self.verbose = verbose\n",
        "#\n",
        "#    def on_epoch_end(self, epoch, logs={}):\n",
        "#        current = logs.get(self.monitor)\n",
        "#        if current is None:\n",
        "#            warnings.warn(\"Early stopping requires %s available!\" % self.monitor, RuntimeWarning)\n",
        "#\n",
        "#        if current >= self.value:\n",
        "#            if self.verbose > 0:\n",
        "#                print(\"Epoch %05d: early stopping THR\" % epoch)\n",
        "#            self.model.stop_training = True\n",
        "            "
      ],
      "execution_count": 0,
      "outputs": []
    },
    {
      "metadata": {
        "id": "CwXQLc4C1BCX",
        "colab_type": "code",
        "outputId": "43139601-5f83-4f7c-9e77-487e82f64004",
        "colab": {
          "base_uri": "https://localhost:8080/",
          "height": 835
        }
      },
      "cell_type": "code",
      "source": [
        "!cat /proc/meminfo"
      ],
      "execution_count": 19,
      "outputs": [
        {
          "output_type": "stream",
          "text": [
            "MemTotal:       13335276 kB\n",
            "MemFree:         6625556 kB\n",
            "MemAvailable:   11000284 kB\n",
            "Buffers:           66120 kB\n",
            "Cached:          4744012 kB\n",
            "SwapCached:            0 kB\n",
            "Active:           955240 kB\n",
            "Inactive:        5334720 kB\n",
            "Active(anon):     690284 kB\n",
            "Inactive(anon):  1058132 kB\n",
            "Active(file):     264956 kB\n",
            "Inactive(file):  4276588 kB\n",
            "Unevictable:           0 kB\n",
            "Mlocked:               0 kB\n",
            "SwapTotal:             0 kB\n",
            "SwapFree:              0 kB\n",
            "Dirty:             34412 kB\n",
            "Writeback:             0 kB\n",
            "AnonPages:       1479912 kB\n",
            "Mapped:          1479468 kB\n",
            "Shmem:           1058676 kB\n",
            "Slab:             196440 kB\n",
            "SReclaimable:     148652 kB\n",
            "SUnreclaim:        47788 kB\n",
            "KernelStack:        4576 kB\n",
            "PageTables:        10508 kB\n",
            "NFS_Unstable:          0 kB\n",
            "Bounce:                0 kB\n",
            "WritebackTmp:          0 kB\n",
            "CommitLimit:     6667636 kB\n",
            "Committed_AS:    4556856 kB\n",
            "VmallocTotal:   34359738367 kB\n",
            "VmallocUsed:           0 kB\n",
            "VmallocChunk:          0 kB\n",
            "AnonHugePages:         0 kB\n",
            "ShmemHugePages:        0 kB\n",
            "ShmemPmdMapped:        0 kB\n",
            "HugePages_Total:       0\n",
            "HugePages_Free:        0\n",
            "HugePages_Rsvd:        0\n",
            "HugePages_Surp:        0\n",
            "Hugepagesize:       2048 kB\n",
            "DirectMap4k:      169972 kB\n",
            "DirectMap2M:     5072896 kB\n",
            "DirectMap1G:    10485760 kB\n"
          ],
          "name": "stdout"
        }
      ]
    },
    {
      "metadata": {
        "id": "F3zUEcMj1MIr",
        "colab_type": "code",
        "outputId": "cd1c781a-6691-45c6-c72a-f93dbb79f5c5",
        "colab": {
          "base_uri": "https://localhost:8080/",
          "height": 1018
        }
      },
      "cell_type": "code",
      "source": [
        "!cat /proc/cpuinfo"
      ],
      "execution_count": 20,
      "outputs": [
        {
          "output_type": "stream",
          "text": [
            "processor\t: 0\n",
            "vendor_id\t: GenuineIntel\n",
            "cpu family\t: 6\n",
            "model\t\t: 79\n",
            "model name\t: Intel(R) Xeon(R) CPU @ 2.20GHz\n",
            "stepping\t: 0\n",
            "microcode\t: 0x1\n",
            "cpu MHz\t\t: 2200.000\n",
            "cache size\t: 56320 KB\n",
            "physical id\t: 0\n",
            "siblings\t: 2\n",
            "core id\t\t: 0\n",
            "cpu cores\t: 1\n",
            "apicid\t\t: 0\n",
            "initial apicid\t: 0\n",
            "fpu\t\t: yes\n",
            "fpu_exception\t: yes\n",
            "cpuid level\t: 13\n",
            "wp\t\t: yes\n",
            "flags\t\t: fpu vme de pse tsc msr pae mce cx8 apic sep mtrr pge mca cmov pat pse36 clflush mmx fxsr sse sse2 ss ht syscall nx pdpe1gb rdtscp lm constant_tsc rep_good nopl xtopology nonstop_tsc cpuid tsc_known_freq pni pclmulqdq ssse3 fma cx16 pcid sse4_1 sse4_2 x2apic movbe popcnt aes xsave avx f16c rdrand hypervisor lahf_lm abm 3dnowprefetch invpcid_single pti ssbd ibrs ibpb stibp fsgsbase tsc_adjust bmi1 hle avx2 smep bmi2 erms invpcid rtm rdseed adx smap xsaveopt arat arch_capabilities\n",
            "bugs\t\t: cpu_meltdown spectre_v1 spectre_v2 spec_store_bypass l1tf\n",
            "bogomips\t: 4400.00\n",
            "clflush size\t: 64\n",
            "cache_alignment\t: 64\n",
            "address sizes\t: 46 bits physical, 48 bits virtual\n",
            "power management:\n",
            "\n",
            "processor\t: 1\n",
            "vendor_id\t: GenuineIntel\n",
            "cpu family\t: 6\n",
            "model\t\t: 79\n",
            "model name\t: Intel(R) Xeon(R) CPU @ 2.20GHz\n",
            "stepping\t: 0\n",
            "microcode\t: 0x1\n",
            "cpu MHz\t\t: 2200.000\n",
            "cache size\t: 56320 KB\n",
            "physical id\t: 0\n",
            "siblings\t: 2\n",
            "core id\t\t: 0\n",
            "cpu cores\t: 1\n",
            "apicid\t\t: 1\n",
            "initial apicid\t: 1\n",
            "fpu\t\t: yes\n",
            "fpu_exception\t: yes\n",
            "cpuid level\t: 13\n",
            "wp\t\t: yes\n",
            "flags\t\t: fpu vme de pse tsc msr pae mce cx8 apic sep mtrr pge mca cmov pat pse36 clflush mmx fxsr sse sse2 ss ht syscall nx pdpe1gb rdtscp lm constant_tsc rep_good nopl xtopology nonstop_tsc cpuid tsc_known_freq pni pclmulqdq ssse3 fma cx16 pcid sse4_1 sse4_2 x2apic movbe popcnt aes xsave avx f16c rdrand hypervisor lahf_lm abm 3dnowprefetch invpcid_single pti ssbd ibrs ibpb stibp fsgsbase tsc_adjust bmi1 hle avx2 smep bmi2 erms invpcid rtm rdseed adx smap xsaveopt arat arch_capabilities\n",
            "bugs\t\t: cpu_meltdown spectre_v1 spectre_v2 spec_store_bypass l1tf\n",
            "bogomips\t: 4400.00\n",
            "clflush size\t: 64\n",
            "cache_alignment\t: 64\n",
            "address sizes\t: 46 bits physical, 48 bits virtual\n",
            "power management:\n",
            "\n"
          ],
          "name": "stdout"
        }
      ]
    },
    {
      "metadata": {
        "colab_type": "code",
        "outputId": "effbb2f4-fb28-45be-c4b1-acef2003252c",
        "id": "hdZCHM9IUZTC",
        "colab": {
          "base_uri": "https://localhost:8080/",
          "height": 92
        }
      },
      "cell_type": "code",
      "source": [
        "# training Autoencoder\n",
        "\n",
        "history = autoencoder.fit(vox_data, vox_data, batch_size = 128, verbose =1, epochs = 1, validation_data = (vox_data_test, vox_data_test))"
      ],
      "execution_count": 0,
      "outputs": [
        {
          "output_type": "stream",
          "text": [
            "Train on 16116 samples, validate on 4031 samples\n",
            "Epoch 1/1\n",
            "16116/16116 [==============================] - 2864s 178ms/step - loss: 0.0153 - acc: 0.9939 - precision: 0.9761 - val_loss: 0.0639 - val_acc: 0.9823 - val_precision: 0.9286\n"
          ],
          "name": "stdout"
        }
      ]
    },
    {
      "metadata": {
        "colab_type": "text",
        "id": "A40c2FajUY1i"
      },
      "cell_type": "markdown",
      "source": [
        ""
      ]
    },
    {
      "metadata": {
        "id": "hly1BI0-3J5h",
        "colab_type": "code",
        "outputId": "bd548b39-3938-47c1-aaee-0d453c07d146",
        "colab": {
          "base_uri": "https://localhost:8080/",
          "height": 365
        }
      },
      "cell_type": "code",
      "source": [
        "\n",
        "plt.plot(history.history[\"acc\"], label = \"acc\")\n",
        "plt.plot(history.history[\"precision\"], label = \"precision\")\n",
        "\n",
        "plt.plot(history.history[\"val_acc\"], label = \"val_acc\")\n",
        "plt.plot(history.history[\"val_precision\"], label = \"val_precision\")\n",
        "\n",
        "plt.legend()\n",
        "\n"
      ],
      "execution_count": 0,
      "outputs": [
        {
          "output_type": "execute_result",
          "data": {
            "text/plain": [
              "<matplotlib.legend.Legend at 0x7ff460457278>"
            ]
          },
          "metadata": {
            "tags": []
          },
          "execution_count": 29
        },
        {
          "output_type": "display_data",
          "data": {
            "image/png": "[encoded data removed]",
            "text/plain": [
              "<Figure size 576x396 with 1 Axes>"
            ]
          },
          "metadata": {
            "tags": []
          }
        }
      ]
    },
    {
      "metadata": {
        "id": "ypFKtH74KNjx",
        "colab_type": "code",
        "outputId": "a712717d-4480-4dfb-d0c4-5de34c8c7824",
        "colab": {
          "base_uri": "https://localhost:8080/",
          "height": 365
        }
      },
      "cell_type": "code",
      "source": [
        "plt.plot(history.history[\"loss\"], label = \"loss\")\n",
        "plt.plot(history.history[\"val_loss\"], label = \"val_loss\")\n",
        "plt.legend()"
      ],
      "execution_count": 0,
      "outputs": [
        {
          "output_type": "execute_result",
          "data": {
            "text/plain": [
              "<matplotlib.legend.Legend at 0x7ff460414908>"
            ]
          },
          "metadata": {
            "tags": []
          },
          "execution_count": 30
        },
        {
          "output_type": "display_data",
          "data": {
            "image/png": "[encoded data removed]",
            "text/plain": [
              "<Figure size 576x396 with 1 Axes>"
            ]
          },
          "metadata": {
            "tags": []
          }
        }
      ]
    },
    {
      "metadata": {
        "id": "bbo7B8JeRntB",
        "colab_type": "code",
        "colab": {}
      },
      "cell_type": "code",
      "source": [
        "autoencoder.save(\"autoencoder9.h5\")"
      ],
      "execution_count": 0,
      "outputs": []
    },
    {
      "metadata": {
        "id": "NnQzvvclMGVf",
        "colab_type": "code",
        "outputId": "8770a119-8f94-4172-cf05-4da7992fc5e0",
        "colab": {
          "base_uri": "https://localhost:8080/",
          "height": 35
        }
      },
      "cell_type": "code",
      "source": [
        "# tu average preciision is scikit-a\n",
        "train_predikt = autoencoder.predict(vox_data[:4000])\n",
        "train_predikt.shape\n"
      ],
      "execution_count": 0,
      "outputs": [
        {
          "output_type": "execute_result",
          "data": {
            "text/plain": [
              "(4000, 20, 20, 20, 1)"
            ]
          },
          "metadata": {
            "tags": []
          },
          "execution_count": 27
        }
      ]
    },
    {
      "metadata": {
        "id": "d92_VQfC4tQ8",
        "colab_type": "code",
        "outputId": "fd8f5527-c975-4b9d-9b18-df8caef2f5f8",
        "colab": {
          "base_uri": "https://localhost:8080/",
          "height": 35
        }
      },
      "cell_type": "code",
      "source": [
        "metrics.average_precision_score(vox_data[:4000].flatten(), train_predikt.flatten())"
      ],
      "execution_count": 0,
      "outputs": [
        {
          "output_type": "execute_result",
          "data": {
            "text/plain": [
              "0.9976354882889167"
            ]
          },
          "metadata": {
            "tags": []
          },
          "execution_count": 28
        }
      ]
    },
    {
      "metadata": {
        "id": "NHYA5zLSg2w9",
        "colab_type": "code",
        "outputId": "52d76cff-e3c6-4412-9f36-17d3521f2edf",
        "colab": {
          "base_uri": "https://localhost:8080/",
          "height": 35
        }
      },
      "cell_type": "code",
      "source": [
        "# prvih 200 epoha treniranja.. unutar iskoci iz lok optimuma\n",
        "history.history.keys()"
      ],
      "execution_count": 0,
      "outputs": [
        {
          "output_type": "execute_result",
          "data": {
            "text/plain": [
              "dict_keys(['loss', 'acc', 'precision'])"
            ]
          },
          "metadata": {
            "tags": []
          },
          "execution_count": 19
        }
      ]
    },
    {
      "metadata": {
        "id": "a78SP6hd5xFF",
        "colab_type": "code",
        "outputId": "33f1002e-c34d-4691-9cc4-ee1562bbd4af",
        "colab": {
          "base_uri": "https://localhost:8080/",
          "height": 35
        }
      },
      "cell_type": "code",
      "source": [
        "# evaluation on validation data\n",
        "train_predikt_test = autoencoder.predict(vox_data_test)\n",
        "train_predikt_test.shape"
      ],
      "execution_count": 0,
      "outputs": [
        {
          "output_type": "execute_result",
          "data": {
            "text/plain": [
              "(4031, 20, 20, 20, 1)"
            ]
          },
          "metadata": {
            "tags": []
          },
          "execution_count": 29
        }
      ]
    },
    {
      "metadata": {
        "id": "jX8KfAZW5xK2",
        "colab_type": "code",
        "outputId": "eeee663b-1a91-409c-ac02-6cb7e487e734",
        "colab": {
          "base_uri": "https://localhost:8080/",
          "height": 35
        }
      },
      "cell_type": "code",
      "source": [
        "# evaluation on validation data\n",
        "metrics.average_precision_score(vox_data_test.flatten(), train_predikt_test.flatten())"
      ],
      "execution_count": 0,
      "outputs": [
        {
          "output_type": "execute_result",
          "data": {
            "text/plain": [
              "0.9786774499610918"
            ]
          },
          "metadata": {
            "tags": []
          },
          "execution_count": 30
        }
      ]
    },
    {
      "metadata": {
        "id": "tKt3GIm36jUs",
        "colab_type": "code",
        "outputId": "2f87df1f-3e0e-43eb-9d85-45e05d300a11",
        "colab": {
          "base_uri": "https://localhost:8080/",
          "height": 35
        }
      },
      "cell_type": "code",
      "source": [
        "!kill"
      ],
      "execution_count": 0,
      "outputs": [
        {
          "output_type": "stream",
          "text": [
            "kill: usage: kill [-s sigspec | -n signum | -sigspec] pid | jobspec ... or kill -l [sigspec]\n"
          ],
          "name": "stdout"
        }
      ]
    },
    {
      "metadata": {
        "id": "443Xq0DU6oNV",
        "colab_type": "code",
        "colab": {}
      },
      "cell_type": "code",
      "source": [
        "!kill -9 -1"
      ],
      "execution_count": 0,
      "outputs": []
    },
    {
      "metadata": {
        "id": "8nyWMKzC3UKh",
        "colab_type": "code",
        "colab": {}
      },
      "cell_type": "code",
      "source": [
        ""
      ],
      "execution_count": 0,
      "outputs": []
    }
  ]
}