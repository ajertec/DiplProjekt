{
  "nbformat": 4,
  "nbformat_minor": 0,
  "metadata": {
    "colab": {
      "name": "phaseTwo_generateEmbeddings_better.ipynb",
      "version": "0.3.2",
      "provenance": [],
      "collapsed_sections": []
    },
    "kernelspec": {
      "name": "python3",
      "display_name": "Python 3"
    },
    "accelerator": "GPU"
  },
  "cells": [
    {
      "metadata": {
        "id": "o7g1u4ZCDp8d",
        "colab_type": "code",
        "outputId": "14f0869e-ebdd-46a2-8a40-aef0da406a82",
        "colab": {
          "base_uri": "https://localhost:8080/",
          "height": 34
        }
      },
      "cell_type": "code",
      "source": [
        "# Load the Drive helper and mount\n",
        "from google.colab import drive\n",
        "\n",
        "# This will prompt for authorization.\n",
        "drive.mount('/content/drive')"
      ],
      "execution_count": 0,
      "outputs": [
        {
          "output_type": "stream",
          "text": [
            "Drive already mounted at /content/drive; to attempt to forcibly remount, call drive.mount(\"/content/drive\", force_remount=True).\n"
          ],
          "name": "stdout"
        }
      ]
    },
    {
      "metadata": {
        "id": "xfd7IIlbDwtW",
        "colab_type": "code",
        "outputId": "ae34b905-a2a7-474c-ac23-6f9ea6a04cc9",
        "colab": {
          "base_uri": "https://localhost:8080/",
          "height": 67
        }
      },
      "cell_type": "code",
      "source": [
        "!ls"
      ],
      "execution_count": 0,
      "outputs": [
        {
          "output_type": "stream",
          "text": [
            "autoencoder8.h5      hdf5\t\t\t\tphaseTwo_ImageNet.ipynb\n",
            "embeddings_list.npy  phaseOne_Autoencoder.ipynb\t\tUntitled0.ipynb\n",
            "embeddings.npy\t     phaseTwo_generateEmbeddings.ipynb\n"
          ],
          "name": "stdout"
        }
      ]
    },
    {
      "metadata": {
        "id": "13JALIuLEFgj",
        "colab_type": "code",
        "outputId": "51aaf1d3-34c5-4c8b-ab33-5c6b6c023bc4",
        "colab": {
          "base_uri": "https://localhost:8080/",
          "height": 35
        }
      },
      "cell_type": "code",
      "source": [
        "cd /content/drive/My Drive"
      ],
      "execution_count": 0,
      "outputs": [
        {
          "output_type": "stream",
          "text": [
            "/content/drive/My Drive\n"
          ],
          "name": "stdout"
        }
      ]
    },
    {
      "metadata": {
        "id": "gb3fEC-AEJ0E",
        "colab_type": "code",
        "outputId": "41832d8f-94b1-4331-885f-803b0606a805",
        "colab": {
          "base_uri": "https://localhost:8080/",
          "height": 35
        }
      },
      "cell_type": "code",
      "source": [
        "!pwd"
      ],
      "execution_count": 0,
      "outputs": [
        {
          "output_type": "stream",
          "text": [
            "/content/drive/My Drive\n"
          ],
          "name": "stdout"
        }
      ]
    },
    {
      "metadata": {
        "id": "thwrfa-RELGl",
        "colab_type": "code",
        "outputId": "e302f77e-1630-445b-cef6-151b0f711f27",
        "colab": {
          "base_uri": "https://localhost:8080/",
          "height": 72
        }
      },
      "cell_type": "code",
      "source": [
        "!ls"
      ],
      "execution_count": 0,
      "outputs": [
        {
          "output_type": "stream",
          "text": [
            "autoencoder8.h5      hdf5\t\t\t\tphaseTwo_ImageNet.ipynb\n",
            "embeddings_list.npy  phaseOne_Autoencoder.ipynb\t\tUntitled0.ipynb\n",
            "embeddings.npy\t     phaseTwo_generateEmbeddings.ipynb\n"
          ],
          "name": "stdout"
        }
      ]
    },
    {
      "metadata": {
        "id": "StOuvWXiEMbU",
        "colab_type": "code",
        "colab": {}
      },
      "cell_type": "code",
      "source": [
        "!pip install -q keras"
      ],
      "execution_count": 0,
      "outputs": []
    },
    {
      "metadata": {
        "id": "rRQaElE3EWdj",
        "colab_type": "code",
        "outputId": "88bea31f-e390-4e5a-f907-95f9356cb05e",
        "colab": {
          "base_uri": "https://localhost:8080/",
          "height": 35
        }
      },
      "cell_type": "code",
      "source": [
        "import tensorflow as tf\n",
        "tf.test.gpu_device_name()"
      ],
      "execution_count": 0,
      "outputs": [
        {
          "output_type": "execute_result",
          "data": {
            "text/plain": [
              "'/device:GPU:0'"
            ]
          },
          "metadata": {
            "tags": []
          },
          "execution_count": 7
        }
      ]
    },
    {
      "metadata": {
        "id": "X1oGZCK-EdVu",
        "colab_type": "code",
        "outputId": "3e7c802b-c2b5-4a56-c9f7-665f9689b105",
        "colab": {
          "base_uri": "https://localhost:8080/",
          "height": 508
        }
      },
      "cell_type": "code",
      "source": [
        "from tensorflow.python.client import device_lib\n",
        "device_lib.list_local_devices()"
      ],
      "execution_count": 0,
      "outputs": [
        {
          "output_type": "execute_result",
          "data": {
            "text/plain": [
              "[name: \"/device:CPU:0\"\n",
              " device_type: \"CPU\"\n",
              " memory_limit: 268435456\n",
              " locality {\n",
              " }\n",
              " incarnation: 12201200498031237678, name: \"/device:XLA_CPU:0\"\n",
              " device_type: \"XLA_CPU\"\n",
              " memory_limit: 17179869184\n",
              " locality {\n",
              " }\n",
              " incarnation: 8316662964547154205\n",
              " physical_device_desc: \"device: XLA_CPU device\", name: \"/device:XLA_GPU:0\"\n",
              " device_type: \"XLA_GPU\"\n",
              " memory_limit: 17179869184\n",
              " locality {\n",
              " }\n",
              " incarnation: 7532586288982232412\n",
              " physical_device_desc: \"device: XLA_GPU device\", name: \"/device:GPU:0\"\n",
              " device_type: \"GPU\"\n",
              " memory_limit: 11281553818\n",
              " locality {\n",
              "   bus_id: 1\n",
              "   links {\n",
              "   }\n",
              " }\n",
              " incarnation: 13322309180961756119\n",
              " physical_device_desc: \"device: 0, name: Tesla K80, pci bus id: 0000:00:04.0, compute capability: 3.7\"]"
            ]
          },
          "metadata": {
            "tags": []
          },
          "execution_count": 8
        }
      ]
    },
    {
      "metadata": {
        "id": "SYc0RgVWEp2p",
        "colab_type": "text"
      },
      "cell_type": "markdown",
      "source": [
        "# **Autoencoder**\n",
        "\n",
        "## load trained autoencoder"
      ]
    },
    {
      "metadata": {
        "id": "54_j70mr7G_8",
        "colab_type": "code",
        "colab": {}
      },
      "cell_type": "code",
      "source": [
        "import matplotlib.pyplot as plt\n",
        "from mpl_toolkits.mplot3d import Axes3D"
      ],
      "execution_count": 0,
      "outputs": []
    },
    {
      "metadata": {
        "id": "Tj6fh2CTEuMt",
        "colab_type": "code",
        "outputId": "20b3d769-fa79-490c-f810-d067484dcf55",
        "colab": {
          "base_uri": "https://localhost:8080/",
          "height": 35
        }
      },
      "cell_type": "code",
      "source": [
        "import numpy as np\n",
        "import pandas as pd\n",
        "\n",
        "\n",
        "from keras.models import Sequential, Model, load_model\n",
        "from keras.layers.core import Dense, Activation, Flatten\n",
        "from keras.layers.embeddings import Embedding\n",
        "from keras.layers.recurrent import LSTM\n",
        "from keras.layers import Conv3D, Conv3DTranspose, Conv2D, Conv1D, MaxPooling1D, MaxPooling2D, Input, BatchNormalization, Dropout, Lambda, Bidirectional\n",
        "from keras.layers import CuDNNLSTM, Reshape, PReLU, ZeroPadding2D\n",
        "from keras.layers.merge import concatenate\n",
        "from keras.optimizers import RMSprop, Adam, SGD\n",
        "from keras.models import load_model\n",
        "from keras.callbacks import Callback\n",
        "from keras.utils import plot_model\n",
        "\n",
        "from keras.preprocessing import image\n",
        "import keras.backend as K\n",
        "\n",
        "import matplotlib.pyplot as plt\n",
        "\n",
        "import time \n",
        "import tensorflow as tf\n",
        "from sklearn import metrics\n",
        "import pickle\n",
        "import os\n",
        "import scipy.io as sio"
      ],
      "execution_count": 0,
      "outputs": [
        {
          "output_type": "stream",
          "text": [
            "Using TensorFlow backend.\n"
          ],
          "name": "stderr"
        }
      ]
    },
    {
      "metadata": {
        "id": "KrzJY3iCNkZu",
        "colab_type": "code",
        "colab": {}
      },
      "cell_type": "code",
      "source": [
        "import PIL"
      ],
      "execution_count": 0,
      "outputs": []
    },
    {
      "metadata": {
        "id": "ih69JsZtLrAp",
        "colab_type": "code",
        "colab": {}
      },
      "cell_type": "code",
      "source": [
        "\n",
        "np.random.seed(5)\n",
        "tf.set_random_seed(5)"
      ],
      "execution_count": 0,
      "outputs": []
    },
    {
      "metadata": {
        "id": "HpYyipkx18Xk",
        "colab_type": "code",
        "colab": {}
      },
      "cell_type": "code",
      "source": [
        "from keras.applications.vgg19 import VGG19, decode_predictions, preprocess_input"
      ],
      "execution_count": 0,
      "outputs": []
    },
    {
      "metadata": {
        "id": "-p6ixXbk2-ei",
        "colab_type": "code",
        "colab": {}
      },
      "cell_type": "code",
      "source": [
        "import h5py"
      ],
      "execution_count": 0,
      "outputs": []
    },
    {
      "metadata": {
        "id": "6gYyr6qJGGDa",
        "colab_type": "code",
        "colab": {}
      },
      "cell_type": "code",
      "source": [
        "def precision(y_true, y_pred):\n",
        "    \"\"\"Precision metric.\n",
        "    Only computes a batch-wise average of precision.\n",
        "    Computes the precision, a metric for multi-label classification of\n",
        "    how many selected items are relevant.\n",
        "    \"\"\"\n",
        "    true_positives = K.sum(K.round(K.clip(y_true * y_pred, 0, 1)))\n",
        "    predicted_positives = K.sum(K.round(K.clip(y_pred, 0, 1)))\n",
        "    precision = true_positives / (predicted_positives + K.epsilon())\n",
        "    return precision"
      ],
      "execution_count": 0,
      "outputs": []
    },
    {
      "metadata": {
        "id": "fyh2-x5UYuJC",
        "colab_type": "code",
        "outputId": "71db7dab-0d75-41cc-9d34-8638b2ef74cc",
        "colab": {
          "base_uri": "https://localhost:8080/",
          "height": 944
        }
      },
      "cell_type": "code",
      "source": [
        "#load trained model\n",
        "\n",
        "autoencoder_trained = load_model(\"autoencoder8.h5\", custom_objects = {\"precision\":precision})\n",
        "autoencoder_trained.summary()"
      ],
      "execution_count": 0,
      "outputs": [
        {
          "output_type": "stream",
          "text": [
            "_________________________________________________________________\n",
            "Layer (type)                 Output Shape              Param #   \n",
            "=================================================================\n",
            "input_ac (InputLayer)        (None, 20, 20, 20, 1)     0         \n",
            "_________________________________________________________________\n",
            "conv1_ac (Conv3D)            (None, 14, 14, 14, 96)    33024     \n",
            "_________________________________________________________________\n",
            "p_re_lu_1 (PReLU)            (None, 14, 14, 14, 96)    263424    \n",
            "_________________________________________________________________\n",
            "conv2_ac (Conv3D)            (None, 10, 10, 10, 256)   3072256   \n",
            "_________________________________________________________________\n",
            "p_re_lu_2 (PReLU)            (None, 10, 10, 10, 256)   256000    \n",
            "_________________________________________________________________\n",
            "conv3_ac (Conv3D)            (None, 8, 8, 8, 384)      2654592   \n",
            "_________________________________________________________________\n",
            "p_re_lu_3 (PReLU)            (None, 8, 8, 8, 384)      196608    \n",
            "_________________________________________________________________\n",
            "conv4_ac (Conv3D)            (None, 6, 6, 6, 256)      2654464   \n",
            "_________________________________________________________________\n",
            "p_re_lu_4 (PReLU)            (None, 6, 6, 6, 256)      55296     \n",
            "_________________________________________________________________\n",
            "flat_ac (Flatten)            (None, 55296)             0         \n",
            "_________________________________________________________________\n",
            "dense1_ac (Dense)            (None, 64)                3539008   \n",
            "_________________________________________________________________\n",
            "dense2_ac (Dense)            (None, 216)               14040     \n",
            "_________________________________________________________________\n",
            "reshape_ac (Reshape)         (None, 6, 6, 6, 1)        0         \n",
            "_________________________________________________________________\n",
            "deconv1_ac (Conv3DTranspose) (None, 8, 8, 8, 256)      7168      \n",
            "_________________________________________________________________\n",
            "p_re_lu_5 (PReLU)            (None, 8, 8, 8, 256)      131072    \n",
            "_________________________________________________________________\n",
            "deconv2_ac (Conv3DTranspose) (None, 10, 10, 10, 384)   2654592   \n",
            "_________________________________________________________________\n",
            "p_re_lu_6 (PReLU)            (None, 10, 10, 10, 384)   384000    \n",
            "_________________________________________________________________\n",
            "deconv3_ac (Conv3DTranspose) (None, 14, 14, 14, 256)   12288256  \n",
            "_________________________________________________________________\n",
            "p_re_lu_7 (PReLU)            (None, 14, 14, 14, 256)   702464    \n",
            "_________________________________________________________________\n",
            "deconv4_ac (Conv3DTranspose) (None, 20, 20, 20, 96)    8429664   \n",
            "_________________________________________________________________\n",
            "p_re_lu_8 (PReLU)            (None, 20, 20, 20, 96)    768000    \n",
            "_________________________________________________________________\n",
            "output_ac (Conv3DTranspose)  (None, 20, 20, 20, 1)     97        \n",
            "=================================================================\n",
            "Total params: 38,104,025\n",
            "Trainable params: 38,104,025\n",
            "Non-trainable params: 0\n",
            "_________________________________________________________________\n"
          ],
          "name": "stdout"
        }
      ]
    },
    {
      "metadata": {
        "id": "fxchSmfa2O6S",
        "colab_type": "text"
      },
      "cell_type": "markdown",
      "source": [
        "# **Encoder**\n",
        "\n",
        "## izdvajanje samo prvog dijela treniranog autoencodera, tj. izdvajanje encodera"
      ]
    },
    {
      "metadata": {
        "id": "CYN-jEbK13-c",
        "colab_type": "code",
        "colab": {}
      },
      "cell_type": "code",
      "source": [
        "# definiranje Encodera, iz prvog dijela treniranog Autoencoder\n",
        "\n",
        "def Encoder(autoencoder_model):\n",
        "    \n",
        "    input_vox = Input(shape=(20,20,20,1,), name = \"input_ac\")\n",
        "    conv1 = Conv3D(96, 7, name = \"conv1_ac\")(input_vox)\n",
        "    act1 = PReLU(name = \"p_re_lu_1\")(conv1)\n",
        "    conv2 = Conv3D(256, 5, name = \"conv2_ac\")(act1)\n",
        "    act2 = PReLU(name = \"p_re_lu_2\")(conv2)\n",
        "    conv3 = Conv3D(384, 3, name = \"conv3_ac\")(act2)\n",
        "    act3 = PReLU(name = \"p_re_lu_3\")(conv3)\n",
        "    conv4 = Conv3D(256, 3, name = \"conv4_ac\")(act3)\n",
        "    act4 = PReLU(name = \"p_re_lu_4\")(conv4)\n",
        "\n",
        "    flat = Flatten(name = \"flat_ac\")(act4)\n",
        "    out_embedding = Dense(64, name = \"dense1_ac\")(flat)\n",
        "    \n",
        "    encoder = Model(inputs = input_vox, outputs = out_embedding)\n",
        "    \n",
        "    print(\"Učitavanje težina...\")\n",
        "    for enc_layer in encoder.layers:\n",
        "        try:\n",
        "            enc_layer.set_weights(autoencoder_model.get_layer(enc_layer.name).get_weights())\n",
        "        except ValueError:\n",
        "            print(\"Nema layera: \", enc_layer.name)\n",
        "            \n",
        "        \n",
        "    print(\"Kontrola težina...\")\n",
        "    for enc_layer in encoder.layers:\n",
        "        try:\n",
        "            print(enc_layer.name)\n",
        "            if len(autoencoder_model.get_layer(enc_layer.name).get_weights()) == 0: \n",
        "                print(\"Nista.\")\n",
        "                continue\n",
        "            print((autoencoder_model.get_layer(enc_layer.name).get_weights()[0] == encoder.get_layer(enc_layer.name).get_weights()[0]).all())\n",
        "            if len(autoencoder_model.get_layer(enc_layer.name).get_weights()) > 1:\n",
        "                print((autoencoder_model.get_layer(enc_layer.name).get_weights()[1] == encoder.get_layer(enc_layer.name).get_weights()[1]).all())\n",
        "        except ValueError:\n",
        "            print(\"Nema layera \", enc_layer.name)\n",
        "    return encoder"
      ],
      "execution_count": 0,
      "outputs": []
    },
    {
      "metadata": {
        "id": "WVRHCSQZ2DaZ",
        "colab_type": "code",
        "outputId": "b0f07730-defb-4c62-fe1e-46f4f9296efe",
        "colab": {
          "base_uri": "https://localhost:8080/",
          "height": 544
        }
      },
      "cell_type": "code",
      "source": [
        "encoder = Encoder(autoencoder_trained)"
      ],
      "execution_count": 0,
      "outputs": [
        {
          "output_type": "stream",
          "text": [
            "Učitavanje težina...\n",
            "Kontrola težina...\n",
            "input_ac\n",
            "Nista.\n",
            "conv1_ac\n",
            "True\n",
            "True\n",
            "p_re_lu_1\n",
            "True\n",
            "conv2_ac\n",
            "True\n",
            "True\n",
            "p_re_lu_2\n",
            "True\n",
            "conv3_ac\n",
            "True\n",
            "True\n",
            "p_re_lu_3\n",
            "True\n",
            "conv4_ac\n",
            "True\n",
            "True\n",
            "p_re_lu_4\n",
            "True\n",
            "flat_ac\n",
            "Nista.\n",
            "dense1_ac\n",
            "True\n",
            "True\n"
          ],
          "name": "stdout"
        }
      ]
    },
    {
      "metadata": {
        "id": "4Us9kYR35iE1",
        "colab_type": "code",
        "outputId": "48c34782-0861-4bab-9f55-1529269b2963",
        "colab": {
          "base_uri": "https://localhost:8080/",
          "height": 35
        }
      },
      "cell_type": "code",
      "source": [
        "len(os.listdir(\"/content/drive/My Drive/hdf5\"))"
      ],
      "execution_count": 0,
      "outputs": [
        {
          "output_type": "execute_result",
          "data": {
            "text/plain": [
              "101"
            ]
          },
          "metadata": {
            "tags": []
          },
          "execution_count": 19
        }
      ]
    },
    {
      "metadata": {
        "id": "_D4SBT2ljG3I",
        "colab_type": "code",
        "outputId": "e4955a5c-3a0a-4a38-b798-fbc313612d68",
        "colab": {
          "base_uri": "https://localhost:8080/",
          "height": 1852
        }
      },
      "cell_type": "code",
      "source": [
        "listdir = os.listdir(\"/content/drive/My Drive/hdf5\")\n",
        "\n",
        "import re\n",
        "def sorted_aphanumeric(data):\n",
        "    convert = lambda text: int(text) if text.isdigit() else text.lower()\n",
        "    alphanum_key = lambda key: [ convert(c) for c in re.split('([0-9]+)', key) ] \n",
        "    return sorted(data, key=alphanum_key)\n",
        "  \n",
        "listdir_sorted = sorted_aphanumeric(listdir)\n",
        "listdir_sorted"
      ],
      "execution_count": 0,
      "outputs": [
        {
          "output_type": "execute_result",
          "data": {
            "text/plain": [
              "['batch_0.h5',\n",
              " 'batch_1.h5',\n",
              " 'batch_2.h5',\n",
              " 'batch_3.h5',\n",
              " 'batch_4.h5',\n",
              " 'batch_5.h5',\n",
              " 'batch_6.h5',\n",
              " 'batch_7.h5',\n",
              " 'batch_8.h5',\n",
              " 'batch_9.h5',\n",
              " 'batch_10.h5',\n",
              " 'batch_11.h5',\n",
              " 'batch_12.h5',\n",
              " 'batch_13.h5',\n",
              " 'batch_14.h5',\n",
              " 'batch_15.h5',\n",
              " 'batch_16.h5',\n",
              " 'batch_17.h5',\n",
              " 'batch_18.h5',\n",
              " 'batch_19.h5',\n",
              " 'batch_20.h5',\n",
              " 'batch_21.h5',\n",
              " 'batch_22.h5',\n",
              " 'batch_23.h5',\n",
              " 'batch_24.h5',\n",
              " 'batch_25.h5',\n",
              " 'batch_26.h5',\n",
              " 'batch_27.h5',\n",
              " 'batch_28.h5',\n",
              " 'batch_29.h5',\n",
              " 'batch_30.h5',\n",
              " 'batch_31.h5',\n",
              " 'batch_32.h5',\n",
              " 'batch_33.h5',\n",
              " 'batch_34.h5',\n",
              " 'batch_35.h5',\n",
              " 'batch_36.h5',\n",
              " 'batch_37.h5',\n",
              " 'batch_38.h5',\n",
              " 'batch_39.h5',\n",
              " 'batch_40.h5',\n",
              " 'batch_41.h5',\n",
              " 'batch_42.h5',\n",
              " 'batch_43.h5',\n",
              " 'batch_44.h5',\n",
              " 'batch_45.h5',\n",
              " 'batch_46.h5',\n",
              " 'batch_47.h5',\n",
              " 'batch_48.h5',\n",
              " 'batch_49.h5',\n",
              " 'batch_50.h5',\n",
              " 'batch_51.h5',\n",
              " 'batch_52.h5',\n",
              " 'batch_53.h5',\n",
              " 'batch_54.h5',\n",
              " 'batch_55.h5',\n",
              " 'batch_56.h5',\n",
              " 'batch_57.h5',\n",
              " 'batch_58.h5',\n",
              " 'batch_59.h5',\n",
              " 'batch_60.h5',\n",
              " 'batch_61.h5',\n",
              " 'batch_62.h5',\n",
              " 'batch_63.h5',\n",
              " 'batch_64.h5',\n",
              " 'batch_65.h5',\n",
              " 'batch_66.h5',\n",
              " 'batch_67.h5',\n",
              " 'batch_68.h5',\n",
              " 'batch_69.h5',\n",
              " 'batch_70.h5',\n",
              " 'batch_71.h5',\n",
              " 'batch_72.h5',\n",
              " 'batch_73.h5',\n",
              " 'batch_74.h5',\n",
              " 'batch_75.h5',\n",
              " 'batch_76.h5',\n",
              " 'batch_77.h5',\n",
              " 'batch_78.h5',\n",
              " 'batch_79.h5',\n",
              " 'batch_80.h5',\n",
              " 'batch_81.h5',\n",
              " 'batch_82.h5',\n",
              " 'batch_83.h5',\n",
              " 'batch_84.h5',\n",
              " 'batch_85.h5',\n",
              " 'batch_86.h5',\n",
              " 'batch_87.h5',\n",
              " 'batch_88.h5',\n",
              " 'batch_89.h5',\n",
              " 'batch_90.h5',\n",
              " 'batch_91.h5',\n",
              " 'batch_92.h5',\n",
              " 'batch_93.h5',\n",
              " 'batch_94.h5',\n",
              " 'batch_95.h5',\n",
              " 'batch_96.h5',\n",
              " 'batch_97.h5',\n",
              " 'batch_98.h5',\n",
              " 'batch_99.h5',\n",
              " 'batch_100.h5']"
            ]
          },
          "metadata": {
            "tags": []
          },
          "execution_count": 20
        }
      ]
    },
    {
      "metadata": {
        "id": "zc5V0A7dNdlJ",
        "colab_type": "code",
        "colab": {}
      },
      "cell_type": "code",
      "source": [
        "def generate_batches_embedding(filepath):\n",
        "  while True:\n",
        "    for batch_file in listdir_sorted:\n",
        "      f = h5py.File(filepath+\"/\"+batch_file)\n",
        "      #images = f['data'].value\n",
        "      #images = np.swapaxes(images, 1, 3) # swap axis, channel should be last\n",
        "      voxels = f['label-voxel'].value\n",
        "      voxels = np.swapaxes(voxels, 1, 4)\n",
        "      \n",
        "      yield voxels"
      ],
      "execution_count": 0,
      "outputs": []
    },
    {
      "metadata": {
        "id": "EjwcEgjx3BTy",
        "colab_type": "code",
        "outputId": "69209727-4c86-49ff-d8ad-0fd614f3ee3b",
        "colab": {
          "base_uri": "https://localhost:8080/",
          "height": 53
        }
      },
      "cell_type": "code",
      "source": [
        "# prediktanje pomocu generatora, problem sto sve stavi u isti array...\n",
        "# sejvano u AC_embeddings.npy\n",
        "embeddings = encoder.predict_generator(generate_batches_embedding(\"/content/drive/My Drive/hdf5\"), steps = 101, use_multiprocessing = True, verbose = 1)\n",
        "embeddings.shape"
      ],
      "execution_count": 0,
      "outputs": [
        {
          "output_type": "stream",
          "text": [
            "101/101 [==============================] - 79s 779ms/step\n"
          ],
          "name": "stdout"
        },
        {
          "output_type": "execute_result",
          "data": {
            "text/plain": [
              "(20056, 64)"
            ]
          },
          "metadata": {
            "tags": []
          },
          "execution_count": 27
        }
      ]
    },
    {
      "metadata": {
        "id": "5kA81zogj_vL",
        "colab_type": "code",
        "outputId": "0166e498-aadc-4c3c-c394-4626b9e88b7c",
        "colab": {
          "base_uri": "https://localhost:8080/",
          "height": 253
        }
      },
      "cell_type": "code",
      "source": [
        "embeddings"
      ],
      "execution_count": 0,
      "outputs": [
        {
          "output_type": "execute_result",
          "data": {
            "text/plain": [
              "array([[-11.7458935 , -10.152479  , -14.98231   , ..., -14.835023  ,\n",
              "          4.306768  , -15.785215  ],\n",
              "       [  1.7940768 ,   0.5956671 , -11.05381   , ...,  -2.6179147 ,\n",
              "         -1.036053  , -12.755989  ],\n",
              "       [-18.71303   , -22.291632  ,  -7.1848354 , ..., -15.208323  ,\n",
              "         -4.3542786 ,  -6.375044  ],\n",
              "       ...,\n",
              "       [-16.29517   , -23.261217  ,  -3.1317303 , ..., -16.611673  ,\n",
              "          3.3800707 ,  -4.042325  ],\n",
              "       [-12.140161  ,  -5.451047  , -11.566293  , ...,  -8.997949  ,\n",
              "         -0.12947914,  -8.149326  ],\n",
              "       [-12.962855  ,  -2.3739915 ,   6.7128553 , ...,  -1.8349651 ,\n",
              "          3.5588815 ,  -7.388445  ]], dtype=float32)"
            ]
          },
          "metadata": {
            "tags": []
          },
          "execution_count": 28
        }
      ]
    },
    {
      "metadata": {
        "id": "Aqp88kx1HN9p",
        "colab_type": "code",
        "outputId": "5b9d3f5e-90cb-4d4f-86b5-3be85ed32839",
        "colab": {
          "base_uri": "https://localhost:8080/",
          "height": 55
        }
      },
      "cell_type": "code",
      "source": [
        "# ovako imam listu embeddinga, za svaki batch zasebno! bolje\n",
        "predicted_embeddings = []\n",
        "\n",
        "i = 0\n",
        "for batch_file in listdir_sorted:\n",
        "  f = h5py.File(\"/content/drive/My Drive/hdf5\"+\"/\"+batch_file)\n",
        "  voxels = f['label-voxel'].value\n",
        "  voxels = np.swapaxes(voxels, 1, 4)\n",
        "  predicted_embeddings.append(encoder.predict_on_batch(voxels))\n",
        "  print(i, end = \" \")\n",
        "  i += 1\n",
        "  \n",
        "  "
      ],
      "execution_count": 0,
      "outputs": [
        {
          "output_type": "stream",
          "text": [
            "0 1 2 3 4 5 6 7 8 9 10 11 12 13 14 15 16 17 18 19 20 21 22 23 24 25 26 27 28 29 30 31 32 33 34 35 36 37 38 39 40 41 42 43 44 45 46 47 48 49 50 51 52 53 54 55 56 57 58 59 60 61 62 63 64 65 66 67 68 69 70 71 72 73 74 75 76 77 78 79 80 81 82 83 84 85 86 87 88 89 90 91 92 93 94 95 96 97 98 99 100 "
          ],
          "name": "stdout"
        }
      ]
    },
    {
      "metadata": {
        "id": "9cjZ_o7hGrlv",
        "colab_type": "code",
        "outputId": "dc78fc9f-524f-4569-bab6-1eb30ea13b97",
        "colab": {
          "base_uri": "https://localhost:8080/",
          "height": 35
        }
      },
      "cell_type": "code",
      "source": [
        "len(predicted_embeddings)"
      ],
      "execution_count": 0,
      "outputs": [
        {
          "output_type": "execute_result",
          "data": {
            "text/plain": [
              "101"
            ]
          },
          "metadata": {
            "tags": []
          },
          "execution_count": 22
        }
      ]
    },
    {
      "metadata": {
        "id": "swsZEkX-np7i",
        "colab_type": "code",
        "outputId": "50c65fb6-1ce7-4676-f0c4-036999d9b0ca",
        "colab": {
          "base_uri": "https://localhost:8080/",
          "height": 35
        }
      },
      "cell_type": "code",
      "source": [
        "predicted_embeddings = np.array(predicted_embeddings)\n",
        "predicted_embeddings.shape"
      ],
      "execution_count": 0,
      "outputs": [
        {
          "output_type": "execute_result",
          "data": {
            "text/plain": [
              "(101,)"
            ]
          },
          "metadata": {
            "tags": []
          },
          "execution_count": 23
        }
      ]
    },
    {
      "metadata": {
        "id": "2EW5WYi-SnN5",
        "colab_type": "code",
        "colab": {}
      },
      "cell_type": "code",
      "source": [
        "np.save(\"embeddings_list.npy\", predicted_embeddings)"
      ],
      "execution_count": 0,
      "outputs": []
    },
    {
      "metadata": {
        "id": "lg3Orx4qIr6z",
        "colab_type": "code",
        "colab": {}
      },
      "cell_type": "code",
      "source": [
        "np.save(\"embeddings.npy\", embeddings)"
      ],
      "execution_count": 0,
      "outputs": []
    },
    {
      "metadata": {
        "id": "9JAIKBZSleTM",
        "colab_type": "code",
        "colab": {}
      },
      "cell_type": "code",
      "source": [
        "from google.colab import files\n",
        "files.download(\"embeddings_list.npy\")"
      ],
      "execution_count": 0,
      "outputs": []
    },
    {
      "metadata": {
        "id": "kv7i3H7HE0Dh",
        "colab_type": "code",
        "outputId": "1c0f5e89-2beb-41ee-bc1d-9bcdf2a0c87d",
        "colab": {
          "base_uri": "https://localhost:8080/",
          "height": 72
        }
      },
      "cell_type": "code",
      "source": [
        "!ls"
      ],
      "execution_count": 0,
      "outputs": [
        {
          "output_type": "stream",
          "text": [
            "autoencoder8.h5      hdf5\t\t\t\tphaseTwo_ImageNet.ipynb\n",
            "embeddings_list.npy  phaseOne_Autoencoder.ipynb\t\tUntitled0.ipynb\n",
            "embeddings.npy\t     phaseTwo_generateEmbeddings.ipynb\n"
          ],
          "name": "stdout"
        }
      ]
    },
    {
      "metadata": {
        "id": "t6BgSTooYeqt",
        "colab_type": "code",
        "colab": {}
      },
      "cell_type": "code",
      "source": [
        ""
      ],
      "execution_count": 0,
      "outputs": []
    },
    {
      "metadata": {
        "id": "THsP1xxRYelO",
        "colab_type": "code",
        "colab": {}
      },
      "cell_type": "code",
      "source": [
        ""
      ],
      "execution_count": 0,
      "outputs": []
    },
    {
      "metadata": {
        "id": "tKt3GIm36jUs",
        "colab_type": "code",
        "outputId": "2f87df1f-3e0e-43eb-9d85-45e05d300a11",
        "colab": {
          "base_uri": "https://localhost:8080/",
          "height": 35
        }
      },
      "cell_type": "code",
      "source": [
        "!kill"
      ],
      "execution_count": 0,
      "outputs": [
        {
          "output_type": "stream",
          "text": [
            "kill: usage: kill [-s sigspec | -n signum | -sigspec] pid | jobspec ... or kill -l [sigspec]\n"
          ],
          "name": "stdout"
        }
      ]
    },
    {
      "metadata": {
        "id": "443Xq0DU6oNV",
        "colab_type": "code",
        "colab": {}
      },
      "cell_type": "code",
      "source": [
        "!kill -9 -1"
      ],
      "execution_count": 0,
      "outputs": []
    },
    {
      "metadata": {
        "id": "8nyWMKzC3UKh",
        "colab_type": "code",
        "colab": {}
      },
      "cell_type": "code",
      "source": [
        ""
      ],
      "execution_count": 0,
      "outputs": []
    }
  ]
}