{
 "cells": [
  {
   "cell_type": "code",
   "execution_count": 1,
   "metadata": {},
   "outputs": [],
   "source": [
    "import matplotlib.pyplot as plt\n",
    "import numpy as np\n",
    "\n",
    "# slike prikazuju van notebooka \n",
    "%matplotlib qt\n",
    "\n",
    "from mayavi import mlab\n",
    "import pickle\n",
    "\n",
    "import scipy.io as sio"
   ]
  },
  {
   "cell_type": "code",
   "execution_count": 2,
   "metadata": {},
   "outputs": [],
   "source": [
    "#mlab.init_notebook()"
   ]
  },
  {
   "cell_type": "code",
   "execution_count": 3,
   "metadata": {},
   "outputs": [
    {
     "data": {
      "text/plain": [
       "<mayavi.modules.surface.Surface at 0x28d21313b48>"
      ]
     },
     "execution_count": 3,
     "metadata": {},
     "output_type": "execute_result"
    }
   ],
   "source": [
    "s = mlab.test_plot3d()\n",
    "s"
   ]
  },
  {
   "cell_type": "code",
   "execution_count": 2,
   "metadata": {},
   "outputs": [
    {
     "data": {
      "text/plain": [
       "<mayavi.modules.text.Text at 0x22be1ddba40>"
      ]
     },
     "execution_count": 2,
     "metadata": {},
     "output_type": "execute_result"
    }
   ],
   "source": [
    "# testiranje jel mayavi ispravno radi\n",
    "s = mlab.test_plot3d()\n",
    "s\n",
    "mlab.title(\"Test voxel plot.\")"
   ]
  },
  {
   "cell_type": "code",
   "execution_count": 3,
   "metadata": {},
   "outputs": [],
   "source": [
    "fig1 = mlab.figure()\n",
    "\n",
    "# random kocka..\n",
    "x, y, z, value = np.random.random((4, 40))\n",
    "nj = mlab.points3d(x, y, z, value, figure = fig1)"
   ]
  },
  {
   "cell_type": "code",
   "execution_count": 17,
   "metadata": {},
   "outputs": [
    {
     "data": {
      "text/plain": [
       "<mayavi.core.lut_manager.LUTManager at 0x22b8013b048>"
      ]
     },
     "execution_count": 17,
     "metadata": {},
     "output_type": "execute_result"
    }
   ],
   "source": [
    "# ucitavanje modela kauča\n",
    "njnj = sio.loadmat(\"10.mat\")\n",
    "njnj = njnj[\"grid\"]\n",
    "\n",
    "# random vrijednosti svakom voxelu\n",
    "value = np.random.random((20,20,20))\n",
    "\n",
    "\n",
    "fig2 = mlab.figure()\n",
    "nj = mlab.points3d(njnj, mode = \"cube\", opacity = 0.8, figure = fig2)\n",
    "mlab.title(\"Model kauča s random predikcijom.\")\n",
    "mlab.colorbar()"
   ]
  },
  {
   "cell_type": "code",
   "execution_count": 4,
   "metadata": {},
   "outputs": [],
   "source": [
    "# ucitavanje prediciranog modela stola pomocu jednostavnog autoencodera u KerasModeli.ipynb\n",
    "with open('predikt.pickle', 'rb') as handle:\n",
    "    b = pickle.load(handle)"
   ]
  },
  {
   "cell_type": "code",
   "execution_count": 5,
   "metadata": {},
   "outputs": [],
   "source": [
    "# ucitavanje ground truth stola\n",
    "with open('test_sample.pickle', 'rb') as handle:\n",
    "    c = pickle.load(handle)"
   ]
  },
  {
   "cell_type": "code",
   "execution_count": 6,
   "metadata": {},
   "outputs": [
    {
     "data": {
      "text/plain": [
       "<mayavi.core.lut_manager.LUTManager at 0x22be20cedb0>"
      ]
     },
     "execution_count": 6,
     "metadata": {},
     "output_type": "execute_result"
    }
   ],
   "source": [
    "\n",
    "fig2 = mlab.figure()\n",
    "nj2 = mlab.points3d(b, mode = \"cube\", figure = fig2)\n",
    "mlab.title(\"Predikcija modela stola pomocu autoencodera.\")\n",
    "mlab.axes()\n",
    "mlab.outline()\n",
    "mlab.colorbar()"
   ]
  },
  {
   "cell_type": "code",
   "execution_count": 10,
   "metadata": {},
   "outputs": [
    {
     "data": {
      "text/plain": [
       "<mayavi.core.lut_manager.LUTManager at 0x22b83f4d468>"
      ]
     },
     "execution_count": 10,
     "metadata": {},
     "output_type": "execute_result"
    }
   ],
   "source": [
    "# predicirano i origigi\n",
    "\n",
    "fig2 = mlab.figure()\n",
    "nj2 = mlab.points3d(c, mode = \"cube\", figure = fig2, opacity = 0.2)\n",
    "nj3 = mlab.points3d(b, mode = \"cube\", figure = fig2)\n",
    "mlab.title(\"Predikcija modela stola pomocu autoencodera. Crno su groundtruth podaci\")\n",
    "mlab.axes()\n",
    "mlab.outline()\n",
    "mlab.colorbar()"
   ]
  },
  {
   "cell_type": "code",
   "execution_count": 15,
   "metadata": {},
   "outputs": [
    {
     "data": {
      "text/plain": [
       "<mayavi.core.lut_manager.LUTManager at 0x22b87519ca8>"
      ]
     },
     "execution_count": 15,
     "metadata": {},
     "output_type": "execute_result"
    }
   ],
   "source": [
    "fig3 = mlab.figure()\n",
    "nj4 = mlab.points3d(np.abs(c-b), mode = \"cube\", figure = fig3)\n",
    "mlab.title(\"Razlika predikcije i groundtruth.\")\n",
    "mlab.axes()\n",
    "mlab.outline()\n",
    "mlab.colorbar()"
   ]
  },
  {
   "cell_type": "code",
   "execution_count": 11,
   "metadata": {},
   "outputs": [
    {
     "data": {
      "text/plain": [
       "(20, 20, 20)"
      ]
     },
     "execution_count": 11,
     "metadata": {},
     "output_type": "execute_result"
    }
   ],
   "source": [
    "njnj.shape"
   ]
  },
  {
   "cell_type": "code",
   "execution_count": 12,
   "metadata": {},
   "outputs": [
    {
     "name": "stdout",
     "output_type": "stream",
     "text": [
      "Help on function the_function in module mayavi.tools.helper_functions:\n",
      "\n",
      "the_function(*args, **kwargs)\n",
      "    Plots glyphs (like points) at the position of the supplied data.\n",
      "    \n",
      "    **Function signatures**::\n",
      "    \n",
      "        points3d(x, y, z...)\n",
      "        points3d(x, y, z, s, ...)\n",
      "        points3d(x, y, z, f, ...)\n",
      "    \n",
      "    x, y and z are numpy arrays, or lists, all of the same shape, giving\n",
      "    the positions of the points.\n",
      "    \n",
      "    If only 3 arrays x, y, z are given, all the points are drawn with the\n",
      "    same size and color.\n",
      "    \n",
      "    In addition, you can pass a fourth array s of the same\n",
      "    shape as x, y, and z giving an associated scalar value for each\n",
      "    point, or a function f(x, y, z) returning the scalar value. This\n",
      "    scalar value can be used to modulate the color and the size of the\n",
      "    points.\n",
      "    \n",
      "    **Keyword arguments:**\n",
      "    \n",
      "        :color: the color of the vtk object. Overides the colormap,\n",
      "                if any, when specified. This is specified as a\n",
      "                triplet of float ranging from 0 to 1, eg (1, 1,\n",
      "                1) for white.\n",
      "                \n",
      "        :colormap: type of colormap to use.\n",
      "                   \n",
      "        :extent: [xmin, xmax, ymin, ymax, zmin, zmax]\n",
      "                 Default is the x, y, z arrays extent. Use\n",
      "                 this to change the extent of the object\n",
      "                 created.\n",
      "                 \n",
      "        :figure: Figure to populate.\n",
      "                 \n",
      "        :line_width:  The width of the lines, if any used. Must be a float.\n",
      "                     Default: 2.0\n",
      "                     \n",
      "        :mask_points: If supplied, only one out of 'mask_points' data point is\n",
      "                      displayed. This option is useful to reduce the number of\n",
      "                      points displayed on large datasets Must be an integer\n",
      "                      (int or long) or None.\n",
      "                      \n",
      "        :mode: the mode of the glyphs. Must be '2darrow' or '2dcircle' or\n",
      "               '2dcross' or '2ddash' or '2ddiamond' or '2dhooked_arrow' or\n",
      "               '2dsquare' or '2dthick_arrow' or '2dthick_cross' or\n",
      "               '2dtriangle' or '2dvertex' or 'arrow' or 'axes' or 'cone' or\n",
      "               'cube' or 'cylinder' or 'point' or 'sphere'. Default: sphere\n",
      "               \n",
      "        :name: the name of the vtk object created.\n",
      "               \n",
      "        :opacity: The overall opacity of the vtk object. Must be a float.\n",
      "                  Default: 1.0\n",
      "                  \n",
      "        :reset_zoom: Reset the zoom to accomodate the data newly\n",
      "                     added to the scene. Defaults to True.\n",
      "                     \n",
      "        :resolution: The resolution of the glyph created. For spheres, for\n",
      "                     instance, this is the number of divisions along theta and\n",
      "                     phi. Must be an integer (int or long). Default: 8\n",
      "                     \n",
      "        :scale_factor: The scaling applied to the glyphs. the size of the\n",
      "                       glyph is by default calculated from the inter-glyph\n",
      "                       spacing. Specify a float to give the maximum glyph size\n",
      "                       in drawing units\n",
      "                       \n",
      "        :scale_mode: the scaling mode for the glyphs\n",
      "                     ('vector', 'scalar', or 'none').\n",
      "                     \n",
      "        :transparent: make the opacity of the actor depend on the\n",
      "                      scalar.\n",
      "                      \n",
      "        :vmax: vmax is used to scale the colormap.\n",
      "               If None, the max of the data will be used\n",
      "               \n",
      "        :vmin: vmin is used to scale the colormap.\n",
      "               If None, the min of the data will be used\n",
      "\n"
     ]
    }
   ],
   "source": [
    "help(mlab.points3d)"
   ]
  },
  {
   "cell_type": "code",
   "execution_count": null,
   "metadata": {},
   "outputs": [],
   "source": []
  }
 ],
 "metadata": {
  "kernelspec": {
   "display_name": "Python [conda env:tensorflowGPU]",
   "language": "python",
   "name": "conda-env-tensorflowGPU-py"
  },
  "language_info": {
   "codemirror_mode": {
    "name": "ipython",
    "version": 3
   },
   "file_extension": ".py",
   "mimetype": "text/x-python",
   "name": "python",
   "nbconvert_exporter": "python",
   "pygments_lexer": "ipython3",
   "version": "3.6.7"
  }
 },
 "nbformat": 4,
 "nbformat_minor": 2
}
